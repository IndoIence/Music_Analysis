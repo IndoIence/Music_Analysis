{
 "cells": [
  {
   "cell_type": "code",
   "execution_count": 3,
   "metadata": {
    "collapsed": true,
    "ExecuteTime": {
     "end_time": "2023-06-23T12:15:11.330534599Z",
     "start_time": "2023-06-23T12:15:11.325016860Z"
    }
   },
   "outputs": [
    {
     "data": {
      "text/plain": "<lyricsgenius.genius.Genius at 0x7f7eb44f5d00>"
     },
     "execution_count": 3,
     "metadata": {},
     "output_type": "execute_result"
    }
   ],
   "source": [
    "token = '6G95_WJrA_dY6h0D7JRGiE-vvvuU3L1rcltJihJQWL6TgbLokLbLUJ-4ihimBJfV'\n",
    "\n",
    "import lyricsgenius\n",
    "genius = lyricsgenius.Genius(token)\n",
    "genius"
   ]
  },
  {
   "cell_type": "code",
   "execution_count": 5,
   "outputs": [
    {
     "name": "stdout",
     "output_type": "stream",
     "text": [
      "Searching for songs by Lana Del Ray...\n",
      "\n",
      "Changing artist name to 'Lana Del Rey'\n",
      "Song 1: \"13 Beaches\"\n",
      "Song 2: \"1949\"\n",
      "Song 3: \"1949 (Demo)\"\n",
      "Song 4: \"24\"\n",
      "Song 5: \"4th of July\"\n",
      "Song 6: \"80's Baby\"\n",
      "Song 7: \"Afraid\"\n",
      "Song 8: \"Afraid (Version 2)\"\n",
      "Song 9: \"All over us\"\n",
      "Song 10: \"All Smiles\"\n",
      "\n",
      "Reached user-specified song limit (10).\n",
      "Done. Found 10 songs.\n"
     ]
    }
   ],
   "source": [
    "artist = genius.search_artist(\"Lana Del Ray\", max_songs=10, sort='title')"
   ],
   "metadata": {
    "collapsed": false,
    "ExecuteTime": {
     "end_time": "2023-06-23T12:16:37.383166788Z",
     "start_time": "2023-06-23T12:16:03.159123826Z"
    }
   }
  },
  {
   "cell_type": "code",
   "execution_count": 7,
   "outputs": [
    {
     "data": {
      "text/plain": "Song(id, artist, ...)"
     },
     "execution_count": 7,
     "metadata": {},
     "output_type": "execute_result"
    }
   ],
   "source": [
    "artist.songs[1]"
   ],
   "metadata": {
    "collapsed": false,
    "ExecuteTime": {
     "end_time": "2023-06-23T12:16:51.694525130Z",
     "start_time": "2023-06-23T12:16:51.691962886Z"
    }
   }
  },
  {
   "cell_type": "code",
   "execution_count": 9,
   "outputs": [
    {
     "data": {
      "text/plain": "['__abstractmethods__',\n '__class__',\n '__cmp__',\n '__delattr__',\n '__dict__',\n '__dir__',\n '__doc__',\n '__eq__',\n '__format__',\n '__ge__',\n '__getattribute__',\n '__gt__',\n '__hash__',\n '__init__',\n '__init_subclass__',\n '__le__',\n '__lt__',\n '__module__',\n '__ne__',\n '__new__',\n '__reduce__',\n '__reduce_ex__',\n '__repr__',\n '__setattr__',\n '__sizeof__',\n '__slots__',\n '__str__',\n '__subclasshook__',\n '__weakref__',\n '_abc_impl',\n '_body',\n '_client',\n 'annotation_count',\n 'api_path',\n 'artist',\n 'full_title',\n 'header_image_thumbnail_url',\n 'header_image_url',\n 'id',\n 'lyrics',\n 'lyrics_owner_id',\n 'lyrics_state',\n 'path',\n 'primary_artist',\n 'pyongs_count',\n 'save_lyrics',\n 'song_art_image_thumbnail_url',\n 'song_art_image_url',\n 'stats',\n 'title',\n 'title_with_featured',\n 'to_dict',\n 'to_json',\n 'to_text',\n 'url']"
     },
     "execution_count": 9,
     "metadata": {},
     "output_type": "execute_result"
    }
   ],
   "source": [
    "dir(artist.songs[1])"
   ],
   "metadata": {
    "collapsed": false,
    "ExecuteTime": {
     "end_time": "2023-06-23T12:17:47.358433110Z",
     "start_time": "2023-06-23T12:17:47.351536817Z"
    }
   }
  },
  {
   "cell_type": "code",
   "execution_count": 13,
   "outputs": [
    {
     "data": {
      "text/plain": "'https://genius.com/Lana-del-rey-1949-lyrics'"
     },
     "execution_count": 13,
     "metadata": {},
     "output_type": "execute_result"
    }
   ],
   "source": [
    "artist.songs[1].url"
   ],
   "metadata": {
    "collapsed": false,
    "ExecuteTime": {
     "end_time": "2023-06-23T12:19:02.971418364Z",
     "start_time": "2023-06-23T12:19:02.966577514Z"
    }
   }
  },
  {
   "cell_type": "code",
   "execution_count": 11,
   "outputs": [
    {
     "data": {
      "text/plain": "'25 Contributors1949 Lyrics[Verse 1]\\nCarry me up them stairs\\nWith my white socks on\\nAnd my pretty song\\nYou like my blue nail polish?\\n\"What is all this?\" You said\\nOf the mess upstairs\\nDon\\'t be scared\\n\\n[Pre-Chorus]\\nDaddy dearest, you know\\nHow I like to take trips\\nPops, first stops at the K-mart, buy me my peach lip gloss\\nCigarettes and lollipops\\nFor our trip across the USA\\n\\n[Chorus]\\nWe\\'re gonna party like it\\'s 1949\\nWe\\'re in the Pontiac from July to July\\nGonna see it all before he says goodbye\\nGonna party like it\\'s 1949\\n\\n[Verse 2]\\nCarry me up them stairs\\nWith my white socks on\\nAnd my blonde hair long\\nYou like my pin-up bodice and the solace\\nThat comes with the midnight air\\nAnd my icy stare\\nYou might also like[Pre-Chorus]\\nIt\\'s the clearest when it\\'s me and him alone\\nHe stops, he talks about all ways he used to let up\\nDinerettes and soda pops for our trip across the USA\\n\\n[Chorus]\\nWe\\'re gonna party like it\\'s 1949\\nWe\\'re in the Pontiac from July to July\\nGonna see it all before he says goodbye\\nGonna party like it\\'s 1949\\n\\n[Outro]\\nDaddy likes Blackpool Pleasure Beach and road stops\\nMe, I like the Swiss Alps souvenir gift shops\\nLate night, midnight radio show talks\\nHim and me, a big jailbreak\\n\\nPonytail and lollipops, dinerettes and soda pops\\nNew blue bathing suit, ruched tops and Cadillacs\\nBlue lake, Carter Docks, hopscotch, hot talk\\nAlabama hard knocks, motel brass locks3Embed'"
     },
     "execution_count": 11,
     "metadata": {},
     "output_type": "execute_result"
    }
   ],
   "source": [
    "artist.songs[1].lyrics"
   ],
   "metadata": {
    "collapsed": false,
    "ExecuteTime": {
     "end_time": "2023-06-23T12:18:14.583773233Z",
     "start_time": "2023-06-23T12:18:14.580489416Z"
    }
   }
  }
 ],
 "metadata": {
  "kernelspec": {
   "display_name": "Python 3",
   "language": "python",
   "name": "python3"
  },
  "language_info": {
   "codemirror_mode": {
    "name": "ipython",
    "version": 2
   },
   "file_extension": ".py",
   "mimetype": "text/x-python",
   "name": "python",
   "nbconvert_exporter": "python",
   "pygments_lexer": "ipython2",
   "version": "2.7.6"
  }
 },
 "nbformat": 4,
 "nbformat_minor": 0
}
