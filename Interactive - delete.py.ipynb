{
 "cells": [
  {
   "cell_type": "markdown",
   "metadata": {
    "isInteractiveWindowMessageCell": true
   },
   "source": [
    "Connected to wsd (Python 3.10.10)"
   ]
  },
  {
   "cell_type": "code",
   "execution_count": 1,
   "metadata": {},
   "outputs": [
    {
     "name": "stderr",
     "output_type": "stream",
     "text": [
      "/home/tplesniak/miniconda3/envs/wsd/lib/python3.10/site-packages/tqdm/auto.py:21: TqdmWarning: IProgress not found. Please update jupyter and ipywidgets. See https://ipywidgets.readthedocs.io/en/stable/user_install.html\n",
      "  from .autonotebook import tqdm as notebook_tqdm\n"
     ]
    }
   ],
   "source": [
    "import pickle\n",
    "from tqdm import tqdm\n",
    "import os\n",
    "from pathlib import Path\n",
    "from utils import CONFIG, get_all_urls\n",
    "from Analysis_imports import scrape_artists_songs\n",
    "config_G = CONFIG[\"Genius_scraping\"]"
   ]
  },
  {
   "cell_type": "code",
   "execution_count": 2,
   "metadata": {},
   "outputs": [
    {
     "ename": "KeyError",
     "evalue": "'GENIUS_URL_PATH'",
     "output_type": "error",
     "traceback": [
      "\u001b[0;31m---------------------------------------------------------------------------\u001b[0m",
      "\u001b[0;31mKeyError\u001b[0m                                  Traceback (most recent call last)",
      "Cell \u001b[0;32mIn[2], line 3\u001b[0m\n\u001b[1;32m      1\u001b[0m \u001b[39m# %%\u001b[39;00m\n\u001b[1;32m      2\u001b[0m urls \u001b[39m=\u001b[39m get_all_urls()\n\u001b[0;32m----> 3\u001b[0m \u001b[39mwith\u001b[39;00m \u001b[39mopen\u001b[39m(config_G[\u001b[39m\"\u001b[39;49m\u001b[39mGENIUS_URL_PATH\u001b[39;49m\u001b[39m\"\u001b[39;49m]) \u001b[39mas\u001b[39;00m f:\n\u001b[1;32m      4\u001b[0m     \u001b[39mfor\u001b[39;00m u \u001b[39min\u001b[39;00m urls:\n\u001b[1;32m      5\u001b[0m         f\u001b[39m.\u001b[39mwrite(u\u001b[39m+\u001b[39m \u001b[39m'\u001b[39m\u001b[39m\\n\u001b[39;00m\u001b[39m'\u001b[39m)\n",
      "\u001b[0;31mKeyError\u001b[0m: 'GENIUS_URL_PATH'"
     ]
    }
   ],
   "source": [
    "urls = get_all_urls()\n",
    "with open(config_G[\"GENIUS_URL_PATH\"]) as f:\n",
    "    for u in urls:\n",
    "        f.write(u+ '\\n')"
   ]
  },
  {
   "cell_type": "code",
   "execution_count": 3,
   "metadata": {},
   "outputs": [],
   "source": [
    "with open(config_G[\"GENIUS_URLS_PATH\"], 'w') as f:\n",
    "    for u in urls:\n",
    "        f.write(u+ '\\n')"
   ]
  },
  {
   "cell_type": "code",
   "execution_count": 4,
   "metadata": {},
   "outputs": [
    {
     "name": "stdout",
     "output_type": "stream",
     "text": [
      "Difference in names: Name from lastFM: 2k-fra(RDN 2k (FRA)),\n",
      "Name from Genius RDN 2k (FRA)\n",
      "2k-fra(RDN 2k (FRA)) has only 0 albums\n",
      "artist has only 1 songs\n"
     ]
    }
   ],
   "source": [
    "scrape_artists_songs([\"2k-fra\"])"
   ]
  },
  {
   "cell_type": "code",
   "execution_count": 5,
   "metadata": {},
   "outputs": [
    {
     "data": {
      "text/plain": [
       "[(2, 0), (1, 2)]"
      ]
     },
     "execution_count": 5,
     "metadata": {},
     "output_type": "execute_result"
    }
   ],
   "source": [
    "d = {1:2, 2:0}\n",
    "sorted(d.items(), key=lambda x: x[1])"
   ]
  }
 ],
 "metadata": {
  "kernelspec": {
   "display_name": "wsd",
   "language": "python",
   "name": "python3"
  },
  "language_info": {
   "codemirror_mode": {
    "name": "ipython",
    "version": 3
   },
   "file_extension": ".py",
   "mimetype": "text/x-python",
   "name": "python",
   "nbconvert_exporter": "python",
   "pygments_lexer": "ipython3",
   "version": "3.10.10"
  }
 },
 "nbformat": 4,
 "nbformat_minor": 2
}
