{
 "cells": [
  {
   "cell_type": "code",
   "execution_count": 1,
   "metadata": {},
   "outputs": [],
   "source": [
    "artist_names = ['White 2115',\n",
    " 'Borixon',\n",
    " 'Cypis',\n",
    " 'Kizo',\n",
    " 'Te-Tris',\n",
    " 'Pięć Dwa',\n",
    " 'Kuba Knap',\n",
    " 'PRO8L3M',\n",
    " 'TPS',\n",
    " 'KęKę',\n",
    " 'Dwa Sławy',\n",
    " 'Zeamsone',\n",
    " 'Popek',\n",
    " 'Zeus (POL)',\n",
    " 'ReTo',\n",
    " 'Sarius',\n",
    " 'Quebonafide',\n",
    " 'KaeN',\n",
    " 'Żabson',\n",
    " 'VNM',\n",
    " 'Białas',\n",
    " 'Kukon',\n",
    " 'Young Igi',\n",
    " 'Paluch',\n",
    " 'Kartky',\n",
    " 'Ten Typ Mes',\n",
    " '\\u200bdonGURALesko',\n",
    " 'Kaz Bałagane',\n",
    " 'Filipek',\n",
    " 'Vkie',\n",
    " 'Slums Attack',\n",
    " 'Trzeci Wymiar',\n",
    " 'Dudek P56',\n",
    " 'Peja',\n",
    " 'O.S.T.R.',\n",
    " 'Tede']"
   ]
  },
  {
   "cell_type": "code",
   "execution_count": 5,
   "metadata": {},
   "outputs": [],
   "source": [
    "from utils import CONFIG, sanitize_art_name\n",
    "from pathlib import Path\n",
    "import pickle\n",
    "in_dir = Path(CONFIG[\"artists_pl_path\"])\n",
    "out_dir = Path(CONFIG[\"websty_path\"])\n",
    "for a_name in artist_names:\n",
    "    f_name = sanitize_art_name(a_name)\n",
    "    with open(in_dir / (f_name + '.artPkl'), 'rb') as f:\n",
    "        artist = pickle.load(f)\n",
    "    out = ''\n",
    "    for i, song in enumerate(artist.songs):\n",
    "        out += str(i) + '\\n' + song.clean_song_text() + '\\n'\n",
    "    open(out_dir / (f_name + '.txt'), 'w').write(out)"
   ]
  }
 ],
 "metadata": {
  "kernelspec": {
   "display_name": "wsd",
   "language": "python",
   "name": "python3"
  },
  "language_info": {
   "codemirror_mode": {
    "name": "ipython",
    "version": 3
   },
   "file_extension": ".py",
   "mimetype": "text/x-python",
   "name": "python",
   "nbconvert_exporter": "python",
   "pygments_lexer": "ipython3",
   "version": "3.10.10"
  }
 },
 "nbformat": 4,
 "nbformat_minor": 2
}
