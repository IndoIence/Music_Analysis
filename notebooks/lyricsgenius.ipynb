{
 "cells": [
  {
   "cell_type": "code",
   "execution_count": 1,
   "metadata": {
    "collapsed": true,
    "ExecuteTime": {
     "start_time": "2023-08-02T09:03:59.267636Z",
     "end_time": "2023-08-02T09:04:01.726236Z"
    }
   },
   "outputs": [],
   "source": [
    "from config import GENIUS_BEARER as token\n",
    "from Analysis_imports import scrape_artist_songs\n",
    "\n",
    "import lyricsgenius\n",
    "import pickle\n",
    "genius = lyricsgenius.Genius(token, verbose=True)"
   ]
  },
  {
   "cell_type": "code",
   "execution_count": 2,
   "outputs": [],
   "source": [
    "with open('../scraped_data/LastFm/all_no_features_LastFM.pkl', 'rb') as f:\n",
    "    artists = pickle.load(f)\n",
    "# we only need names\n",
    "artists = [a.name for a in artists]"
   ],
   "metadata": {
    "collapsed": false,
    "ExecuteTime": {
     "start_time": "2023-08-02T09:04:01.726236Z",
     "end_time": "2023-08-02T09:04:01.773369Z"
    }
   }
  },
  {
   "cell_type": "markdown",
   "source": [
    "Testing what genius gives if we input a nonexistnt artist"
   ],
   "metadata": {
    "collapsed": false
   }
  },
  {
   "cell_type": "code",
   "execution_count": 3,
   "outputs": [
    {
     "name": "stdout",
     "output_type": "stream",
     "text": [
      "Searching for songs by nonexistent_artisttttt...\n",
      "\n",
      "No results found for 'nonexistent_artisttttt'.\n"
     ]
    }
   ],
   "source": [
    "huh = genius.search_artist('nonexistent_artisttttt')\n"
   ],
   "metadata": {
    "collapsed": false,
    "ExecuteTime": {
     "start_time": "2023-08-02T09:04:01.773369Z",
     "end_time": "2023-08-02T09:04:02.282962Z"
    }
   }
  },
  {
   "cell_type": "code",
   "execution_count": null,
   "outputs": [
    {
     "name": "stdout",
     "output_type": "stream",
     "text": [
      "Searching for songs by maly esz esz...\n",
      "\n",
      "Changing artist name to 'Mały Esz Esz'\n",
      "Song 1: \"Hidden Bonus Track\"\n",
      "Song 2: \"Skręć mnie\"\n",
      "\"Uważaj II\" is not valid. Skipping.\n",
      "Song 3: \"Znajdź odpowiedź\"\n",
      "\"Przerywamy program\" is not valid. Skipping.\n",
      "\"Sory zapomniałem\" is not valid. Skipping.\n",
      "\"Ważniejsze czyny niż słowa\" is not valid. Skipping.\n",
      "\"Prywatki (Remix)\" is not valid. Skipping.\n",
      "\"Nigdy nie jest za późno\" is not valid. Skipping.\n",
      "\"Forumowcy\" is not valid. Skipping.\n",
      "\"Dziwny świat\" is not valid. Skipping.\n",
      "\"Nie z tą, to z tamtą (Donatan Pokazz Remix)\" is not valid. Skipping.\n",
      "\"Warszawski funk\" is not valid. Skipping.\n",
      "\"Rodzina\" is not valid. Skipping.\n",
      "\"Chcę być wielki\" is not valid. Skipping.\n",
      "\"Ostatni dzień miesiąca\" is not valid. Skipping.\n",
      "\"Na ratunek\" is not valid. Skipping.\n",
      "\"Home office\" is not valid. Skipping.\n",
      "\"Nigdy nie jest za późno (Remix)\" is not valid. Skipping.\n",
      "\"Jutra nie ma\" is not valid. Skipping.\n",
      "\"Bomby\" is not valid. Skipping.\n",
      "\"Zrywkenzis\" is not valid. Skipping.\n",
      "Done. Found 3 songs.\n",
      "artist has only 3 songs\n",
      "Searching for songs by 64sto...\n",
      "\n",
      "Changing artist name to '64studios101'\n",
      "Song 1: \"We All Love You\"\n",
      "Song 2: \"Homophobic Chicken\"\n"
     ]
    }
   ],
   "source": [
    "scrape_artist_songs(artists[81:], verbose=True)"
   ],
   "metadata": {
    "collapsed": false,
    "ExecuteTime": {
     "start_time": "2023-08-01T21:02:19.513664Z",
     "end_time": "2023-08-01T21:06:17.836629Z"
    },
    "pycharm": {
     "is_executing": true
    }
   }
  },
  {
   "cell_type": "code",
   "execution_count": null,
   "outputs": [],
   "source": [
    "import re\n",
    "import nltk\n",
    "def clean_song_text(lyrics):\n",
    "    def clean_brackets(text):\n",
    "        pattern = r'\\[.*?\\]'\n",
    "        return re.sub(pattern,'', text)\n",
    "    # find the first occurance of the word \"Lyrics\", and discard what's before that\n",
    "    lyrics_start = lyrics.find('Lyrics') + len('Lyrics')\n",
    "    lyrics = lyrics[lyrics_start:].lower()\n",
    "    # cut out the end of the string (the word Embed and the number)\n",
    "    lyrics_end = re.search(r'\\d+', lyrics[::-1]).span()[1]\n",
    "    lyrics = lyrics[:-lyrics_end]\n",
    "    # should ignore anything in the brackets\n",
    "    lyrics = clean_brackets(lyrics)\n",
    "    # remove interpunction\n",
    "    tokenizer = nltk.WhitespaceTokenizer()\n",
    "    lyrics = tokenizer.tokenize(lyrics)\n",
    "    # lyrics.replace(r'.|,|!|?','')\n",
    "    # # split on newlines and on spaces\n",
    "    # lyrics = re.split(r' |\\n', lyrics)\n",
    "    # # remove empty strings\n",
    "    # lyrics = list(filter(None, lyrics))\n",
    "    return lyrics"
   ],
   "metadata": {
    "collapsed": false,
    "ExecuteTime": {
     "start_time": "2023-08-01T21:06:17.839785Z",
     "end_time": "2023-08-01T21:06:17.851728Z"
    }
   }
  },
  {
   "cell_type": "code",
   "execution_count": null,
   "outputs": [],
   "source": [
    "with open('../scraped_data/lyrics', 'wb') as f:\n",
    "    pickle.dump(all_lyrics, f)"
   ],
   "metadata": {
    "collapsed": false,
    "ExecuteTime": {
     "start_time": "2023-07-25T14:57:13.818464Z",
     "end_time": "2023-07-25T14:57:13.840444Z"
    }
   }
  },
  {
   "cell_type": "code",
   "execution_count": null,
   "outputs": [],
   "source": [
    "with open('../scraped_data/pickletest_songs', 'wb') as f:\n",
    "    print(songs[1].title)\n",
    "    pickle.dump(songs[1], f)\n",
    "with open('../scraped_data/pickletest_songs', 'rb') as f:\n",
    "    loaded_song = pickle.load(f)\n",
    "loaded_song"
   ],
   "metadata": {
    "collapsed": false,
    "ExecuteTime": {
     "start_time": "2023-07-25T14:57:35.996023Z",
     "end_time": "2023-07-25T14:57:36.037230Z"
    }
   }
  },
  {
   "cell_type": "code",
   "execution_count": null,
   "outputs": [],
   "source": [
    "loaded_song.title"
   ],
   "metadata": {
    "collapsed": false,
    "ExecuteTime": {
     "start_time": "2023-07-25T14:57:50.153545Z",
     "end_time": "2023-07-25T14:57:50.161523Z"
    }
   }
  },
  {
   "cell_type": "code",
   "execution_count": null,
   "outputs": [],
   "source": [],
   "metadata": {
    "collapsed": false,
    "ExecuteTime": {
     "start_time": "2023-07-24T21:01:18.954100Z",
     "end_time": "2023-07-24T21:01:18.968729Z"
    }
   }
  },
  {
   "cell_type": "code",
   "execution_count": null,
   "outputs": [],
   "source": [
    "albums_search['sections'][0]['hits'][0]['result']['name']"
   ],
   "metadata": {
    "collapsed": false,
    "ExecuteTime": {
     "start_time": "2023-07-24T21:01:03.200695Z",
     "end_time": "2023-07-24T21:01:03.212699Z"
    }
   }
  },
  {
   "cell_type": "code",
   "execution_count": null,
   "outputs": [],
   "source": [
    "artist_songs.songs[1].url"
   ],
   "metadata": {
    "collapsed": false,
    "ExecuteTime": {
     "start_time": "2023-07-24T21:14:53.059676Z",
     "end_time": "2023-07-24T21:14:53.078306Z"
    }
   }
  },
  {
   "cell_type": "code",
   "execution_count": null,
   "outputs": [],
   "source": [
    "artist_songs.songs[1].lyrics"
   ],
   "metadata": {
    "collapsed": false,
    "ExecuteTime": {
     "start_time": "2023-07-24T21:15:02.520340Z",
     "end_time": "2023-07-24T21:15:02.527427Z"
    }
   }
  },
  {
   "cell_type": "code",
   "execution_count": null,
   "outputs": [],
   "source": [
    "dir(artist_songs.songs[1])\n",
    "artist_songs.songs[1].title"
   ],
   "metadata": {
    "collapsed": false,
    "ExecuteTime": {
     "start_time": "2023-07-24T21:16:13.095132Z",
     "end_time": "2023-07-24T21:16:13.113749Z"
    }
   }
  }
 ],
 "metadata": {
  "kernelspec": {
   "display_name": "Python 3",
   "language": "python",
   "name": "python3"
  },
  "language_info": {
   "codemirror_mode": {
    "name": "ipython",
    "version": 2
   },
   "file_extension": ".py",
   "mimetype": "text/x-python",
   "name": "python",
   "nbconvert_exporter": "python",
   "pygments_lexer": "ipython2",
   "version": "2.7.6"
  }
 },
 "nbformat": 4,
 "nbformat_minor": 0
}
