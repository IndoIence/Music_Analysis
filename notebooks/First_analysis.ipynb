{
 "cells": [
  {
   "cell_type": "code",
   "execution_count": 1,
   "metadata": {
    "collapsed": true,
    "ExecuteTime": {
     "end_time": "2023-09-05T09:39:23.100233047Z",
     "start_time": "2023-09-05T09:39:19.503539902Z"
    }
   },
   "outputs": [
    {
     "name": "stderr",
     "output_type": "stream",
     "text": [
      "2023-09-05 11:39:21.357514: I tensorflow/core/platform/cpu_feature_guard.cc:182] This TensorFlow binary is optimized to use available CPU instructions in performance-critical operations.\n",
      "To enable the following instructions: AVX2 FMA, in other operations, rebuild TensorFlow with the appropriate compiler flags.\n",
      "2023-09-05 11:39:22.060784: W tensorflow/compiler/tf2tensorrt/utils/py_utils.cc:38] TF-TRT Warning: Could not find TensorRT\n",
      "2023-09-05 11:39:22.781047: I tensorflow/compiler/xla/stream_executor/cuda/cuda_gpu_executor.cc:996] successful NUMA node read from SysFS had negative value (-1), but there must be at least one NUMA node, so returning NUMA node zero. See more at https://github.com/torvalds/linux/blob/v6.0/Documentation/ABI/testing/sysfs-bus-pci#L344-L355\n",
      "2023-09-05 11:39:22.781417: I tensorflow/compiler/xla/stream_executor/cuda/cuda_gpu_executor.cc:996] successful NUMA node read from SysFS had negative value (-1), but there must be at least one NUMA node, so returning NUMA node zero. See more at https://github.com/torvalds/linux/blob/v6.0/Documentation/ABI/testing/sysfs-bus-pci#L344-L355\n",
      "2023-09-05 11:39:22.781560: I tensorflow/compiler/xla/stream_executor/cuda/cuda_gpu_executor.cc:996] successful NUMA node read from SysFS had negative value (-1), but there must be at least one NUMA node, so returning NUMA node zero. See more at https://github.com/torvalds/linux/blob/v6.0/Documentation/ABI/testing/sysfs-bus-pci#L344-L355\n"
     ]
    }
   ],
   "source": [
    "import nltk\n",
    "import spacy\n",
    "from spacy_language_detection import LanguageDetector\n",
    "from spacy.language import Language\n",
    "import requests\n",
    "import os\n",
    "import pickle\n",
    "from collections import Counter\n",
    "from Analysis_imports import token\n",
    "import lyricsgenius"
   ]
  },
  {
   "cell_type": "code",
   "execution_count": 2,
   "outputs": [],
   "source": [
    "path = f'../scraped_data/Genius/bigger_artists'\n",
    "f_names = os.listdir(path)"
   ],
   "metadata": {
    "collapsed": false,
    "ExecuteTime": {
     "end_time": "2023-09-05T09:39:23.106246811Z",
     "start_time": "2023-09-05T09:39:23.104359534Z"
    }
   }
  },
  {
   "cell_type": "code",
   "execution_count": 18,
   "outputs": [],
   "source": [
    "def get_artists_genius_ids():\n",
    "    ids = []\n",
    "    names = []\n",
    "    for artist in f_names:\n",
    "        artist_path = path + '/' + artist\n",
    "        with open(artist_path, 'rb') as f:\n",
    "            a = pickle.load(f)\n",
    "            ids.append(a.id)\n",
    "            names.append(a.name)\n",
    "    return set(zip(ids, names))"
   ],
   "metadata": {
    "collapsed": false,
    "ExecuteTime": {
     "end_time": "2023-09-05T09:51:20.249928808Z",
     "start_time": "2023-09-05T09:51:20.206580197Z"
    }
   }
  },
  {
   "cell_type": "code",
   "execution_count": 3,
   "outputs": [],
   "source": [
    "urls = []\n",
    "for artist in f_names:\n",
    "    artist_path = path + '/' + artist\n",
    "    with open(artist_path, 'rb') as f:\n",
    "        a = pickle.load(f)\n",
    "        urls.append(a.url)"
   ],
   "metadata": {
    "collapsed": false,
    "ExecuteTime": {
     "end_time": "2023-09-05T09:39:27.355424715Z",
     "start_time": "2023-09-05T09:39:23.107990438Z"
    }
   }
  },
  {
   "cell_type": "code",
   "execution_count": 4,
   "outputs": [
    {
     "name": "stdout",
     "output_type": "stream",
     "text": [
      "https://genius.com/artists/Piec-dwa 6\n",
      "https://genius.com/artists/Wzgorze-ya-pa-3 5\n",
      "https://genius.com/artists/Peja 3\n",
      "https://genius.com/artists/Te-tris 3\n",
      "https://genius.com/artists/Slums-attack 3\n",
      "https://genius.com/artists/Dudek-p56 3\n",
      "https://genius.com/artists/Lil-baby 2\n",
      "https://genius.com/artists/Molesta 2\n",
      "https://genius.com/artists/Solar-biaas 2\n",
      "https://genius.com/artists/Mustard 2\n",
      "https://genius.com/artists/John-legend 2\n",
      "https://genius.com/artists/Twenty-one-pilots 2\n",
      "https://genius.com/artists/Kasta 2\n",
      "https://genius.com/artists/Klarenz 1\n",
      "https://genius.com/artists/Lukasyno 1\n",
      "https://genius.com/artists/Pikers 1\n",
      "https://genius.com/artists/Eldo 1\n",
      "https://genius.com/artists/P-t-k-cze 1\n",
      "https://genius.com/artists/Kukon 1\n",
      "https://genius.com/artists/Scarlxrd 1\n",
      "https://genius.com/artists/Bob-dylan 1\n",
      "https://genius.com/artists/Zate 1\n",
      "https://genius.com/artists/Juice-wrld 1\n",
      "https://genius.com/artists/Panic-at-the-disco 1\n",
      "https://genius.com/artists/Rin 1\n",
      "https://genius.com/artists/Bad-bunny 1\n",
      "https://genius.com/artists/Madman 1\n",
      "https://genius.com/artists/Baby-tate 1\n",
      "https://genius.com/artists/Poetik 1\n",
      "https://genius.com/artists/Hidra 1\n",
      "https://genius.com/artists/Noam-chomsky 1\n",
      "https://genius.com/artists/Jacques-anthony 1\n",
      "https://genius.com/artists/Deys 1\n",
      "https://genius.com/artists/Malik-montana 1\n",
      "https://genius.com/artists/A-ap-ferg 1\n",
      "https://genius.com/artists/Keke 1\n",
      "https://genius.com/artists/Sagopa-kajmer 1\n",
      "https://genius.com/artists/Sofaygo 1\n",
      "https://genius.com/artists/Bonus-rpk 1\n",
      "https://genius.com/artists/Donguralesko 1\n",
      "https://genius.com/artists/Wac-toja 1\n",
      "https://genius.com/artists/Rich-homie-quan 1\n",
      "https://genius.com/artists/Mary-j-blige 1\n",
      "https://genius.com/artists/Zeamsone 1\n",
      "https://genius.com/artists/Lil-wayne 1\n",
      "https://genius.com/artists/Lso 1\n",
      "https://genius.com/artists/Miuosh 1\n",
      "https://genius.com/artists/White-house-records 1\n",
      "https://genius.com/artists/2-chainz 1\n",
      "https://genius.com/artists/Kid-cudi 1\n",
      "https://genius.com/artists/T-rex 1\n",
      "https://genius.com/artists/Ayesha-erotica 1\n",
      "https://genius.com/artists/Beka-ksh 1\n",
      "https://genius.com/artists/Chief-keef 1\n",
      "https://genius.com/artists/Big-krit 1\n",
      "https://genius.com/artists/Migos 1\n",
      "https://genius.com/artists/Hemp-gru 1\n",
      "https://genius.com/artists/G-herbo 1\n",
      "https://genius.com/artists/Son-pol 1\n",
      "https://genius.com/artists/Tede 1\n",
      "https://genius.com/artists/Sho-baraka 1\n",
      "https://genius.com/artists/Paluch 1\n",
      "https://genius.com/artists/Kesha 1\n",
      "https://genius.com/artists/Zabson 1\n",
      "https://genius.com/artists/Upperroom 1\n",
      "https://genius.com/artists/Pezet 1\n",
      "https://genius.com/artists/Adi-nowak 1\n",
      "https://genius.com/artists/Kartky 1\n",
      "https://genius.com/artists/Sarius 1\n",
      "https://genius.com/artists/Makulatura 1\n",
      "https://genius.com/artists/Chada 1\n",
      "https://genius.com/artists/Manuellsen 1\n",
      "https://genius.com/artists/Kid-ink 1\n",
      "https://genius.com/artists/Kaz-baagane 1\n",
      "https://genius.com/artists/Kizo 1\n",
      "https://genius.com/artists/Pih 1\n",
      "https://genius.com/artists/Rogal-ddl 1\n",
      "https://genius.com/artists/Young-igi 1\n",
      "https://genius.com/artists/Borixon 1\n",
      "https://genius.com/artists/Triada 1\n",
      "https://genius.com/artists/Ab-soul 1\n",
      "https://genius.com/artists/6ix9ine 1\n",
      "https://genius.com/artists/Vkie 1\n",
      "https://genius.com/artists/Rick-ross 1\n",
      "https://genius.com/artists/Trzeci-wymiar 1\n",
      "https://genius.com/artists/Tps 1\n",
      "https://genius.com/artists/Kaen 1\n",
      "https://genius.com/artists/Edgar-allan-poe 1\n"
     ]
    }
   ],
   "source": [
    "counter = Counter(urls)\n",
    "for k, v in sorted(counter.items(), key=lambda x: x[1], reverse=True):\n",
    "    print(k, v)"
   ],
   "metadata": {
    "collapsed": false,
    "ExecuteTime": {
     "end_time": "2023-09-05T09:39:27.360216895Z",
     "start_time": "2023-09-05T09:39:27.357082842Z"
    }
   }
  },
  {
   "cell_type": "code",
   "execution_count": 5,
   "outputs": [],
   "source": [
    "def request_artist_info(artist_name, page=1):\n",
    "    base_url = 'https://api.genius.com'\n",
    "    headers = {'Authorization': 'Bearer ' + token}\n",
    "    search_url = base_url + '/search?per_page=10&page=' + str(page)\n",
    "    data = {'q': artist_name}\n",
    "    response = requests.get(search_url, data=data, headers=headers)\n",
    "    return response\n",
    "\n",
    "\n",
    "def get_artist_description(artist_id):\n",
    "    base_url = 'https://api.genius.com'\n",
    "    headers = {'Authorization': 'Bearer ' + token}\n",
    "    search_url = base_url + '/artists/' + str(artist_id)\n",
    "    data = {'text_format': 'plain'}\n",
    "    response = requests.get(search_url, headers=headers, data=data)\n",
    "    description = response.json()['response']['artist']['description']['plain']\n",
    "\n",
    "    return description"
   ],
   "metadata": {
    "collapsed": false,
    "ExecuteTime": {
     "end_time": "2023-09-05T09:39:27.396624131Z",
     "start_time": "2023-09-05T09:39:27.363159596Z"
    }
   }
  },
  {
   "cell_type": "code",
   "execution_count": 6,
   "outputs": [
    {
     "data": {
      "text/plain": "{'meta': {'status': 200},\n 'response': {'hits': [{'highlights': [],\n    'index': 'song',\n    'type': 'song',\n    'result': {'annotation_count': 25,\n     'api_path': '/songs/161090',\n     'artist_names': 'YG (Ft. Jeezy & Rich Homie Quan)',\n     'full_title': 'My Nigga by\\xa0YG (Ft.\\xa0Jeezy & Rich\\xa0Homie Quan)',\n     'header_image_thumbnail_url': 'https://images.genius.com/9588a0d6b7d967ee2e23f9ae2644aa8d.300x300x1.jpg',\n     'header_image_url': 'https://images.genius.com/9588a0d6b7d967ee2e23f9ae2644aa8d.1000x1000x1.jpg',\n     'id': 161090,\n     'lyrics_owner_id': 229873,\n     'lyrics_state': 'complete',\n     'path': '/Yg-my-nigga-lyrics',\n     'pyongs_count': 466,\n     'relationships_index_url': 'https://genius.com/Yg-my-nigga-sample',\n     'release_date_components': {'year': 2013, 'month': 9, 'day': 17},\n     'release_date_for_display': 'September 17, 2013',\n     'release_date_with_abbreviated_month_for_display': 'Sep. 17, 2013',\n     'song_art_image_thumbnail_url': 'https://images.rapgenius.com/6fe90e802bb5ec0f5a585d990f459d88.300x300x1.jpg',\n     'song_art_image_url': 'https://images.rapgenius.com/6fe90e802bb5ec0f5a585d990f459d88.316x316x1.jpg',\n     'stats': {'unreviewed_annotations': 1,\n      'hot': False,\n      'pageviews': 1749636},\n     'title': 'My Nigga',\n     'title_with_featured': 'My Nigga (Ft.\\xa0Jeezy & Rich\\xa0Homie Quan)',\n     'url': 'https://genius.com/Yg-my-nigga-lyrics',\n     'featured_artists': [{'api_path': '/artists/24823',\n       'header_image_url': 'https://images.genius.com/5808c8b5468abf71c48f8162bcf1520d.650x430x1.jpg',\n       'id': 24823,\n       'image_url': 'https://images.genius.com/334dc3565e640f1df6f809a163903cad.1000x1000x1.jpg',\n       'is_meme_verified': False,\n       'is_verified': True,\n       'name': 'Rich Homie Quan',\n       'url': 'https://genius.com/artists/Rich-homie-quan',\n       'iq': 1237},\n      {'api_path': '/artists/67',\n       'header_image_url': 'https://images.genius.com/26e2d95164a90805dc4291f54aa1fcce.852x852x1.jpg',\n       'id': 67,\n       'image_url': 'https://images.genius.com/2fac56415ebd679b9c2a0ab2d6553b9d.852x852x1.jpg',\n       'is_meme_verified': True,\n       'is_verified': True,\n       'name': 'Jeezy',\n       'url': 'https://genius.com/artists/Jeezy',\n       'iq': 4901}],\n     'primary_artist': {'api_path': '/artists/1450',\n      'header_image_url': 'https://images.genius.com/9a88f3e337dd4995d8fa964256505b46.1000x1000x1.jpg',\n      'id': 1450,\n      'image_url': 'https://images.genius.com/3d62966592db27f223d4e6050790656d.1000x1000x1.jpg',\n      'is_meme_verified': True,\n      'is_verified': True,\n      'name': 'YG',\n      'url': 'https://genius.com/artists/Yg',\n      'iq': 12938}}},\n   {'highlights': [],\n    'index': 'song',\n    'type': 'song',\n    'result': {'annotation_count': 24,\n     'api_path': '/songs/324980',\n     'artist_names': 'YG (Ft. Drake)',\n     'full_title': 'Who Do You Love? by\\xa0YG (Ft.\\xa0Drake)',\n     'header_image_thumbnail_url': 'https://images.genius.com/022c39308266df95c253e0646c84ebfa.300x300x1.jpg',\n     'header_image_url': 'https://images.genius.com/022c39308266df95c253e0646c84ebfa.475x475x1.jpg',\n     'id': 324980,\n     'lyrics_owner_id': 104344,\n     'lyrics_state': 'complete',\n     'path': '/Yg-who-do-you-love-lyrics',\n     'pyongs_count': 523,\n     'relationships_index_url': 'https://genius.com/Yg-who-do-you-love-sample',\n     'release_date_components': {'year': 2014, 'month': 2, 'day': 20},\n     'release_date_for_display': 'February 20, 2014',\n     'release_date_with_abbreviated_month_for_display': 'Feb. 20, 2014',\n     'song_art_image_thumbnail_url': 'https://images.genius.com/022c39308266df95c253e0646c84ebfa.300x300x1.jpg',\n     'song_art_image_url': 'https://images.genius.com/022c39308266df95c253e0646c84ebfa.475x475x1.jpg',\n     'stats': {'unreviewed_annotations': 2,\n      'hot': False,\n      'pageviews': 1318121},\n     'title': 'Who Do You Love?',\n     'title_with_featured': 'Who Do You Love? (Ft.\\xa0Drake)',\n     'url': 'https://genius.com/Yg-who-do-you-love-lyrics',\n     'featured_artists': [{'api_path': '/artists/130',\n       'header_image_url': 'https://images.genius.com/76e53fbaa0156b75ac0bf5b7d61c22fd.1000x667x1.jpg',\n       'id': 130,\n       'image_url': 'https://images.genius.com/78b4a556c0eaa5d14346f0aa3fb85939.988x988x1.png',\n       'is_meme_verified': False,\n       'is_verified': False,\n       'name': 'Drake',\n       'url': 'https://genius.com/artists/Drake'}],\n     'primary_artist': {'api_path': '/artists/1450',\n      'header_image_url': 'https://images.genius.com/9a88f3e337dd4995d8fa964256505b46.1000x1000x1.jpg',\n      'id': 1450,\n      'image_url': 'https://images.genius.com/3d62966592db27f223d4e6050790656d.1000x1000x1.jpg',\n      'is_meme_verified': True,\n      'is_verified': True,\n      'name': 'YG',\n      'url': 'https://genius.com/artists/Yg',\n      'iq': 12938}}},\n   {'highlights': [],\n    'index': 'song',\n    'type': 'song',\n    'result': {'annotation_count': 33,\n     'api_path': '/songs/3739219',\n     'artist_names': 'YG (Ft. 2 Chainz, Big Sean & Nicki Minaj)',\n     'full_title': 'BIG BANK by\\xa0YG (Ft.\\xa02\\xa0Chainz, Big\\xa0Sean & Nicki\\xa0Minaj)',\n     'header_image_thumbnail_url': 'https://images.genius.com/3e307de99532c6a5d3e2828196d589f2.300x300x1.jpg',\n     'header_image_url': 'https://images.genius.com/3e307de99532c6a5d3e2828196d589f2.1000x1000x1.jpg',\n     'id': 3739219,\n     'lyrics_owner_id': 3204418,\n     'lyrics_state': 'complete',\n     'path': '/Yg-big-bank-lyrics',\n     'pyongs_count': 35,\n     'relationships_index_url': 'https://genius.com/Yg-big-bank-sample',\n     'release_date_components': {'year': 2018, 'month': 5, 'day': 25},\n     'release_date_for_display': 'May 25, 2018',\n     'release_date_with_abbreviated_month_for_display': 'May. 25, 2018',\n     'song_art_image_thumbnail_url': 'https://images.genius.com/3e307de99532c6a5d3e2828196d589f2.300x300x1.jpg',\n     'song_art_image_url': 'https://images.genius.com/3e307de99532c6a5d3e2828196d589f2.1000x1000x1.jpg',\n     'stats': {'unreviewed_annotations': 7,\n      'hot': False,\n      'pageviews': 1027087},\n     'title': 'BIG BANK',\n     'title_with_featured': 'BIG BANK (Ft.\\xa02\\xa0Chainz, Big\\xa0Sean & Nicki\\xa0Minaj)',\n     'url': 'https://genius.com/Yg-big-bank-lyrics',\n     'featured_artists': [{'api_path': '/artists/14325',\n       'header_image_url': 'https://images.genius.com/54036584132834d0f358492ec81ed5fe.494x594x1.jpg',\n       'id': 14325,\n       'image_url': 'https://images.genius.com/f82a00deb2e816cc89005a9839eead69.1000x1000x1.jpg',\n       'is_meme_verified': False,\n       'is_verified': True,\n       'name': '2 Chainz',\n       'url': 'https://genius.com/artists/2-chainz',\n       'iq': 8545},\n      {'api_path': '/artists/492',\n       'header_image_url': 'https://images.genius.com/9993d1270da8380d4db0f5b2dc2ddce5.747x363x1.jpg',\n       'id': 492,\n       'image_url': 'https://images.genius.com/9e5e3136782920b95ae156055d141a52.640x640x1.jpg',\n       'is_meme_verified': True,\n       'is_verified': True,\n       'name': 'Big Sean',\n       'url': 'https://genius.com/artists/Big-sean',\n       'iq': 18319},\n      {'api_path': '/artists/92',\n       'header_image_url': 'https://images.genius.com/ab2a85c825e8e602ff228a210a218473.913x498x1.png',\n       'id': 92,\n       'image_url': 'https://images.genius.com/090691edace1421000255653533395f2.663x663x1.jpg',\n       'is_meme_verified': True,\n       'is_verified': True,\n       'name': 'Nicki Minaj',\n       'url': 'https://genius.com/artists/Nicki-minaj',\n       'iq': 3794}],\n     'primary_artist': {'api_path': '/artists/1450',\n      'header_image_url': 'https://images.genius.com/9a88f3e337dd4995d8fa964256505b46.1000x1000x1.jpg',\n      'id': 1450,\n      'image_url': 'https://images.genius.com/3d62966592db27f223d4e6050790656d.1000x1000x1.jpg',\n      'is_meme_verified': True,\n      'is_verified': True,\n      'name': 'YG',\n      'url': 'https://genius.com/artists/Yg',\n      'iq': 12938}}},\n   {'highlights': [],\n    'index': 'song',\n    'type': 'song',\n    'result': {'annotation_count': 25,\n     'api_path': '/songs/345919',\n     'artist_names': 'YG (Ft. Lil Wayne, Meek Mill, Nicki Minaj & Rich Homie Quan)',\n     'full_title': 'My Nigga (Remix) by\\xa0YG (Ft.\\xa0Lil\\xa0Wayne, Meek\\xa0Mill, Nicki\\xa0Minaj & Rich\\xa0Homie Quan)',\n     'header_image_thumbnail_url': 'https://images.genius.com/778dd49724af7e725a0608b15d07f1fe.300x300x1.jpg',\n     'header_image_url': 'https://images.genius.com/778dd49724af7e725a0608b15d07f1fe.600x600x1.jpg',\n     'id': 345919,\n     'lyrics_owner_id': 4533,\n     'lyrics_state': 'complete',\n     'path': '/Yg-my-nigga-remix-lyrics',\n     'pyongs_count': 294,\n     'relationships_index_url': 'https://genius.com/Yg-my-nigga-remix-sample',\n     'release_date_components': {'year': 2014, 'month': 1, 'day': 22},\n     'release_date_for_display': 'January 22, 2014',\n     'release_date_with_abbreviated_month_for_display': 'Jan. 22, 2014',\n     'song_art_image_thumbnail_url': 'https://images.genius.com/778dd49724af7e725a0608b15d07f1fe.300x300x1.jpg',\n     'song_art_image_url': 'https://images.genius.com/778dd49724af7e725a0608b15d07f1fe.600x600x1.jpg',\n     'stats': {'unreviewed_annotations': 3, 'hot': False, 'pageviews': 776976},\n     'title': 'My Nigga (Remix)',\n     'title_with_featured': 'My Nigga (Remix) (Ft.\\xa0Lil\\xa0Wayne, Meek\\xa0Mill, Nicki\\xa0Minaj & Rich\\xa0Homie Quan)',\n     'url': 'https://genius.com/Yg-my-nigga-remix-lyrics',\n     'featured_artists': [{'api_path': '/artists/4',\n       'header_image_url': 'https://images.genius.com/3b3485a28f2eb47c5ff3d7691e71bcba.1000x333x1.jpg',\n       'id': 4,\n       'image_url': 'https://images.genius.com/aa8b9dce2492fe413c23f77b643788fd.914x914x1.jpg',\n       'is_meme_verified': True,\n       'is_verified': True,\n       'name': 'Lil Wayne',\n       'url': 'https://genius.com/artists/Lil-wayne',\n       'iq': 4720},\n      {'api_path': '/artists/24823',\n       'header_image_url': 'https://images.genius.com/5808c8b5468abf71c48f8162bcf1520d.650x430x1.jpg',\n       'id': 24823,\n       'image_url': 'https://images.genius.com/334dc3565e640f1df6f809a163903cad.1000x1000x1.jpg',\n       'is_meme_verified': False,\n       'is_verified': True,\n       'name': 'Rich Homie Quan',\n       'url': 'https://genius.com/artists/Rich-homie-quan',\n       'iq': 1237},\n      {'api_path': '/artists/1319',\n       'header_image_url': 'https://images.genius.com/3fe33644ce36943a1ef773527ba490b6.820x461x1.png',\n       'id': 1319,\n       'image_url': 'https://images.genius.com/52a29948e810a6d545ce9dac8d37357f.1000x1000x1.jpg',\n       'is_meme_verified': True,\n       'is_verified': True,\n       'name': 'Meek Mill',\n       'url': 'https://genius.com/artists/Meek-mill',\n       'iq': 4656},\n      {'api_path': '/artists/92',\n       'header_image_url': 'https://images.genius.com/ab2a85c825e8e602ff228a210a218473.913x498x1.png',\n       'id': 92,\n       'image_url': 'https://images.genius.com/090691edace1421000255653533395f2.663x663x1.jpg',\n       'is_meme_verified': True,\n       'is_verified': True,\n       'name': 'Nicki Minaj',\n       'url': 'https://genius.com/artists/Nicki-minaj',\n       'iq': 3794}],\n     'primary_artist': {'api_path': '/artists/1450',\n      'header_image_url': 'https://images.genius.com/9a88f3e337dd4995d8fa964256505b46.1000x1000x1.jpg',\n      'id': 1450,\n      'image_url': 'https://images.genius.com/3d62966592db27f223d4e6050790656d.1000x1000x1.jpg',\n      'is_meme_verified': True,\n      'is_verified': True,\n      'name': 'YG',\n      'url': 'https://genius.com/artists/Yg',\n      'iq': 12938}}},\n   {'highlights': [],\n    'index': 'song',\n    'type': 'song',\n    'result': {'annotation_count': 30,\n     'api_path': '/songs/2472621',\n     'artist_names': 'YG (Ft. Drake & Kamaiyah)',\n     'full_title': 'Why You Always Hatin? by\\xa0YG (Ft.\\xa0Drake & Kamaiyah)',\n     'header_image_thumbnail_url': 'https://images.genius.com/6d9597606099b223fdd3ad68fa232887.300x300x1.jpg',\n     'header_image_url': 'https://images.genius.com/6d9597606099b223fdd3ad68fa232887.1000x1000x1.jpg',\n     'id': 2472621,\n     'lyrics_owner_id': 104344,\n     'lyrics_state': 'complete',\n     'path': '/Yg-why-you-always-hatin-lyrics',\n     'pyongs_count': 61,\n     'relationships_index_url': 'https://genius.com/Yg-why-you-always-hatin-sample',\n     'release_date_components': {'year': 2016, 'month': 5, 'day': 21},\n     'release_date_for_display': 'May 21, 2016',\n     'release_date_with_abbreviated_month_for_display': 'May. 21, 2016',\n     'song_art_image_thumbnail_url': 'https://images.genius.com/9f47e41c5938c40bc3d09b23737c4950.300x300x1.jpg',\n     'song_art_image_url': 'https://images.genius.com/9f47e41c5938c40bc3d09b23737c4950.600x600x1.jpg',\n     'stats': {'unreviewed_annotations': 0, 'hot': False, 'pageviews': 499772},\n     'title': 'Why You Always Hatin?',\n     'title_with_featured': 'Why You Always Hatin? (Ft.\\xa0Drake & Kamaiyah)',\n     'url': 'https://genius.com/Yg-why-you-always-hatin-lyrics',\n     'featured_artists': [{'api_path': '/artists/619473',\n       'header_image_url': 'https://images.genius.com/41df1794f857f5408ff10f64b05442f4.1000x333x1.jpg',\n       'id': 619473,\n       'image_url': 'https://images.genius.com/e7445b556e13c818961010b525ee438a.838x838x1.jpg',\n       'is_meme_verified': False,\n       'is_verified': True,\n       'name': 'Kamaiyah',\n       'url': 'https://genius.com/artists/Kamaiyah',\n       'iq': 338},\n      {'api_path': '/artists/130',\n       'header_image_url': 'https://images.genius.com/76e53fbaa0156b75ac0bf5b7d61c22fd.1000x667x1.jpg',\n       'id': 130,\n       'image_url': 'https://images.genius.com/78b4a556c0eaa5d14346f0aa3fb85939.988x988x1.png',\n       'is_meme_verified': False,\n       'is_verified': False,\n       'name': 'Drake',\n       'url': 'https://genius.com/artists/Drake'}],\n     'primary_artist': {'api_path': '/artists/1450',\n      'header_image_url': 'https://images.genius.com/9a88f3e337dd4995d8fa964256505b46.1000x1000x1.jpg',\n      'id': 1450,\n      'image_url': 'https://images.genius.com/3d62966592db27f223d4e6050790656d.1000x1000x1.jpg',\n      'is_meme_verified': True,\n      'is_verified': True,\n      'name': 'YG',\n      'url': 'https://genius.com/artists/Yg',\n      'iq': 12938}}},\n   {'highlights': [],\n    'index': 'song',\n    'type': 'song',\n    'result': {'annotation_count': 8,\n     'api_path': '/songs/3627215',\n     'artist_names': 'Cardi B & YG',\n     'full_title': 'She Bad by\\xa0Cardi\\xa0B & YG',\n     'header_image_thumbnail_url': 'https://images.genius.com/a434f435ffae4d8ec74dfc4ead33431b.300x300x1.jpg',\n     'header_image_url': 'https://images.genius.com/a434f435ffae4d8ec74dfc4ead33431b.640x640x1.jpg',\n     'id': 3627215,\n     'lyrics_owner_id': 3375166,\n     'lyrics_state': 'complete',\n     'path': '/Cardi-b-and-yg-she-bad-lyrics',\n     'pyongs_count': 24,\n     'relationships_index_url': 'https://genius.com/Cardi-b-and-yg-she-bad-sample',\n     'release_date_components': {'year': 2018, 'month': 4, 'day': 4},\n     'release_date_for_display': 'April 4, 2018',\n     'release_date_with_abbreviated_month_for_display': 'Apr. 4, 2018',\n     'song_art_image_thumbnail_url': 'https://images.genius.com/a434f435ffae4d8ec74dfc4ead33431b.300x300x1.jpg',\n     'song_art_image_url': 'https://images.genius.com/a434f435ffae4d8ec74dfc4ead33431b.640x640x1.jpg',\n     'stats': {'unreviewed_annotations': 0, 'hot': False, 'pageviews': 490395},\n     'title': 'She Bad',\n     'title_with_featured': 'She Bad',\n     'url': 'https://genius.com/Cardi-b-and-yg-she-bad-lyrics',\n     'featured_artists': [],\n     'primary_artist': {'api_path': '/artists/1526129',\n      'header_image_url': 'https://images.genius.com/c9959e9c7c59766aefe3563362a6f969.1000x500x1.jpg',\n      'id': 1526129,\n      'image_url': 'https://images.genius.com/d9561953f697c5d0ebb09f1154094be6.756x756x1.jpg',\n      'is_meme_verified': False,\n      'is_verified': False,\n      'name': 'Cardi B & YG',\n      'url': 'https://genius.com/artists/Cardi-b-and-yg'}}},\n   {'highlights': [],\n    'index': 'song',\n    'type': 'song',\n    'result': {'annotation_count': 35,\n     'api_path': '/songs/2447645',\n     'artist_names': 'YG (Ft. Nipsey Hussle)',\n     'full_title': 'FDT by\\xa0YG (Ft.\\xa0Nipsey\\xa0Hussle)',\n     'header_image_thumbnail_url': 'https://images.genius.com/6d9597606099b223fdd3ad68fa232887.300x300x1.jpg',\n     'header_image_url': 'https://images.genius.com/6d9597606099b223fdd3ad68fa232887.1000x1000x1.jpg',\n     'id': 2447645,\n     'lyrics_owner_id': 104344,\n     'lyrics_state': 'complete',\n     'path': '/Yg-fdt-lyrics',\n     'pyongs_count': 119,\n     'relationships_index_url': 'https://genius.com/Yg-fdt-sample',\n     'release_date_components': {'year': 2016, 'month': 3, 'day': 30},\n     'release_date_for_display': 'March 30, 2016',\n     'release_date_with_abbreviated_month_for_display': 'Mar. 30, 2016',\n     'song_art_image_thumbnail_url': 'https://images.genius.com/fb0f7aa9f1c828c708022058c27179f5.300x300x1.jpg',\n     'song_art_image_url': 'https://images.genius.com/fb0f7aa9f1c828c708022058c27179f5.1000x1000x1.jpg',\n     'stats': {'unreviewed_annotations': 1, 'hot': False, 'pageviews': 362282},\n     'title': 'FDT',\n     'title_with_featured': 'FDT (Ft.\\xa0Nipsey\\xa0Hussle)',\n     'url': 'https://genius.com/Yg-fdt-lyrics',\n     'featured_artists': [{'api_path': '/artists/1263',\n       'header_image_url': 'https://images.genius.com/d17c9ece2ecf27b100f884f5e99d0be9.1000x345x1.jpg',\n       'id': 1263,\n       'image_url': 'https://images.genius.com/294a7b3b0009e710be0cc01db8c6fa70.874x874x1.jpg',\n       'is_meme_verified': True,\n       'is_verified': True,\n       'name': 'Nipsey Hussle',\n       'url': 'https://genius.com/artists/Nipsey-hussle',\n       'iq': 3829}],\n     'primary_artist': {'api_path': '/artists/1450',\n      'header_image_url': 'https://images.genius.com/9a88f3e337dd4995d8fa964256505b46.1000x1000x1.jpg',\n      'id': 1450,\n      'image_url': 'https://images.genius.com/3d62966592db27f223d4e6050790656d.1000x1000x1.jpg',\n      'is_meme_verified': True,\n      'is_verified': True,\n      'name': 'YG',\n      'url': 'https://genius.com/artists/Yg',\n      'iq': 12938}}},\n   {'highlights': [],\n    'index': 'song',\n    'type': 'song',\n    'result': {'annotation_count': 23,\n     'api_path': '/songs/4523445',\n     'artist_names': 'YG (Ft. Jon Z & Tyga)',\n     'full_title': 'Go Loko by\\xa0YG (Ft.\\xa0Jon\\xa0Z & Tyga)',\n     'header_image_thumbnail_url': 'https://images.genius.com/bcac3ae641ccfe4316894328432e3445.300x300x1.jpg',\n     'header_image_url': 'https://images.genius.com/bcac3ae641ccfe4316894328432e3445.1000x1000x1.jpg',\n     'id': 4523445,\n     'lyrics_owner_id': 5719281,\n     'lyrics_state': 'complete',\n     'path': '/Yg-go-loko-lyrics',\n     'pyongs_count': 40,\n     'relationships_index_url': 'https://genius.com/Yg-go-loko-sample',\n     'release_date_components': {'year': 2019, 'month': 5, 'day': 3},\n     'release_date_for_display': 'May 3, 2019',\n     'release_date_with_abbreviated_month_for_display': 'May. 3, 2019',\n     'song_art_image_thumbnail_url': 'https://images.genius.com/bcac3ae641ccfe4316894328432e3445.300x300x1.jpg',\n     'song_art_image_url': 'https://images.genius.com/bcac3ae641ccfe4316894328432e3445.1000x1000x1.jpg',\n     'stats': {'unreviewed_annotations': 6, 'hot': False, 'pageviews': 404077},\n     'title': 'Go Loko',\n     'title_with_featured': 'Go Loko (Ft.\\xa0Jon\\xa0Z & Tyga)',\n     'url': 'https://genius.com/Yg-go-loko-lyrics',\n     'featured_artists': [{'api_path': '/artists/554',\n       'header_image_url': 'https://images.genius.com/2232c935c94e05f96fa198329d2396d5.1000x752x1.jpg',\n       'id': 554,\n       'image_url': 'https://images.genius.com/25f1ac55a2a33ecf5cfd0f33abf3bc2e.475x475x1.png',\n       'is_meme_verified': False,\n       'is_verified': True,\n       'name': 'Tyga',\n       'url': 'https://genius.com/artists/Tyga',\n       'iq': 827},\n      {'api_path': '/artists/1036798',\n       'header_image_url': 'https://images.genius.com/808b1b08db5f9b023f7e1831448dc16b.800x284x275.gif',\n       'id': 1036798,\n       'image_url': 'https://images.genius.com/5bfad3b2e873ea8816f716e48e81949e.1000x1000x1.png',\n       'is_meme_verified': False,\n       'is_verified': True,\n       'name': 'Jon Z',\n       'url': 'https://genius.com/artists/Jon-z',\n       'iq': 267}],\n     'primary_artist': {'api_path': '/artists/1450',\n      'header_image_url': 'https://images.genius.com/9a88f3e337dd4995d8fa964256505b46.1000x1000x1.jpg',\n      'id': 1450,\n      'image_url': 'https://images.genius.com/3d62966592db27f223d4e6050790656d.1000x1000x1.jpg',\n      'is_meme_verified': True,\n      'is_verified': True,\n      'name': 'YG',\n      'url': 'https://genius.com/artists/Yg',\n      'iq': 12938}}},\n   {'highlights': [],\n    'index': 'song',\n    'type': 'song',\n    'result': {'annotation_count': 18,\n     'api_path': '/songs/379980',\n     'artist_names': 'YG',\n     'full_title': 'Bicken Back Being Bool by\\xa0YG',\n     'header_image_thumbnail_url': 'https://images.genius.com/ba2a73211e21ff3e11eba91f3f156e9d.300x300x1.jpg',\n     'header_image_url': 'https://images.genius.com/ba2a73211e21ff3e11eba91f3f156e9d.1000x1000x1.jpg',\n     'id': 379980,\n     'lyrics_owner_id': 22533,\n     'lyrics_state': 'complete',\n     'path': '/Yg-bicken-back-being-bool-lyrics',\n     'pyongs_count': 113,\n     'relationships_index_url': 'https://genius.com/Yg-bicken-back-being-bool-sample',\n     'release_date_components': {'year': 2014, 'month': 3, 'day': 18},\n     'release_date_for_display': 'March 18, 2014',\n     'release_date_with_abbreviated_month_for_display': 'Mar. 18, 2014',\n     'song_art_image_thumbnail_url': 'https://images.genius.com/ba2a73211e21ff3e11eba91f3f156e9d.300x300x1.jpg',\n     'song_art_image_url': 'https://images.genius.com/ba2a73211e21ff3e11eba91f3f156e9d.1000x1000x1.jpg',\n     'stats': {'unreviewed_annotations': 0, 'hot': False, 'pageviews': 357697},\n     'title': 'Bicken Back Being Bool',\n     'title_with_featured': 'Bicken Back Being Bool',\n     'url': 'https://genius.com/Yg-bicken-back-being-bool-lyrics',\n     'featured_artists': [],\n     'primary_artist': {'api_path': '/artists/1450',\n      'header_image_url': 'https://images.genius.com/9a88f3e337dd4995d8fa964256505b46.1000x1000x1.jpg',\n      'id': 1450,\n      'image_url': 'https://images.genius.com/3d62966592db27f223d4e6050790656d.1000x1000x1.jpg',\n      'is_meme_verified': True,\n      'is_verified': True,\n      'name': 'YG',\n      'url': 'https://genius.com/artists/Yg',\n      'iq': 12938}}},\n   {'highlights': [],\n    'index': 'song',\n    'type': 'song',\n    'result': {'annotation_count': 19,\n     'api_path': '/songs/281507',\n     'artist_names': 'YG (Ft. Mustard)',\n     'full_title': 'Left, Right by\\xa0YG (Ft.\\xa0Mustard)',\n     'header_image_thumbnail_url': 'https://images.rapgenius.com/7744c12deb7787415da0af209e10a03f.300x300x1.jpg',\n     'header_image_url': 'https://images.rapgenius.com/7744c12deb7787415da0af209e10a03f.300x300x1.jpg',\n     'id': 281507,\n     'lyrics_owner_id': 212477,\n     'lyrics_state': 'complete',\n     'path': '/Yg-left-right-lyrics',\n     'pyongs_count': 91,\n     'relationships_index_url': 'https://genius.com/Yg-left-right-sample',\n     'release_date_components': {'year': 2013, 'month': 11, 'day': 28},\n     'release_date_for_display': 'November 28, 2013',\n     'release_date_with_abbreviated_month_for_display': 'Nov. 28, 2013',\n     'song_art_image_thumbnail_url': 'https://images.rapgenius.com/7744c12deb7787415da0af209e10a03f.300x300x1.jpg',\n     'song_art_image_url': 'https://images.rapgenius.com/7744c12deb7787415da0af209e10a03f.300x300x1.jpg',\n     'stats': {'unreviewed_annotations': 3, 'hot': False, 'pageviews': 353419},\n     'title': 'Left, Right',\n     'title_with_featured': 'Left, Right (Ft.\\xa0Mustard)',\n     'url': 'https://genius.com/Yg-left-right-lyrics',\n     'featured_artists': [{'api_path': '/artists/29780',\n       'header_image_url': 'https://s3.amazonaws.com/filepicker-images-rapgenius/a5Gy2GnyR0ijw96H739w_dj-mustard-bw-2016-billboard-1548.jpg',\n       'id': 29780,\n       'image_url': 'https://s3.amazonaws.com/filepicker-images-rapgenius/a5Gy2GnyR0ijw96H739w_dj-mustard-bw-2016-billboard-1548.jpg',\n       'is_meme_verified': False,\n       'is_verified': True,\n       'name': 'Mustard',\n       'url': 'https://genius.com/artists/Mustard',\n       'iq': 376}],\n     'primary_artist': {'api_path': '/artists/1450',\n      'header_image_url': 'https://images.genius.com/9a88f3e337dd4995d8fa964256505b46.1000x1000x1.jpg',\n      'id': 1450,\n      'image_url': 'https://images.genius.com/3d62966592db27f223d4e6050790656d.1000x1000x1.jpg',\n      'is_meme_verified': True,\n      'is_verified': True,\n      'name': 'YG',\n      'url': 'https://genius.com/artists/Yg',\n      'iq': 12938}}}]}}"
     },
     "execution_count": 6,
     "metadata": {},
     "output_type": "execute_result"
    }
   ],
   "source": [
    "request_artist_info('YG').json()"
   ],
   "metadata": {
    "collapsed": false,
    "ExecuteTime": {
     "end_time": "2023-09-05T09:39:28.332693729Z",
     "start_time": "2023-09-05T09:39:27.382997156Z"
    }
   }
  },
  {
   "cell_type": "code",
   "execution_count": 7,
   "outputs": [
    {
     "data": {
      "text/plain": "\"Keenon Daequan Ray (Motherfuckin') Jackson, professionally known as “YG,” short for “Young Gangster,” is a rapper and songwriter born and raised in Compton, California. He usually works with the equally famous producer, DJ Mustard; both from the same Blood (Gang) sect – the Tree Top Pirus. He met Nipsey Hu$$le often in his gang days, and eventually hung out and began to rap with him.\\n\\nYG is currently signed to Def Jam Recordings, as well as CTE World after befriending Jeezy. Both record labels, as well as Pu$haz Inc (formed by YG, Ty Dolla $ign, and DJ Mustard) released My Krazy Life, in 2014. The album peaked at #2 on the Billboard 200 and was certified Platinum in April 2017.\\n\\nIn 2016, YG released his sophomore album, Still Brazy, which peaked at #6 on the Billboard 200. The album discusses his paranoia after being shot in 2015, his fame and success, and his political opinions. The album spawned three singles, “Twist My Fingaz”, “Why You Always Hatin?”, and the controversial, but popular and impacting “FDT (Fuck Donald Trump)”. In 2018, YG released his third studio album, Stay Dangerous, supported by the singles “Suu Whoop”, and “Big Bank”, the latter being YG’s highest charting solo single on the Billboard 100, peaking at #16.\""
     },
     "execution_count": 7,
     "metadata": {},
     "output_type": "execute_result"
    }
   ],
   "source": [
    "output = get_artist_description(1450)\n",
    "output"
   ],
   "metadata": {
    "collapsed": false,
    "ExecuteTime": {
     "end_time": "2023-09-05T09:39:28.926041204Z",
     "start_time": "2023-09-05T09:39:28.334353276Z"
    }
   }
  },
  {
   "cell_type": "code",
   "execution_count": 8,
   "outputs": [
    {
     "name": "stdout",
     "output_type": "stream",
     "text": [
      "Searching for songs by YG...\n",
      "\n",
      "Song 1: \"My Nigga\"\n",
      "Song 2: \"Who Do You Love?\"\n",
      "\n",
      "Reached user-specified song limit (2).\n",
      "Done. Found 2 songs.\n"
     ]
    }
   ],
   "source": [
    "genius = lyricsgenius.Genius(token)\n",
    "art_yg = genius.search_artist('YG', max_songs=2)"
   ],
   "metadata": {
    "collapsed": false,
    "ExecuteTime": {
     "end_time": "2023-09-05T09:39:35.568035784Z",
     "start_time": "2023-09-05T09:39:28.927795421Z"
    }
   }
  },
  {
   "cell_type": "code",
   "execution_count": 9,
   "outputs": [
    {
     "data": {
      "text/plain": "1450"
     },
     "execution_count": 9,
     "metadata": {},
     "output_type": "execute_result"
    }
   ],
   "source": [
    "art_yg.id"
   ],
   "metadata": {
    "collapsed": false,
    "ExecuteTime": {
     "end_time": "2023-09-05T09:39:35.574514050Z",
     "start_time": "2023-09-05T09:39:35.570097742Z"
    }
   }
  },
  {
   "cell_type": "code",
   "execution_count": 11,
   "outputs": [
    {
     "ename": "ValueError",
     "evalue": "[E004] Can't set up pipeline component: a factory for 'language_detector' already exists. Existing factory: <function get_lang_detector at 0x7f8364796ca0>. New factory: <function get_lang_detector at 0x7f81d7348430>",
     "output_type": "error",
     "traceback": [
      "\u001B[0;31m---------------------------------------------------------------------------\u001B[0m",
      "\u001B[0;31mValueError\u001B[0m                                Traceback (most recent call last)",
      "Cell \u001B[0;32mIn[11], line 5\u001B[0m\n\u001B[1;32m      2\u001B[0m     \u001B[38;5;28;01mreturn\u001B[39;00m LanguageDetector(seed\u001B[38;5;241m=\u001B[39m\u001B[38;5;241m42\u001B[39m)  \u001B[38;5;66;03m# We use the seed 42\u001B[39;00m\n\u001B[1;32m      4\u001B[0m nlp_model \u001B[38;5;241m=\u001B[39m spacy\u001B[38;5;241m.\u001B[39mload(\u001B[38;5;124m\"\u001B[39m\u001B[38;5;124men_core_web_sm\u001B[39m\u001B[38;5;124m\"\u001B[39m)\n\u001B[0;32m----> 5\u001B[0m \u001B[43mLanguage\u001B[49m\u001B[38;5;241;43m.\u001B[39;49m\u001B[43mfactory\u001B[49m\u001B[43m(\u001B[49m\u001B[38;5;124;43m\"\u001B[39;49m\u001B[38;5;124;43mlanguage_detector\u001B[39;49m\u001B[38;5;124;43m\"\u001B[39;49m\u001B[43m,\u001B[49m\u001B[43m \u001B[49m\u001B[43mfunc\u001B[49m\u001B[38;5;241;43m=\u001B[39;49m\u001B[43mget_lang_detector\u001B[49m\u001B[43m)\u001B[49m\n\u001B[1;32m      6\u001B[0m nlp_model\u001B[38;5;241m.\u001B[39madd_pipe(\u001B[38;5;124m'\u001B[39m\u001B[38;5;124mlanguage_detector\u001B[39m\u001B[38;5;124m'\u001B[39m, last\u001B[38;5;241m=\u001B[39m\u001B[38;5;28;01mTrue\u001B[39;00m)\n\u001B[1;32m      8\u001B[0m \u001B[38;5;66;03m# Document level language detection\u001B[39;00m\n",
      "File \u001B[0;32m~/miniconda3/envs/tf/lib/python3.9/site-packages/spacy/language.py:541\u001B[0m, in \u001B[0;36mLanguage.factory\u001B[0;34m(cls, name, default_config, assigns, requires, retokenizes, default_score_weights, func)\u001B[0m\n\u001B[1;32m    538\u001B[0m     \u001B[38;5;28;01mreturn\u001B[39;00m factory_func\n\u001B[1;32m    540\u001B[0m \u001B[38;5;28;01mif\u001B[39;00m func \u001B[38;5;129;01mis\u001B[39;00m \u001B[38;5;129;01mnot\u001B[39;00m \u001B[38;5;28;01mNone\u001B[39;00m:  \u001B[38;5;66;03m# Support non-decorator use cases\u001B[39;00m\n\u001B[0;32m--> 541\u001B[0m     \u001B[38;5;28;01mreturn\u001B[39;00m \u001B[43madd_factory\u001B[49m\u001B[43m(\u001B[49m\u001B[43mfunc\u001B[49m\u001B[43m)\u001B[49m\n\u001B[1;32m    542\u001B[0m \u001B[38;5;28;01mreturn\u001B[39;00m add_factory\n",
      "File \u001B[0;32m~/miniconda3/envs/tf/lib/python3.9/site-packages/spacy/language.py:511\u001B[0m, in \u001B[0;36mLanguage.factory.<locals>.add_factory\u001B[0;34m(factory_func)\u001B[0m\n\u001B[1;32m    507\u001B[0m     \u001B[38;5;28;01mif\u001B[39;00m \u001B[38;5;129;01mnot\u001B[39;00m util\u001B[38;5;241m.\u001B[39mis_same_func(factory_func, existing_func):\n\u001B[1;32m    508\u001B[0m         err \u001B[38;5;241m=\u001B[39m Errors\u001B[38;5;241m.\u001B[39mE004\u001B[38;5;241m.\u001B[39mformat(\n\u001B[1;32m    509\u001B[0m             name\u001B[38;5;241m=\u001B[39mname, func\u001B[38;5;241m=\u001B[39mexisting_func, new_func\u001B[38;5;241m=\u001B[39mfactory_func\n\u001B[1;32m    510\u001B[0m         )\n\u001B[0;32m--> 511\u001B[0m         \u001B[38;5;28;01mraise\u001B[39;00m \u001B[38;5;167;01mValueError\u001B[39;00m(err)\n\u001B[1;32m    513\u001B[0m arg_names \u001B[38;5;241m=\u001B[39m util\u001B[38;5;241m.\u001B[39mget_arg_names(factory_func)\n\u001B[1;32m    514\u001B[0m \u001B[38;5;28;01mif\u001B[39;00m \u001B[38;5;124m\"\u001B[39m\u001B[38;5;124mnlp\u001B[39m\u001B[38;5;124m\"\u001B[39m \u001B[38;5;129;01mnot\u001B[39;00m \u001B[38;5;129;01min\u001B[39;00m arg_names \u001B[38;5;129;01mor\u001B[39;00m \u001B[38;5;124m\"\u001B[39m\u001B[38;5;124mname\u001B[39m\u001B[38;5;124m\"\u001B[39m \u001B[38;5;129;01mnot\u001B[39;00m \u001B[38;5;129;01min\u001B[39;00m arg_names:\n",
      "\u001B[0;31mValueError\u001B[0m: [E004] Can't set up pipeline component: a factory for 'language_detector' already exists. Existing factory: <function get_lang_detector at 0x7f8364796ca0>. New factory: <function get_lang_detector at 0x7f81d7348430>"
     ]
    }
   ],
   "source": [
    "def get_lang_detector(nlp, name):\n",
    "    return LanguageDetector(seed=42)  # We use the seed 42\n",
    "\n",
    "nlp_model = spacy.load(\"en_core_web_sm\")\n",
    "Language.factory(\"language_detector\", func=get_lang_detector)\n",
    "nlp_model.add_pipe('language_detector', last=True)\n",
    "\n",
    "# Document level language detection\n",
    "art_desc = 'Jestem bardzo zmęczony. Chcę do domu'\n",
    "doc = nlp_model(art_desc)\n",
    "language = doc._.language\n",
    "print(language)"
   ],
   "metadata": {
    "collapsed": false,
    "ExecuteTime": {
     "end_time": "2023-09-05T09:41:15.079152346Z",
     "start_time": "2023-09-05T09:41:13.705750378Z"
    }
   }
  },
  {
   "cell_type": "code",
   "execution_count": 26,
   "outputs": [
    {
     "name": "stdout",
     "output_type": "stream",
     "text": [
      "Kesha {'language': 'en', 'score': 0.9999969818950334}\n",
      "Young Igi {'language': 'pl', 'score': 0.9999984309790839}\n",
      "John Legend {'language': 'en', 'score': 0.999995601100347}\n",
      "T. Rex {'language': 'en', 'score': 0.9999977381609912}\n",
      "Eldo {'language': 'pl', 'score': 0.9999978656136873}\n",
      "Wac Toja {'language': 'pl', 'score': 0.999997246962387}\n",
      "Lukasyno {'language': 'pl', 'score': 0.999999506922737}\n",
      "A$AP Ferg {'language': 'en', 'score': 0.999996964845936}\n",
      "PiH {'language': 'pl', 'score': 0.9999968892647092}\n",
      "Edgar Allan Poe {'language': 'en', 'score': 0.9999968023581145}\n",
      "Sarius {'language': 'pl', 'score': 0.9999984723359939}\n",
      "Lil Baby {'language': 'en', 'score': 0.9999976693251409}\n",
      "​twenty one pilots {'language': 'en', 'score': 0.9999972821818379}\n",
      "SoFaygo {'language': 'en', 'score': 0.9999983861095502}\n",
      "Chief Keef {'language': 'en', 'score': 0.9999977711211403}\n",
      "Kid Cudi {'language': 'en', 'score': 0.999996198481386}\n",
      "Miuosh {'language': 'pl', 'score': 0.9999985560837815}\n",
      "Kartky {'language': 'pl', 'score': 0.9999961698373355}\n",
      "Manuellsen {'language': 'de', 'score': 0.9999959438089194}\n",
      "Słoń (POL) {'language': 'pl', 'score': 0.9999990673576391}\n",
      "Pikers {'language': 'pl', 'score': 0.9999952940480396}\n",
      "TPS {'language': 'pl', 'score': 0.9999984246203044}\n",
      "макулатура (makulatura) {'language': 'ru', 'score': 0.9999978772175105}\n",
      "Peja {'language': 'pl', 'score': 0.9999985591444894}\n",
      "Panic! at the Disco {'language': 'en', 'score': 0.9999960073324133}\n",
      "Ayesha Erotica {'language': 'en', 'score': 0.9999983564592351}\n",
      "UPPERROOM {'language': 'UNKNOWN', 'score': 0.0}\n",
      "Vkie {'language': 'pl', 'score': 0.9999978957372095}\n",
      "P T K (CZE) {'language': 'cs', 'score': 0.9999993451973337}\n",
      "Kukon {'language': 'pl', 'score': 0.9999979825867746}\n",
      "Malik Montana {'language': 'pl', 'score': 0.9999993566225907}\n",
      "POETIK {'language': 'en', 'score': 0.9999966646566223}\n",
      "Adi Nowak {'language': 'pl', 'score': 0.9999978293410297}\n",
      "Pezet {'language': 'pl', 'score': 0.9999967429799584}\n",
      "Hemp Gru {'language': 'pl', 'score': 0.9999987557673433}\n",
      "G Herbo {'language': 'en', 'score': 0.9999982897477124}\n",
      "Solar/Białas {'language': 'pl', 'score': 0.9999989621792381}\n",
      "Триада (Triada) {'language': 'ru', 'score': 0.9999961095761313}\n",
      "Hidra {'language': 'tr', 'score': 0.9999977261741455}\n",
      "Molesta {'language': 'pl', 'score': 0.9999994600523336}\n",
      "Bonus RPK {'language': 'pl', 'score': 0.9999989633458757}\n",
      "Tede {'language': 'pl', 'score': 0.9999979240354087}\n",
      "Sagopa Kajmer {'language': 'tr', 'score': 0.9999979218390146}\n",
      "Noam Chomsky {'language': 'UNKNOWN', 'score': 0.0}\n",
      "Bad Bunny {'language': 'es', 'score': 0.9999971092883134}\n",
      "Slums Attack {'language': 'pl', 'score': 0.9999989285099796}\n",
      "Borixon {'language': 'pl', 'score': 0.9999956479137002}\n",
      "Dudek P56 {'language': 'pl', 'score': 0.9999971175878126}\n",
      "Rogal DDL {'language': 'pl', 'score': 0.9999982946722438}\n",
      "Beka KSH {'language': 'pl', 'score': 0.9999978570438331}\n",
      "Lil Wayne {'language': 'en', 'score': 0.9999989785354231}\n",
      "Kaz Bałagane {'language': 'pl', 'score': 0.9999991586437991}\n",
      "KęKę {'language': 'pl', 'score': 0.9999982461692768}\n",
      "RIN {'language': 'de', 'score': 0.9999969648900209}\n",
      "Wzgórze Ya-Pa 3 {'language': 'pl', 'score': 0.9999956821982703}\n",
      "Mustard {'language': 'en', 'score': 0.9999974810128502}\n",
      "Trzeci Wymiar {'language': 'pl', 'score': 0.999997358892884}\n",
      "​donGURALesko {'language': 'pl', 'score': 0.9999997477603122}\n",
      "Каста (Kasta) {'language': 'ru', 'score': 0.9999977600844348}\n",
      "KaeN {'language': 'pl', 'score': 0.9999978317381739}\n",
      "Te-Tris {'language': 'pl', 'score': 0.9999979406410753}\n",
      "Pięć Dwa {'language': 'pl', 'score': 0.999997090556092}\n",
      "Paluch {'language': 'pl', 'score': 0.9999980482592878}\n",
      "Juice WRLD {'language': 'en', 'score': 0.9999969441573684}\n",
      "2 Chainz {'language': 'en', 'score': 0.9999967319401831}\n",
      "LSO {'language': 'pl', 'score': 0.9999986548947343}\n",
      "Zeamsone {'language': 'pl', 'score': 0.9999981535203658}\n",
      "Chada {'language': 'pl', 'score': 0.9999976486774297}\n",
      "Kid Ink {'language': 'en', 'score': 0.99999718450403}\n",
      "Big K.R.I.T. {'language': 'en', 'score': 0.9999987401421869}\n",
      "Baby Tate {'language': 'en', 'score': 0.9999964593542625}\n",
      "Rick Ross {'language': 'en', 'score': 0.9999955483861382}\n",
      "Migos {'language': 'en', 'score': 0.999997533242315}\n",
      "Zate {'language': 'de', 'score': 0.9999966295818352}\n",
      "Sho Baraka {'language': 'en', 'score': 0.999997052586006}\n",
      "White House Records {'language': 'UNKNOWN', 'score': 0.0}\n",
      "Scarlxrd {'language': 'en', 'score': 0.9999966210149632}\n",
      "MadMan {'language': 'it', 'score': 0.9999946573303773}\n",
      "Жак Энтони (Jacques Anthony) {'language': 'ru', 'score': 0.9999960209264138}\n",
      "Bob Dylan {'language': 'en', 'score': 0.9999963468507858}\n",
      "Ab-Soul {'language': 'en', 'score': 0.9999972756341355}\n",
      "Deys {'language': 'pl', 'score': 0.999997332407147}\n",
      "Rich Homie Quan {'language': 'en', 'score': 0.9999972891307276}\n",
      "Żabson {'language': 'pl', 'score': 0.9999981813500152}\n",
      "Klarenz {'language': 'UNKNOWN', 'score': 0.0}\n",
      "6ix9ine {'language': 'en', 'score': 0.9999979562066592}\n",
      "Mary J. Blige {'language': 'en', 'score': 0.9999953235789769}\n",
      "Kizo {'language': 'pl', 'score': 0.9999970014347934}\n"
     ]
    }
   ],
   "source": [
    "ids = get_artists_genius_ids()\n",
    "polish_artists = []\n",
    "for id, name in ids:\n",
    "    desc = get_artist_description(id)\n",
    "    doc = nlp_model(desc)\n",
    "    language = doc._.language\n",
    "    # language can also be unknown\n",
    "    print(name, language)\n",
    "    if language['language'] == 'pl':\n",
    "        polish_artists.append((id,name))"
   ],
   "metadata": {
    "collapsed": false,
    "ExecuteTime": {
     "end_time": "2023-09-05T09:57:45.338701643Z",
     "start_time": "2023-09-05T09:56:53.313704609Z"
    }
   }
  },
  {
   "cell_type": "code",
   "execution_count": 25,
   "outputs": [
    {
     "name": "stdout",
     "output_type": "stream",
     "text": [
      "[(1037092, 'Young Igi'), (28888, 'Eldo'), (221538, 'Wac Toja'), (62323, 'Lukasyno'), (58207, 'PiH'), (131781, 'Sarius'), (59094, 'Miuosh'), (106293, 'Kartky'), (59083, 'Słoń (POL)'), (97190, 'Pikers'), (75583, 'TPS'), (63842, 'Peja'), (1147271, 'Vkie'), (176619, 'Kukon'), (507403, 'Malik Montana'), (638269, 'Adi Nowak'), (36890, 'Pezet'), (63207, 'Hemp Gru'), (55255, 'Solar/Białas'), (58200, 'Molesta'), (159286, 'Bonus RPK'), (24193, 'Tede'), (68063, 'Slums Attack'), (59077, 'Borixon'), (493612, 'Dudek P56'), (632584, 'Rogal DDL'), (137735, 'Beka KSH'), (214617, 'Kaz Bałagane'), (60686, 'KęKę'), (186755, 'Wzgórze Ya-Pa 3'), (59079, 'Trzeci Wymiar'), (42469, '\\u200bdonGURALesko'), (70139, 'KaeN'), (20975, 'Te-Tris'), (74375, 'Pięć Dwa'), (59080, 'Paluch'), (142884, 'LSO'), (627199, 'Zeamsone'), (58666, 'Chada'), (57314, 'Deys'), (84456, 'Żabson'), (1012840, 'Kizo')]\n"
     ]
    }
   ],
   "source": [
    "print(polish_artists)"
   ],
   "metadata": {
    "collapsed": false,
    "ExecuteTime": {
     "end_time": "2023-09-05T09:55:44.668832377Z",
     "start_time": "2023-09-05T09:55:44.657305574Z"
    }
   }
  },
  {
   "cell_type": "code",
   "execution_count": 15,
   "outputs": [
    {
     "data": {
      "text/plain": "{'https://genius.com/artists/2-chainz',\n 'https://genius.com/artists/6ix9ine',\n 'https://genius.com/artists/A-ap-ferg',\n 'https://genius.com/artists/Ab-soul',\n 'https://genius.com/artists/Adi-nowak',\n 'https://genius.com/artists/Ayesha-erotica',\n 'https://genius.com/artists/Baby-tate',\n 'https://genius.com/artists/Bad-bunny',\n 'https://genius.com/artists/Beka-ksh',\n 'https://genius.com/artists/Big-krit',\n 'https://genius.com/artists/Bob-dylan',\n 'https://genius.com/artists/Bonus-rpk',\n 'https://genius.com/artists/Borixon',\n 'https://genius.com/artists/Chada',\n 'https://genius.com/artists/Chief-keef',\n 'https://genius.com/artists/Deys',\n 'https://genius.com/artists/Donguralesko',\n 'https://genius.com/artists/Dudek-p56',\n 'https://genius.com/artists/Edgar-allan-poe',\n 'https://genius.com/artists/Eldo',\n 'https://genius.com/artists/G-herbo',\n 'https://genius.com/artists/Hemp-gru',\n 'https://genius.com/artists/Hidra',\n 'https://genius.com/artists/Jacques-anthony',\n 'https://genius.com/artists/John-legend',\n 'https://genius.com/artists/Juice-wrld',\n 'https://genius.com/artists/Kaen',\n 'https://genius.com/artists/Kartky',\n 'https://genius.com/artists/Kasta',\n 'https://genius.com/artists/Kaz-baagane',\n 'https://genius.com/artists/Keke',\n 'https://genius.com/artists/Kesha',\n 'https://genius.com/artists/Kid-cudi',\n 'https://genius.com/artists/Kid-ink',\n 'https://genius.com/artists/Kizo',\n 'https://genius.com/artists/Klarenz',\n 'https://genius.com/artists/Kukon',\n 'https://genius.com/artists/Lil-baby',\n 'https://genius.com/artists/Lil-wayne',\n 'https://genius.com/artists/Lso',\n 'https://genius.com/artists/Lukasyno',\n 'https://genius.com/artists/Madman',\n 'https://genius.com/artists/Makulatura',\n 'https://genius.com/artists/Malik-montana',\n 'https://genius.com/artists/Manuellsen',\n 'https://genius.com/artists/Mary-j-blige',\n 'https://genius.com/artists/Migos',\n 'https://genius.com/artists/Miuosh',\n 'https://genius.com/artists/Molesta',\n 'https://genius.com/artists/Mustard',\n 'https://genius.com/artists/Noam-chomsky',\n 'https://genius.com/artists/P-t-k-cze',\n 'https://genius.com/artists/Paluch',\n 'https://genius.com/artists/Panic-at-the-disco',\n 'https://genius.com/artists/Peja',\n 'https://genius.com/artists/Pezet',\n 'https://genius.com/artists/Piec-dwa',\n 'https://genius.com/artists/Pih',\n 'https://genius.com/artists/Pikers',\n 'https://genius.com/artists/Poetik',\n 'https://genius.com/artists/Rich-homie-quan',\n 'https://genius.com/artists/Rick-ross',\n 'https://genius.com/artists/Rin',\n 'https://genius.com/artists/Rogal-ddl',\n 'https://genius.com/artists/Sagopa-kajmer',\n 'https://genius.com/artists/Sarius',\n 'https://genius.com/artists/Scarlxrd',\n 'https://genius.com/artists/Sho-baraka',\n 'https://genius.com/artists/Slums-attack',\n 'https://genius.com/artists/Sofaygo',\n 'https://genius.com/artists/Solar-biaas',\n 'https://genius.com/artists/Son-pol',\n 'https://genius.com/artists/T-rex',\n 'https://genius.com/artists/Te-tris',\n 'https://genius.com/artists/Tede',\n 'https://genius.com/artists/Tps',\n 'https://genius.com/artists/Triada',\n 'https://genius.com/artists/Trzeci-wymiar',\n 'https://genius.com/artists/Twenty-one-pilots',\n 'https://genius.com/artists/Upperroom',\n 'https://genius.com/artists/Vkie',\n 'https://genius.com/artists/Wac-toja',\n 'https://genius.com/artists/White-house-records',\n 'https://genius.com/artists/Wzgorze-ya-pa-3',\n 'https://genius.com/artists/Young-igi',\n 'https://genius.com/artists/Zabson',\n 'https://genius.com/artists/Zate',\n 'https://genius.com/artists/Zeamsone'}"
     },
     "execution_count": 15,
     "metadata": {},
     "output_type": "execute_result"
    }
   ],
   "source": [
    "ids"
   ],
   "metadata": {
    "collapsed": false,
    "ExecuteTime": {
     "end_time": "2023-09-05T09:48:52.721516574Z",
     "start_time": "2023-09-05T09:48:52.718224504Z"
    }
   }
  },
  {
   "cell_type": "code",
   "execution_count": 12,
   "outputs": [
    {
     "name": "stdout",
     "output_type": "stream",
     "text": [
      "{'language': 'pl', 'score': 0.9999973160564282}\n"
     ]
    }
   ],
   "source": [
    "art_desc = 'Jestem bardzo zmęczony. Chcę do domu'\n",
    "doc = nlp_model(art_desc)\n",
    "language = doc._.language\n",
    "print(language)"
   ],
   "metadata": {
    "collapsed": false,
    "ExecuteTime": {
     "end_time": "2023-09-05T09:42:22.985274002Z",
     "start_time": "2023-09-05T09:42:22.938800444Z"
    }
   }
  }
 ],
 "metadata": {
  "kernelspec": {
   "display_name": "Python 3",
   "language": "python",
   "name": "python3"
  },
  "language_info": {
   "codemirror_mode": {
    "name": "ipython",
    "version": 2
   },
   "file_extension": ".py",
   "mimetype": "text/x-python",
   "name": "python",
   "nbconvert_exporter": "python",
   "pygments_lexer": "ipython2",
   "version": "2.7.6"
  }
 },
 "nbformat": 4,
 "nbformat_minor": 0
}
