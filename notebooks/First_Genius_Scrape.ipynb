{
 "cells": [
  {
   "cell_type": "code",
   "execution_count": 1,
   "metadata": {
    "collapsed": true,
    "is_executing": true,
    "ExecuteTime": {
     "start_time": "2023-07-24T20:16:55.578953Z",
     "end_time": "2023-07-24T20:16:55.606876Z"
    }
   },
   "outputs": [],
   "source": [
    "from API_KEYS import GENIUS_BEARER, GENIUS_CLIENT_ID, GENIUS_CLIENT_SECRET"
   ]
  },
  {
   "cell_type": "code",
   "execution_count": 2,
   "outputs": [
    {
     "name": "stdout",
     "output_type": "stream",
     "text": [
      "[64, 64, 86]\n"
     ]
    }
   ],
   "source": [
    "print(list(map(lambda x: len(x), [GENIUS_BEARER, GENIUS_CLIENT_ID, GENIUS_CLIENT_SECRET])))"
   ],
   "metadata": {
    "collapsed": false,
    "ExecuteTime": {
     "start_time": "2023-07-24T20:16:55.600893Z",
     "end_time": "2023-07-24T20:16:55.614855Z"
    }
   }
  },
  {
   "cell_type": "code",
   "execution_count": 3,
   "outputs": [],
   "source": [
    "import requests\n",
    "from bs4 import BeautifulSoup\n",
    "import os\n",
    "import re"
   ],
   "metadata": {
    "collapsed": false,
    "ExecuteTime": {
     "start_time": "2023-07-24T20:16:56.398262Z",
     "end_time": "2023-07-24T20:16:56.783051Z"
    }
   }
  },
  {
   "cell_type": "code",
   "execution_count": 4,
   "outputs": [],
   "source": [
    "# Get artist object from Genius API\n",
    "def request_artist_info(artist_name, page=1):\n",
    "    base_url = 'https://api.genius.com'\n",
    "    headers = {'Authorization': 'Bearer ' + GENIUS_BEARER}\n",
    "    search_url = base_url + '/search?per_page=10&page=' + str(page)\n",
    "    data = {'q': artist_name}\n",
    "    response = requests.get(search_url, data=data, headers=headers)\n",
    "    return response\n",
    "# Get Genius.com song url's from the artist\n",
    "def request_song_url(artist_name, song_cap):\n",
    "    page = 1\n",
    "    songs = []\n",
    "\n",
    "    while True:\n",
    "        response = request_artist_info(artist_name, page)\n",
    "        json = response.json()\n",
    "        # Collect up to song_cap song objects from artist\n",
    "        song_info = []\n",
    "        for hit in json['response']['hits']:\n",
    "            if artist_name.lower() in hit['result']['primary_artist']['name'].lower():\n",
    "                song_info.append(hit)\n",
    "\n",
    "        # Collect song URL's from song objects\n",
    "        for song in song_info:\n",
    "            if (len(songs) < song_cap):\n",
    "                url = song['result']['url']\n",
    "                songs.append(url)\n",
    "\n",
    "        if (len(songs) == song_cap):\n",
    "            break\n",
    "        else:\n",
    "            page += 1\n",
    "\n",
    "    print('Found {} songs by {}'.format(len(songs), artist_name))\n",
    "    return songs\n",
    "\n",
    "\n",
    "# def request_song_urls(artist_name, song_cap=int(1e3)):\n",
    "#     page = 1\n",
    "#     songs = []\n",
    "#     while True:\n",
    "#         songs_info = []\n",
    "#         response = request_artist_info(artist_name, page).json()\n",
    "#         hits = response['response']['hits']\n",
    "#         for hit in hits:\n",
    "#             if artist_name.lower() in hit['result']['primary_artist']['name'].lower():\n",
    "#                 songs_info.append(hit)\n",
    "#         for song in songs_info:\n",
    "#             if len(songs) < song_cap:\n",
    "#                 url = song['result']['url']\n",
    "#                 songs.append(url)\n",
    "#             if (len(songs) == song_cap):\n",
    "#                 break\n",
    "#         else:\n",
    "#             page += 1\n",
    "#\n",
    "#     print('Found {} songs by {}'.format(len(songs), artist_name))\n",
    "#     return songs\n",
    "\n"
   ],
   "metadata": {
    "collapsed": false,
    "ExecuteTime": {
     "start_time": "2023-07-24T20:16:56.920415Z",
     "end_time": "2023-07-24T20:16:56.933381Z"
    }
   }
  },
  {
   "cell_type": "code",
   "execution_count": 8,
   "outputs": [],
   "source": [
    "# nonexistent artist, what's the response then\n",
    "output = request_artist_info('Otsochodziiii',1)\n",
    "if output.json()['response']['hits']:\n",
    "    print('ok')"
   ],
   "metadata": {
    "collapsed": false,
    "ExecuteTime": {
     "start_time": "2023-07-24T20:17:43.460515Z",
     "end_time": "2023-07-24T20:17:43.718726Z"
    }
   }
  },
  {
   "cell_type": "code",
   "execution_count": 41,
   "outputs": [
    {
     "data": {
      "text/plain": "{'hits': [{'highlights': [],\n   'index': 'song',\n   'type': 'song',\n   'result': {'annotation_count': 9,\n    'api_path': '/songs/3313777',\n    'artist_names': 'Otsochodzi',\n    'full_title': 'Nie, nie by\\xa0Otsochodzi',\n    'header_image_thumbnail_url': 'https://images.genius.com/065c15c04b36c65b669d85950970989e.300x300x1.jpg',\n    'header_image_url': 'https://images.genius.com/065c15c04b36c65b669d85950970989e.640x640x1.jpg',\n    'id': 3313777,\n    'language': 'pl',\n    'lyrics_owner_id': 291569,\n    'lyrics_state': 'complete',\n    'path': '/Otsochodzi-nie-nie-lyrics',\n    'pyongs_count': 23,\n    'relationships_index_url': 'https://genius.com/Otsochodzi-nie-nie-sample',\n    'release_date_components': {'year': 2017, 'month': 11, 'day': 15},\n    'release_date_for_display': 'November 15, 2017',\n    'release_date_with_abbreviated_month_for_display': 'Nov. 15, 2017',\n    'song_art_image_thumbnail_url': 'https://images.genius.com/065c15c04b36c65b669d85950970989e.300x300x1.jpg',\n    'song_art_image_url': 'https://images.genius.com/065c15c04b36c65b669d85950970989e.640x640x1.jpg',\n    'stats': {'unreviewed_annotations': 0, 'hot': False, 'pageviews': 408912},\n    'title': 'Nie, nie',\n    'title_with_featured': 'Nie, nie',\n    'url': 'https://genius.com/Otsochodzi-nie-nie-lyrics',\n    'featured_artists': [],\n    'primary_artist': {'api_path': '/artists/209028',\n     'header_image_url': 'https://images.genius.com/d48d6f9ab25114446d3744c1d6fa0642.800x500x1.jpg',\n     'id': 209028,\n     'image_url': 'https://images.genius.com/a7251c12492b0635e58ba843fb29f2ac.1000x1000x1.jpg',\n     'is_meme_verified': False,\n     'is_verified': True,\n     'name': 'Otsochodzi',\n     'url': 'https://genius.com/artists/Otsochodzi',\n     'iq': 427}}},\n  {'highlights': [],\n   'index': 'song',\n   'type': 'song',\n   'result': {'annotation_count': 16,\n    'api_path': '/songs/3190033',\n    'artist_names': 'Otsochodzi (Ft. Taco Hemingway)',\n    'full_title': 'Nowy Kolor by\\xa0Otsochodzi (Ft.\\xa0Taco\\xa0Hemingway)',\n    'header_image_thumbnail_url': 'https://images.genius.com/077698344f2ae1d98fb2b02cf2a17120.300x151x1.jpg',\n    'header_image_url': 'https://images.genius.com/077698344f2ae1d98fb2b02cf2a17120.620x313x1.jpg',\n    'id': 3190033,\n    'language': 'pl',\n    'lyrics_owner_id': 3143487,\n    'lyrics_state': 'complete',\n    'path': '/Otsochodzi-nowy-kolor-lyrics',\n    'pyongs_count': 12,\n    'relationships_index_url': 'https://genius.com/Otsochodzi-nowy-kolor-sample',\n    'release_date_components': {'year': 2017, 'month': 8, 'day': 9},\n    'release_date_for_display': 'August 9, 2017',\n    'release_date_with_abbreviated_month_for_display': 'Aug. 9, 2017',\n    'song_art_image_thumbnail_url': 'https://images.genius.com/628723eb23fe4a286e6b5f4c897f08d6.300x300x1.jpg',\n    'song_art_image_url': 'https://images.genius.com/628723eb23fe4a286e6b5f4c897f08d6.500x500x1.jpg',\n    'stats': {'unreviewed_annotations': 0, 'hot': False, 'pageviews': 224121},\n    'title': 'Nowy Kolor',\n    'title_with_featured': 'Nowy Kolor (Ft.\\xa0Taco\\xa0Hemingway)',\n    'url': 'https://genius.com/Otsochodzi-nowy-kolor-lyrics',\n    'featured_artists': [{'api_path': '/artists/114783',\n      'header_image_url': 'https://images.genius.com/41437523913170c516fb500db030ad80.760x400x1.jpg',\n      'id': 114783,\n      'image_url': 'https://images.genius.com/e5996f18e3130755a34c88772998eb8e.729x729x1.jpg',\n      'is_meme_verified': True,\n      'is_verified': True,\n      'name': 'Taco Hemingway',\n      'url': 'https://genius.com/artists/Taco-hemingway',\n      'iq': 4545}],\n    'primary_artist': {'api_path': '/artists/209028',\n     'header_image_url': 'https://images.genius.com/d48d6f9ab25114446d3744c1d6fa0642.800x500x1.jpg',\n     'id': 209028,\n     'image_url': 'https://images.genius.com/a7251c12492b0635e58ba843fb29f2ac.1000x1000x1.jpg',\n     'is_meme_verified': False,\n     'is_verified': True,\n     'name': 'Otsochodzi',\n     'url': 'https://genius.com/artists/Otsochodzi',\n     'iq': 427}}},\n  {'highlights': [],\n   'index': 'song',\n   'type': 'song',\n   'result': {'annotation_count': 21,\n    'api_path': '/songs/3313774',\n    'artist_names': 'Otsochodzi (Ft. Pezet)',\n    'full_title': 'AHA by\\xa0Otsochodzi (Ft.\\xa0Pezet)',\n    'header_image_thumbnail_url': 'https://images.genius.com/065c15c04b36c65b669d85950970989e.300x300x1.jpg',\n    'header_image_url': 'https://images.genius.com/065c15c04b36c65b669d85950970989e.640x640x1.jpg',\n    'id': 3313774,\n    'language': 'pl',\n    'lyrics_owner_id': 2772907,\n    'lyrics_state': 'complete',\n    'path': '/Otsochodzi-aha-lyrics',\n    'pyongs_count': 6,\n    'relationships_index_url': 'https://genius.com/Otsochodzi-aha-sample',\n    'release_date_components': {'year': 2017, 'month': 11, 'day': 24},\n    'release_date_for_display': 'November 24, 2017',\n    'release_date_with_abbreviated_month_for_display': 'Nov. 24, 2017',\n    'song_art_image_thumbnail_url': 'https://images.genius.com/065c15c04b36c65b669d85950970989e.300x300x1.jpg',\n    'song_art_image_url': 'https://images.genius.com/065c15c04b36c65b669d85950970989e.640x640x1.jpg',\n    'stats': {'unreviewed_annotations': 0, 'hot': False, 'pageviews': 83958},\n    'title': 'AHA',\n    'title_with_featured': 'AHA (Ft.\\xa0Pezet)',\n    'url': 'https://genius.com/Otsochodzi-aha-lyrics',\n    'featured_artists': [{'api_path': '/artists/36890',\n      'header_image_url': 'https://images.genius.com/d1120b9784e228dbd6c00112cc1ea9cd.1000x1000x1.jpg',\n      'id': 36890,\n      'image_url': 'https://images.genius.com/f301881a110f539c2cecf03e53630f23.628x628x1.jpg',\n      'is_meme_verified': False,\n      'is_verified': False,\n      'name': 'Pezet',\n      'url': 'https://genius.com/artists/Pezet'}],\n    'primary_artist': {'api_path': '/artists/209028',\n     'header_image_url': 'https://images.genius.com/d48d6f9ab25114446d3744c1d6fa0642.800x500x1.jpg',\n     'id': 209028,\n     'image_url': 'https://images.genius.com/a7251c12492b0635e58ba843fb29f2ac.1000x1000x1.jpg',\n     'is_meme_verified': False,\n     'is_verified': True,\n     'name': 'Otsochodzi',\n     'url': 'https://genius.com/artists/Otsochodzi',\n     'iq': 427}}},\n  {'highlights': [],\n   'index': 'song',\n   'type': 'song',\n   'result': {'annotation_count': 25,\n    'api_path': '/songs/3313801',\n    'artist_names': 'Otsochodzi (Ft. Holak, O.S.T.R. & Taco Hemingway)',\n    'full_title': 'SumieNIE by\\xa0Otsochodzi (Ft.\\xa0Holak, O.S.T.R. & Taco\\xa0Hemingway)',\n    'header_image_thumbnail_url': 'https://images.genius.com/065c15c04b36c65b669d85950970989e.300x300x1.jpg',\n    'header_image_url': 'https://images.genius.com/065c15c04b36c65b669d85950970989e.640x640x1.jpg',\n    'id': 3313801,\n    'language': 'pl',\n    'lyrics_owner_id': 2772907,\n    'lyrics_state': 'complete',\n    'path': '/Otsochodzi-sumienie-lyrics',\n    'pyongs_count': 7,\n    'relationships_index_url': 'https://genius.com/Otsochodzi-sumienie-sample',\n    'release_date_components': {'year': 2017, 'month': 11, 'day': 24},\n    'release_date_for_display': 'November 24, 2017',\n    'release_date_with_abbreviated_month_for_display': 'Nov. 24, 2017',\n    'song_art_image_thumbnail_url': 'https://images.genius.com/065c15c04b36c65b669d85950970989e.300x300x1.jpg',\n    'song_art_image_url': 'https://images.genius.com/065c15c04b36c65b669d85950970989e.640x640x1.jpg',\n    'stats': {'unreviewed_annotations': 0, 'hot': False, 'pageviews': 78000},\n    'title': 'SumieNIE',\n    'title_with_featured': 'SumieNIE (Ft.\\xa0Holak, O.S.T.R. & Taco\\xa0Hemingway)',\n    'url': 'https://genius.com/Otsochodzi-sumienie-lyrics',\n    'featured_artists': [{'api_path': '/artists/114783',\n      'header_image_url': 'https://images.genius.com/41437523913170c516fb500db030ad80.760x400x1.jpg',\n      'id': 114783,\n      'image_url': 'https://images.genius.com/e5996f18e3130755a34c88772998eb8e.729x729x1.jpg',\n      'is_meme_verified': True,\n      'is_verified': True,\n      'name': 'Taco Hemingway',\n      'url': 'https://genius.com/artists/Taco-hemingway',\n      'iq': 4545},\n     {'api_path': '/artists/58540',\n      'header_image_url': 'https://images.genius.com/e7aec1e79b0d3ff77cef9e276e6e6d5d.720x720x1.jpg',\n      'id': 58540,\n      'image_url': 'https://images.genius.com/e7aec1e79b0d3ff77cef9e276e6e6d5d.720x720x1.jpg',\n      'is_meme_verified': False,\n      'is_verified': False,\n      'name': 'O.S.T.R.',\n      'url': 'https://genius.com/artists/Ostr'},\n     {'api_path': '/artists/576365',\n      'header_image_url': 'https://images.genius.com/5d00889af473557de8dd901192554267.1000x1000x1.jpg',\n      'id': 576365,\n      'image_url': 'https://images.genius.com/9611af9d74af279048f6fa2deebcee4d.1000x1000x1.jpg',\n      'is_meme_verified': False,\n      'is_verified': False,\n      'name': 'Holak',\n      'url': 'https://genius.com/artists/Holak'}],\n    'primary_artist': {'api_path': '/artists/209028',\n     'header_image_url': 'https://images.genius.com/d48d6f9ab25114446d3744c1d6fa0642.800x500x1.jpg',\n     'id': 209028,\n     'image_url': 'https://images.genius.com/a7251c12492b0635e58ba843fb29f2ac.1000x1000x1.jpg',\n     'is_meme_verified': False,\n     'is_verified': True,\n     'name': 'Otsochodzi',\n     'url': 'https://genius.com/artists/Otsochodzi',\n     'iq': 427}}},\n  {'highlights': [],\n   'index': 'song',\n   'type': 'song',\n   'result': {'annotation_count': 5,\n    'api_path': '/songs/3218191',\n    'artist_names': 'Otsochodzi',\n    'full_title': 'Tel3f0ny by\\xa0Otsochodzi',\n    'header_image_thumbnail_url': 'https://images.genius.com/86a99c584e256f0871916524ef42f855.300x300x1.jpg',\n    'header_image_url': 'https://images.genius.com/86a99c584e256f0871916524ef42f855.500x500x1.jpg',\n    'id': 3218191,\n    'language': 'pl',\n    'lyrics_owner_id': 5136325,\n    'lyrics_state': 'complete',\n    'path': '/Otsochodzi-tel3f0ny-lyrics',\n    'pyongs_count': 2,\n    'relationships_index_url': 'https://genius.com/Otsochodzi-tel3f0ny-sample',\n    'release_date_components': {'year': 2017, 'month': 8, 'day': 31},\n    'release_date_for_display': 'August 31, 2017',\n    'release_date_with_abbreviated_month_for_display': 'Aug. 31, 2017',\n    'song_art_image_thumbnail_url': 'https://images.genius.com/86a99c584e256f0871916524ef42f855.300x300x1.jpg',\n    'song_art_image_url': 'https://images.genius.com/86a99c584e256f0871916524ef42f855.500x500x1.jpg',\n    'stats': {'unreviewed_annotations': 0, 'hot': False, 'pageviews': 32608},\n    'title': 'Tel3f0ny',\n    'title_with_featured': 'Tel3f0ny',\n    'url': 'https://genius.com/Otsochodzi-tel3f0ny-lyrics',\n    'featured_artists': [],\n    'primary_artist': {'api_path': '/artists/209028',\n     'header_image_url': 'https://images.genius.com/d48d6f9ab25114446d3744c1d6fa0642.800x500x1.jpg',\n     'id': 209028,\n     'image_url': 'https://images.genius.com/a7251c12492b0635e58ba843fb29f2ac.1000x1000x1.jpg',\n     'is_meme_verified': False,\n     'is_verified': True,\n     'name': 'Otsochodzi',\n     'url': 'https://genius.com/artists/Otsochodzi',\n     'iq': 427}}},\n  {'highlights': [],\n   'index': 'song',\n   'type': 'song',\n   'result': {'annotation_count': 21,\n    'api_path': '/songs/3961924',\n    'artist_names': 'Otsochodzi',\n    'full_title': 'Euforia by\\xa0Otsochodzi',\n    'header_image_thumbnail_url': 'https://images.genius.com/675823ec5d5834b3d58b69f1a12c3bf2.300x169x1.jpg',\n    'header_image_url': 'https://images.genius.com/675823ec5d5834b3d58b69f1a12c3bf2.1000x563x1.jpg',\n    'id': 3961924,\n    'language': 'pl',\n    'lyrics_owner_id': 4788710,\n    'lyrics_state': 'complete',\n    'path': '/Otsochodzi-euforia-lyrics',\n    'pyongs_count': 4,\n    'relationships_index_url': 'https://genius.com/Otsochodzi-euforia-sample',\n    'release_date_components': {'year': 2018, 'month': 9, 'day': 17},\n    'release_date_for_display': 'September 17, 2018',\n    'release_date_with_abbreviated_month_for_display': 'Sep. 17, 2018',\n    'song_art_image_thumbnail_url': 'https://images.genius.com/401c7f1c9bb141da9b645d6a8f118dd3.300x300x1.jpg',\n    'song_art_image_url': 'https://images.genius.com/401c7f1c9bb141da9b645d6a8f118dd3.640x640x1.jpg',\n    'stats': {'unreviewed_annotations': 0, 'hot': False, 'pageviews': 31497},\n    'title': 'Euforia',\n    'title_with_featured': 'Euforia',\n    'url': 'https://genius.com/Otsochodzi-euforia-lyrics',\n    'featured_artists': [],\n    'primary_artist': {'api_path': '/artists/209028',\n     'header_image_url': 'https://images.genius.com/d48d6f9ab25114446d3744c1d6fa0642.800x500x1.jpg',\n     'id': 209028,\n     'image_url': 'https://images.genius.com/a7251c12492b0635e58ba843fb29f2ac.1000x1000x1.jpg',\n     'is_meme_verified': False,\n     'is_verified': True,\n     'name': 'Otsochodzi',\n     'url': 'https://genius.com/artists/Otsochodzi',\n     'iq': 427}}},\n  {'highlights': [],\n   'index': 'song',\n   'type': 'song',\n   'result': {'annotation_count': 13,\n    'api_path': '/songs/4147640',\n    'artist_names': 'Otsochodzi (Ft. \\u200bschafter & Ten Typ Mes)',\n    'full_title': 'Sezon by\\xa0Otsochodzi (Ft.\\xa0\\u200bschafter & Ten\\xa0Typ Mes)',\n    'header_image_thumbnail_url': 'https://images.genius.com/525c71a81b2c6e0caa28b2de5049b79d.300x300x1.jpg',\n    'header_image_url': 'https://images.genius.com/525c71a81b2c6e0caa28b2de5049b79d.999x999x1.jpg',\n    'id': 4147640,\n    'language': 'pl',\n    'lyrics_owner_id': 3947643,\n    'lyrics_state': 'complete',\n    'path': '/Otsochodzi-sezon-lyrics',\n    'pyongs_count': 1,\n    'relationships_index_url': 'https://genius.com/Otsochodzi-sezon-sample',\n    'release_date_components': {'year': 2019, 'month': 2, 'day': 1},\n    'release_date_for_display': 'February 1, 2019',\n    'release_date_with_abbreviated_month_for_display': 'Feb. 1, 2019',\n    'song_art_image_thumbnail_url': 'https://images.genius.com/525c71a81b2c6e0caa28b2de5049b79d.300x300x1.jpg',\n    'song_art_image_url': 'https://images.genius.com/525c71a81b2c6e0caa28b2de5049b79d.999x999x1.jpg',\n    'stats': {'unreviewed_annotations': 1, 'hot': False, 'pageviews': 24457},\n    'title': 'Sezon',\n    'title_with_featured': 'Sezon (Ft.\\xa0\\u200bschafter & Ten\\xa0Typ Mes)',\n    'url': 'https://genius.com/Otsochodzi-sezon-lyrics',\n    'featured_artists': [{'api_path': '/artists/19857',\n      'header_image_url': 'https://images.genius.com/ec69cd40b350d9649f0142525c76569d.454x454x1.png',\n      'id': 19857,\n      'image_url': 'https://images.genius.com/ec69cd40b350d9649f0142525c76569d.454x454x1.png',\n      'is_meme_verified': True,\n      'is_verified': True,\n      'name': 'Ten Typ Mes',\n      'url': 'https://genius.com/artists/Ten-typ-mes',\n      'iq': 7294},\n     {'api_path': '/artists/1251445',\n      'header_image_url': 'https://images.genius.com/007548beedbb7d6131acdac17a3c95cc.1000x1000x1.jpg',\n      'id': 1251445,\n      'image_url': 'https://images.genius.com/007548beedbb7d6131acdac17a3c95cc.1000x1000x1.jpg',\n      'is_meme_verified': False,\n      'is_verified': True,\n      'name': '\\u200bschafter',\n      'url': 'https://genius.com/artists/Schafter',\n      'iq': 1012}],\n    'primary_artist': {'api_path': '/artists/209028',\n     'header_image_url': 'https://images.genius.com/d48d6f9ab25114446d3744c1d6fa0642.800x500x1.jpg',\n     'id': 209028,\n     'image_url': 'https://images.genius.com/a7251c12492b0635e58ba843fb29f2ac.1000x1000x1.jpg',\n     'is_meme_verified': False,\n     'is_verified': True,\n     'name': 'Otsochodzi',\n     'url': 'https://genius.com/artists/Otsochodzi',\n     'iq': 427}}},\n  {'highlights': [],\n   'index': 'song',\n   'type': 'song',\n   'result': {'annotation_count': 12,\n    'api_path': '/songs/4141415',\n    'artist_names': 'Otsochodzi',\n    'full_title': 'Worldwide by\\xa0Otsochodzi',\n    'header_image_thumbnail_url': 'https://images.genius.com/faa0c9c18b8709d0b14de58ffb2b8b52.300x300x1.png',\n    'header_image_url': 'https://images.genius.com/faa0c9c18b8709d0b14de58ffb2b8b52.640x640x1.png',\n    'id': 4141415,\n    'language': 'pl',\n    'lyrics_owner_id': 6729432,\n    'lyrics_state': 'complete',\n    'path': '/Otsochodzi-worldwide-lyrics',\n    'pyongs_count': 1,\n    'relationships_index_url': 'https://genius.com/Otsochodzi-worldwide-sample',\n    'release_date_components': {'year': 2018, 'month': 12, 'day': 11},\n    'release_date_for_display': 'December 11, 2018',\n    'release_date_with_abbreviated_month_for_display': 'Dec. 11, 2018',\n    'song_art_image_thumbnail_url': 'https://images.genius.com/faa0c9c18b8709d0b14de58ffb2b8b52.300x300x1.png',\n    'song_art_image_url': 'https://images.genius.com/faa0c9c18b8709d0b14de58ffb2b8b52.640x640x1.png',\n    'stats': {'unreviewed_annotations': 0, 'hot': False, 'pageviews': 23946},\n    'title': 'Worldwide',\n    'title_with_featured': 'Worldwide',\n    'url': 'https://genius.com/Otsochodzi-worldwide-lyrics',\n    'featured_artists': [],\n    'primary_artist': {'api_path': '/artists/209028',\n     'header_image_url': 'https://images.genius.com/d48d6f9ab25114446d3744c1d6fa0642.800x500x1.jpg',\n     'id': 209028,\n     'image_url': 'https://images.genius.com/a7251c12492b0635e58ba843fb29f2ac.1000x1000x1.jpg',\n     'is_meme_verified': False,\n     'is_verified': True,\n     'name': 'Otsochodzi',\n     'url': 'https://genius.com/artists/Otsochodzi',\n     'iq': 427}}},\n  {'highlights': [],\n   'index': 'song',\n   'type': 'song',\n   'result': {'annotation_count': 17,\n    'api_path': '/songs/3996447',\n    'artist_names': 'Otsochodzi',\n    'full_title': 'Nigdy już nie będzie jak kiedyś by\\xa0Otsochodzi',\n    'header_image_thumbnail_url': 'https://images.genius.com/6cbabe471bd9a28bdb36b2632ae7fcf8.300x300x1.jpg',\n    'header_image_url': 'https://images.genius.com/6cbabe471bd9a28bdb36b2632ae7fcf8.600x600x1.jpg',\n    'id': 3996447,\n    'language': 'pl',\n    'lyrics_owner_id': 4158894,\n    'lyrics_state': 'complete',\n    'path': '/Otsochodzi-nigdy-juz-nie-bedzie-jak-kiedys-lyrics',\n    'pyongs_count': 4,\n    'relationships_index_url': 'https://genius.com/Otsochodzi-nigdy-juz-nie-bedzie-jak-kiedys-sample',\n    'release_date_components': {'year': 2018, 'month': 10, 'day': 3},\n    'release_date_for_display': 'October 3, 2018',\n    'release_date_with_abbreviated_month_for_display': 'Oct. 3, 2018',\n    'song_art_image_thumbnail_url': 'https://images.genius.com/6cbabe471bd9a28bdb36b2632ae7fcf8.300x300x1.jpg',\n    'song_art_image_url': 'https://images.genius.com/6cbabe471bd9a28bdb36b2632ae7fcf8.600x600x1.jpg',\n    'stats': {'unreviewed_annotations': 0, 'hot': False, 'pageviews': 22057},\n    'title': 'Nigdy już nie będzie jak kiedyś',\n    'title_with_featured': 'Nigdy już nie będzie jak kiedyś',\n    'url': 'https://genius.com/Otsochodzi-nigdy-juz-nie-bedzie-jak-kiedys-lyrics',\n    'featured_artists': [],\n    'primary_artist': {'api_path': '/artists/209028',\n     'header_image_url': 'https://images.genius.com/d48d6f9ab25114446d3744c1d6fa0642.800x500x1.jpg',\n     'id': 209028,\n     'image_url': 'https://images.genius.com/a7251c12492b0635e58ba843fb29f2ac.1000x1000x1.jpg',\n     'is_meme_verified': False,\n     'is_verified': True,\n     'name': 'Otsochodzi',\n     'url': 'https://genius.com/artists/Otsochodzi',\n     'iq': 427}}},\n  {'highlights': [],\n   'index': 'song',\n   'type': 'song',\n   'result': {'annotation_count': 7,\n    'api_path': '/songs/2482778',\n    'artist_names': 'Otsochodzi',\n    'full_title': 'Bon Voyage by\\xa0Otsochodzi',\n    'header_image_thumbnail_url': 'https://images.genius.com/f1d0196e59f56b947e95e2f5afbd271d.300x300x1.jpg',\n    'header_image_url': 'https://images.genius.com/f1d0196e59f56b947e95e2f5afbd271d.560x560x1.jpg',\n    'id': 2482778,\n    'language': 'pl',\n    'lyrics_owner_id': 3242230,\n    'lyrics_state': 'complete',\n    'path': '/Otsochodzi-bon-voyage-lyrics',\n    'pyongs_count': 2,\n    'relationships_index_url': 'https://genius.com/Otsochodzi-bon-voyage-sample',\n    'release_date_components': {'year': 2016, 'month': 5, 'day': 30},\n    'release_date_for_display': 'May 30, 2016',\n    'release_date_with_abbreviated_month_for_display': 'May. 30, 2016',\n    'song_art_image_thumbnail_url': 'https://images.genius.com/f1d0196e59f56b947e95e2f5afbd271d.300x300x1.jpg',\n    'song_art_image_url': 'https://images.genius.com/f1d0196e59f56b947e95e2f5afbd271d.560x560x1.jpg',\n    'stats': {'unreviewed_annotations': 0, 'hot': False, 'pageviews': 16886},\n    'title': 'Bon Voyage',\n    'title_with_featured': 'Bon Voyage',\n    'url': 'https://genius.com/Otsochodzi-bon-voyage-lyrics',\n    'featured_artists': [],\n    'primary_artist': {'api_path': '/artists/209028',\n     'header_image_url': 'https://images.genius.com/d48d6f9ab25114446d3744c1d6fa0642.800x500x1.jpg',\n     'id': 209028,\n     'image_url': 'https://images.genius.com/a7251c12492b0635e58ba843fb29f2ac.1000x1000x1.jpg',\n     'is_meme_verified': False,\n     'is_verified': True,\n     'name': 'Otsochodzi',\n     'url': 'https://genius.com/artists/Otsochodzi',\n     'iq': 427}}}]}"
     },
     "execution_count": 41,
     "metadata": {},
     "output_type": "execute_result"
    }
   ],
   "source": [
    "output = request_artist_info('Otsochodzi',1)\n",
    "\n",
    "output.json()['response']"
   ],
   "metadata": {
    "collapsed": false,
    "ExecuteTime": {
     "end_time": "2023-06-22T11:55:35.806961838Z",
     "start_time": "2023-06-22T11:55:35.108380283Z"
    }
   }
  },
  {
   "cell_type": "code",
   "execution_count": 44,
   "outputs": [
    {
     "name": "stdout",
     "output_type": "stream",
     "text": [
      "Found 3 songs by Lana Del Rey\n"
     ]
    },
    {
     "data": {
      "text/plain": "['https://genius.com/Lana-del-rey-young-and-beautiful-lyrics',\n 'https://genius.com/Lana-del-rey-summertime-sadness-lyrics',\n 'https://genius.com/Lana-del-rey-love-lyrics']"
     },
     "execution_count": 44,
     "metadata": {},
     "output_type": "execute_result"
    }
   ],
   "source": [
    "request_song_url('Lana Del Rey', 3)"
   ],
   "metadata": {
    "collapsed": false,
    "ExecuteTime": {
     "end_time": "2023-06-22T11:56:06.109040313Z",
     "start_time": "2023-06-22T11:56:05.513665541Z"
    }
   }
  },
  {
   "cell_type": "code",
   "execution_count": 45,
   "outputs": [],
   "source": [
    "def scrape_song_lyrics(url):\n",
    "    page = requests.get(url)\n",
    "    html = BeautifulSoup(page.text, 'html.parser')\n",
    "    lyrics = html.find('div', class_=re.compile(\"^lyrics$|Lyrics__Root\")).get_text()\n",
    "    #remove identifiers like chorus, verse, etc\n",
    "    lyrics = re.sub(r'[\\(\\[].*?[\\)\\]]', '', lyrics)\n",
    "    #remove empty lines\n",
    "    lyrics = os.linesep.join([s for s in lyrics.splitlines() if s])\n",
    "    return lyrics\n"
   ],
   "metadata": {
    "collapsed": false,
    "ExecuteTime": {
     "end_time": "2023-06-22T11:56:37.183671034Z",
     "start_time": "2023-06-22T11:56:37.137629370Z"
    }
   }
  },
  {
   "cell_type": "code",
   "execution_count": 47,
   "outputs": [
    {
     "ename": "AttributeError",
     "evalue": "'NoneType' object has no attribute 'get_text'",
     "output_type": "error",
     "traceback": [
      "\u001B[0;31m---------------------------------------------------------------------------\u001B[0m",
      "\u001B[0;31mAttributeError\u001B[0m                            Traceback (most recent call last)",
      "Cell \u001B[0;32mIn[47], line 1\u001B[0m\n\u001B[0;32m----> 1\u001B[0m \u001B[38;5;28mprint\u001B[39m(\u001B[43mscrape_song_lyrics\u001B[49m\u001B[43m(\u001B[49m\u001B[38;5;124;43m'\u001B[39;49m\u001B[38;5;124;43mhttps://genius.com/Lana-del-rey-young-and-beautiful-lyrics\u001B[39;49m\u001B[38;5;124;43m'\u001B[39;49m\u001B[43m)\u001B[49m)\n",
      "Cell \u001B[0;32mIn[45], line 4\u001B[0m, in \u001B[0;36mscrape_song_lyrics\u001B[0;34m(url)\u001B[0m\n\u001B[1;32m      2\u001B[0m page \u001B[38;5;241m=\u001B[39m requests\u001B[38;5;241m.\u001B[39mget(url)\n\u001B[1;32m      3\u001B[0m html \u001B[38;5;241m=\u001B[39m BeautifulSoup(page\u001B[38;5;241m.\u001B[39mtext, \u001B[38;5;124m'\u001B[39m\u001B[38;5;124mhtml.parser\u001B[39m\u001B[38;5;124m'\u001B[39m)\n\u001B[0;32m----> 4\u001B[0m lyrics \u001B[38;5;241m=\u001B[39m \u001B[43mhtml\u001B[49m\u001B[38;5;241;43m.\u001B[39;49m\u001B[43mfind\u001B[49m\u001B[43m(\u001B[49m\u001B[38;5;124;43m'\u001B[39;49m\u001B[38;5;124;43mdiv\u001B[39;49m\u001B[38;5;124;43m'\u001B[39;49m\u001B[43m,\u001B[49m\u001B[43m \u001B[49m\u001B[43mclass_\u001B[49m\u001B[38;5;241;43m=\u001B[39;49m\u001B[38;5;124;43m'\u001B[39;49m\u001B[38;5;124;43mlyrics\u001B[39;49m\u001B[38;5;124;43m'\u001B[39;49m\u001B[43m)\u001B[49m\u001B[38;5;241;43m.\u001B[39;49m\u001B[43mget_text\u001B[49m()\n\u001B[1;32m      5\u001B[0m \u001B[38;5;66;03m#remove identifiers like chorus, verse, etc\u001B[39;00m\n\u001B[1;32m      6\u001B[0m lyrics \u001B[38;5;241m=\u001B[39m re\u001B[38;5;241m.\u001B[39msub(\u001B[38;5;124mr\u001B[39m\u001B[38;5;124m'\u001B[39m\u001B[38;5;124m[\u001B[39m\u001B[38;5;124m\\\u001B[39m\u001B[38;5;124m(\u001B[39m\u001B[38;5;124m\\\u001B[39m\u001B[38;5;124m[].*?[\u001B[39m\u001B[38;5;124m\\\u001B[39m\u001B[38;5;124m)\u001B[39m\u001B[38;5;124m\\\u001B[39m\u001B[38;5;124m]]\u001B[39m\u001B[38;5;124m'\u001B[39m, \u001B[38;5;124m'\u001B[39m\u001B[38;5;124m'\u001B[39m, lyrics)\n",
      "\u001B[0;31mAttributeError\u001B[0m: 'NoneType' object has no attribute 'get_text'"
     ]
    }
   ],
   "source": [
    "print(scrape_song_lyrics('https://genius.com/Lana-del-rey-young-and-beautiful-lyrics'))"
   ],
   "metadata": {
    "collapsed": false,
    "ExecuteTime": {
     "end_time": "2023-06-22T11:57:12.936919437Z",
     "start_time": "2023-06-22T11:57:12.693735917Z"
    }
   }
  }
 ],
 "metadata": {
  "kernelspec": {
   "display_name": "Python 3",
   "language": "python",
   "name": "python3"
  },
  "language_info": {
   "codemirror_mode": {
    "name": "ipython",
    "version": 2
   },
   "file_extension": ".py",
   "mimetype": "text/x-python",
   "name": "python",
   "nbconvert_exporter": "python",
   "pygments_lexer": "ipython2",
   "version": "2.7.6"
  }
 },
 "nbformat": 4,
 "nbformat_minor": 0
}
