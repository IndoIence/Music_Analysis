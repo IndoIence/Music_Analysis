{
 "cells": [
  {
   "cell_type": "code",
   "execution_count": 1,
   "metadata": {
    "ExecuteTime": {
     "end_time": "2023-08-03T18:13:10.771671Z",
     "start_time": "2023-08-03T18:13:06.451812Z"
    },
    "collapsed": true
   },
   "outputs": [
    {
     "name": "stderr",
     "output_type": "stream",
     "text": [
      "/home/tplesniak/miniconda3/envs/wsd/lib/python3.10/site-packages/tqdm/auto.py:21: TqdmWarning: IProgress not found. Please update jupyter and ipywidgets. See https://ipywidgets.readthedocs.io/en/stable/user_install.html\n",
      "  from .autonotebook import tqdm as notebook_tqdm\n"
     ]
    }
   ],
   "source": [
    "import sys \n",
    "sys.path.append(\"..\")\n",
    "from utils import CONFIG\n",
    "config_G = CONFIG[\"Genius_scraping\"]\n",
    "token = config_G[\"GENIUS_BEARER\"]\n",
    "from Analysis_imports import scrape_artist_songs\n",
    "import lyricsgenius\n",
    "import pickle\n",
    "genius = lyricsgenius.Genius(token, verbose=True)"
   ]
  },
  {
   "cell_type": "code",
   "execution_count": 2,
   "metadata": {
    "ExecuteTime": {
     "end_time": "2023-08-03T18:13:10.832033Z",
     "start_time": "2023-08-03T18:13:10.771671Z"
    },
    "collapsed": false
   },
   "outputs": [],
   "source": [
    "# probably should load from a pickle but oh well says i don't have some package that i probably renamed\n",
    "# https://stackoverflow.com/questions/2121874/python-pickling-after-changing-a-modules-directory\n",
    "file_name = '../scraped_data/LastFm/all_no_features_LastFM.txt'\n",
    "artists = open(file_name).read().split('\\n')\n",
    "artists = [a.strip() for a in artists]"
   ]
  },
  {
   "cell_type": "markdown",
   "metadata": {
    "collapsed": false
   },
   "source": [
    "Testing what genius gives if we input a nonexistnt artist"
   ]
  },
  {
   "cell_type": "code",
   "execution_count": 3,
   "metadata": {
    "ExecuteTime": {
     "end_time": "2023-08-03T18:13:11.371810Z",
     "start_time": "2023-08-03T18:13:10.832033Z"
    },
    "collapsed": false
   },
   "outputs": [
    {
     "name": "stdout",
     "output_type": "stream",
     "text": [
      "Searching for songs by nonexistent_artisttttt...\n",
      "\n",
      "No results found for 'nonexistent_artisttttt'.\n"
     ]
    }
   ],
   "source": [
    "huh = genius.search_artist('Tauu', max_songs=2)\n"
   ]
  },
  {
   "cell_type": "code",
   "execution_count": 9,
   "metadata": {
    "ExecuteTime": {
     "end_time": "2023-08-01T21:06:17.836629Z",
     "start_time": "2023-08-01T21:02:19.513664Z"
    },
    "collapsed": false
   },
   "outputs": [
    {
     "name": "stdout",
     "output_type": "stream",
     "text": [
      "Hukos & Cira has only 1 albums\n",
      "FFOD Hukos & Cira, 20 songs\n"
     ]
    }
   ],
   "source": [
    "stop = len(artists)\n",
    "art_ind = 10\n",
    "art = scrape_artist_songs(artists[art_ind])\n",
    "print(artists[art_ind],art)"
   ]
  },
  {
   "cell_type": "code",
   "execution_count": null,
   "metadata": {},
   "outputs": [],
   "source": [
    "import os\n",
    "for artist in os.listdir(CONFIG[\"GENIUS_URLS_PATH\"])"
   ]
  },
  {
   "cell_type": "code",
   "execution_count": null,
   "metadata": {
    "ExecuteTime": {
     "end_time": "2023-08-01T21:06:17.851728Z",
     "start_time": "2023-08-01T21:06:17.839785Z"
    },
    "collapsed": false
   },
   "outputs": [],
   "source": [
    "import re\n",
    "import nltk\n",
    "def clean_song_text(lyrics):\n",
    "    def clean_brackets(text):\n",
    "        pattern = r'\\[.*?\\]'\n",
    "        return re.sub(pattern,'', text)\n",
    "    # find the first occurance of the word \"Lyrics\", and discard what's before that\n",
    "    lyrics_start = lyrics.find('Lyrics') + len('Lyrics')\n",
    "    lyrics = lyrics[lyrics_start:].lower()\n",
    "    # cut out the end of the string (the word Embed and the number)\n",
    "    lyrics_end = re.search(r'\\d+', lyrics[::-1]).span()[1]\n",
    "    lyrics = lyrics[:-lyrics_end]\n",
    "    # should ignore anything in the brackets\n",
    "    lyrics = clean_brackets(lyrics)\n",
    "    # remove interpunction\n",
    "    tokenizer = nltk.WhitespaceTokenizer()\n",
    "    lyrics = tokenizer.tokenize(lyrics)\n",
    "    # lyrics.replace(r'.|,|!|?','')\n",
    "    # # split on newlines and on spaces\n",
    "    # lyrics = re.split(r' |\\n', lyrics)\n",
    "    # # remove empty strings\n",
    "    # lyrics = list(filter(None, lyrics))\n",
    "    return lyrics"
   ]
  },
  {
   "cell_type": "code",
   "execution_count": null,
   "metadata": {
    "ExecuteTime": {
     "end_time": "2023-07-25T14:57:13.840444Z",
     "start_time": "2023-07-25T14:57:13.818464Z"
    },
    "collapsed": false
   },
   "outputs": [],
   "source": [
    "with open('../scraped_data/lyrics', 'wb') as f:\n",
    "    pickle.dump(all_lyrics, f)"
   ]
  },
  {
   "cell_type": "code",
   "execution_count": null,
   "metadata": {
    "ExecuteTime": {
     "end_time": "2023-07-25T14:57:36.037230Z",
     "start_time": "2023-07-25T14:57:35.996023Z"
    },
    "collapsed": false
   },
   "outputs": [],
   "source": [
    "with open('../scraped_data/pickletest_songs', 'wb') as f:\n",
    "    print(songs[1].title)\n",
    "    pickle.dump(songs[1], f)\n",
    "with open('../scraped_data/pickletest_songs', 'rb') as f:\n",
    "    loaded_song = pickle.load(f)\n",
    "loaded_song"
   ]
  },
  {
   "cell_type": "code",
   "execution_count": null,
   "metadata": {
    "ExecuteTime": {
     "end_time": "2023-07-25T14:57:50.161523Z",
     "start_time": "2023-07-25T14:57:50.153545Z"
    },
    "collapsed": false
   },
   "outputs": [],
   "source": [
    "loaded_song.title"
   ]
  },
  {
   "cell_type": "code",
   "execution_count": null,
   "metadata": {
    "ExecuteTime": {
     "end_time": "2023-07-24T21:01:18.968729Z",
     "start_time": "2023-07-24T21:01:18.954100Z"
    },
    "collapsed": false
   },
   "outputs": [],
   "source": []
  },
  {
   "cell_type": "code",
   "execution_count": null,
   "metadata": {
    "ExecuteTime": {
     "end_time": "2023-07-24T21:01:03.212699Z",
     "start_time": "2023-07-24T21:01:03.200695Z"
    },
    "collapsed": false
   },
   "outputs": [],
   "source": [
    "albums_search['sections'][0]['hits'][0]['result']['name']"
   ]
  },
  {
   "cell_type": "code",
   "execution_count": null,
   "metadata": {
    "ExecuteTime": {
     "end_time": "2023-07-24T21:14:53.078306Z",
     "start_time": "2023-07-24T21:14:53.059676Z"
    },
    "collapsed": false
   },
   "outputs": [],
   "source": [
    "artist_songs.songs[1].url"
   ]
  },
  {
   "cell_type": "code",
   "execution_count": null,
   "metadata": {
    "ExecuteTime": {
     "end_time": "2023-07-24T21:15:02.527427Z",
     "start_time": "2023-07-24T21:15:02.520340Z"
    },
    "collapsed": false
   },
   "outputs": [],
   "source": [
    "artist_songs.songs[1].lyrics"
   ]
  },
  {
   "cell_type": "code",
   "execution_count": null,
   "metadata": {
    "ExecuteTime": {
     "end_time": "2023-07-24T21:16:13.113749Z",
     "start_time": "2023-07-24T21:16:13.095132Z"
    },
    "collapsed": false
   },
   "outputs": [],
   "source": [
    "dir(artist_songs.songs[1])\n",
    "artist_songs.songs[1].title"
   ]
  }
 ],
 "metadata": {
  "kernelspec": {
   "display_name": "Python 3",
   "language": "python",
   "name": "python3"
  },
  "language_info": {
   "codemirror_mode": {
    "name": "ipython",
    "version": 3
   },
   "file_extension": ".py",
   "mimetype": "text/x-python",
   "name": "python",
   "nbconvert_exporter": "python",
   "pygments_lexer": "ipython3",
   "version": "3.10.10"
  }
 },
 "nbformat": 4,
 "nbformat_minor": 0
}
