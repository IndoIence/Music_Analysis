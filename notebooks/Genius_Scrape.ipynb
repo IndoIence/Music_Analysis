{
 "cells": [
  {
   "cell_type": "code",
   "execution_count": 2,
   "metadata": {
    "ExecuteTime": {
     "end_time": "2023-08-03T18:13:10.771671Z",
     "start_time": "2023-08-03T18:13:06.451812Z"
    },
    "collapsed": true
   },
   "outputs": [],
   "source": [
    "import sys \n",
    "sys.path.append(\"..\")\n",
    "from utils import CONFIG\n",
    "config_G = CONFIG[\"Genius_scraping\"]\n",
    "token = config_G[\"GENIUS_BEARER\"]\n",
    "import lyricsgenius\n",
    "import pickle\n",
    "genius = lyricsgenius.Genius(token, verbose=True)"
   ]
  },
  {
   "cell_type": "code",
   "execution_count": 2,
   "metadata": {
    "ExecuteTime": {
     "end_time": "2023-08-03T18:13:10.832033Z",
     "start_time": "2023-08-03T18:13:10.771671Z"
    },
    "collapsed": false
   },
   "outputs": [],
   "source": [
    "# probably should load from a pickle but oh well says i don't have some package that i probably renamed\n",
    "# https://stackoverflow.com/questions/2121874/python-pickling-after-changing-a-modules-directory\n",
    "file_name = '../scraped_data/LastFm/all_no_features_LastFM.txt'\n",
    "artists = open(file_name).read().split('\\n')\n",
    "artists = [a.strip() for a in artists]"
   ]
  },
  {
   "cell_type": "markdown",
   "metadata": {
    "collapsed": false
   },
   "source": [
    "Testing what genius gives if we input a nonexistnt artist"
   ]
  },
  {
   "cell_type": "code",
   "execution_count": 6,
   "metadata": {
    "ExecuteTime": {
     "end_time": "2023-08-03T18:13:11.371810Z",
     "start_time": "2023-08-03T18:13:10.832033Z"
    },
    "collapsed": false
   },
   "outputs": [
    {
     "name": "stdout",
     "output_type": "stream",
     "text": [
      "Searching for songs by Sanah...\n",
      "\n",
      "Changing artist name to '​sanah'\n",
      "Song 1: \"​kolońska i szlugi\"\n",
      "Song 2: \"2:00\"\n",
      "Song 3: \"Szampan\"\n",
      "Song 4: \"Ale jazz!\"\n",
      "Song 5: \"Eldorado\"\n",
      "Song 6: \"Marcepan\"\n",
      "Song 7: \"​ten Stan\"\n",
      "Song 8: \"​Ostatnia nadzieja\"\n",
      "Song 9: \"Melodia\"\n",
      "Song 10: \"Tęsknię sobie\"\n",
      "Song 11: \"Królowa Dram\"\n",
      "Song 12: \"Szary świat\"\n",
      "Song 13: \"​etc.\"\n",
      "Song 14: \"Aniołom Szepnij To\"\n",
      "Song 15: \"Oczy\"\n",
      "Song 16: \"​etc. (na disco)\"\n",
      "Song 17: \"Mamo tyś płakała\"\n",
      "Song 18: \"Nic dwa razy (W. Szymborska)\"\n",
      "Song 19: \"To koniec\"\n",
      "Song 20: \"Cząstka\"\n",
      "Song 21: \"Siebie zapytasz\"\n",
      "Song 22: \"Projekt nieznajomy nie kłamie\"\n",
      "Song 23: \"Proszę Pana\"\n",
      "Song 24: \"Irenka\"\n",
      "Song 25: \"Jestem Twoją Bajką\"\n",
      "Song 26: \"No sory\"\n",
      "Song 27: \"Co ja robię tutaj\"\n",
      "Song 28: \"​duszki\"\n",
      "Song 29: \"Sen we śnie\"\n",
      "Song 30: \"Hymn (J. Słowacki)\"\n",
      "Song 31: \"Bez słów\"\n",
      "Song 32: \"Oto cała ja\"\n",
      "Song 33: \"Czesława\"\n",
      "Song 34: \"Pora roku zła\"\n",
      "Song 35: \"​audi\"\n",
      "Song 36: \"Idź\"\n",
      "Song 37: \"​kolońska i szlugi (do snu)\"\n",
      "Song 38: \"Koronki\"\n",
      "Song 39: \"2/10\"\n",
      "Song 40: \"Warcaby\"\n",
      "Song 41: \"Solo\"\n",
      "Song 42: \"To ja a nie inna\"\n",
      "Song 43: \"Piękno tej niechcianej\"\n",
      "Song 44: \"Święty Graal\"\n",
      "Song 45: \"Sama\"\n",
      "Song 46: \"​wars\"\n",
      "Song 47: \"No sory (to dłuższe)\"\n",
      "Song 48: \"Bujda\"\n",
      "Song 49: \"​oscar\"\n",
      "Song 50: \"Najlepszy dzień w moim życiu\"\n",
      "Song 51: \"Pożal się Boże\"\n",
      "Song 52: \"BUJDA - większa!\"\n",
      "Song 53: \"Łezki me\"\n",
      "Song 54: \"Rozwijając Rilkego (J. Cygan)\"\n",
      "Song 55: \"Invisible dress (Maro Music x Skytech Remix)\"\n",
      "Song 56: \"Invisible Dress (demo)\"\n",
      "Song 57: \"Kapela gra\"\n",
      "Song 58: \"To był dobry dzień\"\n",
      "Song 59: \"Baczyński (Pisz do mnie listy)\"\n",
      "Song 60: \"​puk puk\"\n",
      "Song 61: \"Róże (demo w domu)\"\n",
      "Song 62: \"Początek\"\n",
      "Song 63: \"Eldorado (E. A. Poe)\"\n",
      "Song 64: \"Interludium\"\n",
      "Song 65: \"Koniec\"\n",
      "Song 66: \"Wszystko mi mówi, że mnie ktoś pokochał\"\n",
      "Song 67: \"Bajka (K. K. Baczyński)\"\n",
      "Song 68: \"No sory (wersja alternatywna)\"\n",
      "Song 69: \"Płomień\"\n",
      "Song 70: \"Pocałunki (M. Pawlikowska-Jasnorzewska)\"\n",
      "Song 71: \"Do * w sztambuch (A. Mickiewicz)\"\n",
      "Song 72: \"Na grobie rycerz (M. Konopnicka)\"\n",
      "Song 73: \"Kamień (A. Asnyk)\"\n",
      "Song 74: \"You Loved Me (demo)\"\n",
      "Song 75: \"(I) Da Bóg kiedyś zasiąść w Polsce wolnej (A. Asnyk)\"\n",
      "Song 76: \"Ale jazz! na jazzowo\"\n",
      "Song 77: \"Proszę\"\n",
      "Song 78: \"Warszawa (J. Tuwim)\"\n",
      "Song 79: \"Heal me\"\n",
      "Song 80: \"Heal me (LIZOT Edit)\"\n",
      "Song 81: \"(II) Da Bóg kiedyś zasiąść w Polsce wolnej (A. Asnyk)\"\n",
      "Song 82: \"Wilcza zamieć [Wiedźmin 3: Dziki Gon]\"\n",
      "Song 83: \"#hot16challenge2\"\n",
      "Song 84: \"Skanah\"\n",
      "Song 85: \"Invisible dress (Maro Music x Skytech Remix / Short Edit)\"\n",
      "Song 86: \"Kaziu, zakochaj się (live from Radio ZET)\"\n",
      "Song 87: \"Corners (demo)\"\n",
      "Song 88: \"2:00 (prod. Arkadiusz)\"\n",
      "\"Alternatywka\" is not valid. Skipping.\n",
      "\"Uczta\" is not valid. Skipping.\n",
      "Song 89: \"Byłam różą\"\n",
      "\"A może by tak\" is not valid. Skipping.\n",
      "Song 90: \"Poranne łzy\"\n",
      "Song 91: \"Idk\"\n",
      "\"Wiosna\" is not valid. Skipping.\n",
      "Song 92: \"Nic dwa razy (W. Szymborska) (Bankietowy live)\"\n",
      "\"By odejść\" is not valid. Skipping.\n",
      "Song 93: \"Bipping (Demo)\"\n",
      "Song 94: \"Invisible Dress (Christian Eberhard Remix)\"\n",
      "Song 95: \"Heartbreak\"\n",
      "Song 96: \"Crazy in Love\"\n",
      "Song 97: \"Lay Me Down\"\n",
      "Song 98: \"Jest taka droga\"\n",
      "Song 99: \"Fast Car\"\n",
      "Song 100: \"Unsteady\"\n",
      "Song 101: \"Za mała\"\n",
      "Song 102: \"Beautiful Release\"\n",
      "\"Słowa\" is not valid. Skipping.\n",
      "\"Zawołaj mnie\" is not valid. Skipping.\n",
      "\"Shiny People (demo)\" is not valid. Skipping.\n",
      "Song 103: \"Lord\"\n",
      "Song 104: \"Płomień (Bankietowy live)\"\n",
      "Song 105: \"Cząstka (Bankietowy live)\"\n",
      "Song 106: \"Ostatnia nadzieja (Bankietowy live)\"\n",
      "Song 107: \"Święty Graal (Bankietowy live)\"\n",
      "Song 108: \"Intro (Bankietowy live)\"\n",
      "Song 109: \"Bajka (K. K. Baczyński) (Bankietowy live)\"\n",
      "Song 110: \"Czesława (Bankietowy live)\"\n",
      "Song 111: \"Interludium (Bankietowy live)\"\n",
      "Song 112: \"Invisible Dress (KRGKGM Remix)\"\n",
      "Song 113: \"Co ja robię tutaj? (Bankietowy live)\"\n",
      "Song 114: \"Irenka (Bankietowy live)\"\n",
      "Song 115: \"Szary świat (Bankietowy live)\"\n",
      "Song 116: \"Ale jazz! (Bankietowy live)\"\n",
      "Song 117: \"Tęsknię sobie (Bankietowy live)\"\n",
      "Song 118: \"Pożal się Boże (Bankietowy live)\"\n",
      "Song 119: \"Eldorado (Bankietowy live)\"\n",
      "Song 120: \"Szampan (Bankietowy live)\"\n",
      "Song 121: \"Aniołom szepnij to (Bankietowy live)\"\n",
      "Song 122: \"Duszki (Bankietowy live)\"\n",
      "Song 123: \"Etc. (na disco) (Bankietowy live)\"\n",
      "\"Peace\" is not valid. Skipping.\n",
      "\"Haters\" is not valid. Skipping.\n",
      "Song 124: \"2:00 (Bankietowy live)\"\n",
      "Song 125: \"Inwokacja\"\n",
      "\"Sen we śnie (Bankietowy live)\" is not valid. Skipping.\n",
      "\"Hymn (J. Słowacki) (Bankietowy live)\" is not valid. Skipping.\n",
      "Done. Found 125 songs.\n"
     ]
    }
   ],
   "source": [
    "huh = genius.search_artist('Sanah', max_songs=200)\n"
   ]
  },
  {
   "cell_type": "code",
   "execution_count": 5,
   "metadata": {},
   "outputs": [
    {
     "data": {
      "text/plain": [
       "'9 Contributors2:00 Lyrics[Tekst piosenki \"2:00\"]\\n\\n[Zwrotka 1]\\nNie wiem czy to miało sens\\nHulać tak, hulać tak\\nKolejny raz\\nCarpe diem z dnia na dzień\\nA potem sza\\nCicho sza, cicho sza\\n\\n[Przedrefren]\\nSorka za ten telefon\\nDzisiaj o drugiej w nocy\\nTylko chciałam pomocy\\nI Ciebie\\nW słuchawce słyszałam śmiech\\nNaiwna ja, naiwna ja\\n\\n[Refren]\\nMogłam mówić co myślę\\nNa cały głos\\nMogłam nie brać do siebie\\nGdy zranił ktoś\\nMogłam trzymać Cię mocniej\\nGdy chciałeś iść\\nMogłam tak (mogłam tak), mogłam tak (mogłam tak)\\nMogłam wziąć Cię do tańca\\nOstatni raz\\nI obiecać, że parkiet\\nJest tylko nasz\\nTeraz jakoś magicznie\\nChcę cofnąć czas\\nMogłam tak (mogłam tak), mogłam tak (mogłam tak)\\nYou might also like[Zwrotka 2]\\nCzemu jak ten śniegu puch to wraca znów\\nWraca znów, wraca znów\\nCzemu po tej stronie rzęs tęsknie ciut\\nTęsknię ciut, tęsknię ciut\\n\\n[Przedrefren]\\nSorka za ten telefon\\nDzisiaj o drugiej w nocy\\nTylko chciałam pomocy\\nI Ciebie\\nW słuchawce słyszałam śmiech\\nNaiwna ja, naiwna ja\\n\\n[Refren]\\nMogłam mówić co myślę\\nNa cały głos\\nMogłam niе brać do siebie\\nGdy zranił ktoś\\nMogłam trzymać Cię mocniej\\nGdy chciałеś iść\\nMogłam tak (mogłam tak), mogłam tak (mogłam tak)\\nMogłam wziąć Cię do tańca\\nOstatni raz\\nI obiecać, że parkiet\\nJest tylko nasz\\nTeraz jakoś magicznie\\nChcę cofnąć czas\\nMogłam tak (mogłam tak), mogłam tak (mogłam tak)\\n[Przejście]\\nUuuuu, Uuuuu\\nMogłam tak (mogłam tak), mogłam tak (mogłam tak)\\nUuuuu, Uuuuu\\nMogłam tak (mogłam tak), mogłam tak (mogłam tak)\\n\\n[Outro]\\nSzkoda, że puściłam Cię\\nNie chciałam tak, nie chciałam tak1Embed'"
      ]
     },
     "execution_count": 5,
     "metadata": {},
     "output_type": "execute_result"
    }
   ],
   "source": [
    "huh.songs[1].lyrics"
   ]
  },
  {
   "cell_type": "code",
   "execution_count": 9,
   "metadata": {
    "ExecuteTime": {
     "end_time": "2023-08-01T21:06:17.836629Z",
     "start_time": "2023-08-01T21:02:19.513664Z"
    },
    "collapsed": false
   },
   "outputs": [
    {
     "name": "stdout",
     "output_type": "stream",
     "text": [
      "Hukos & Cira has only 1 albums\n",
      "FFOD Hukos & Cira, 20 songs\n"
     ]
    }
   ],
   "source": [
    "stop = len(artists)\n",
    "art_ind = 10\n",
    "art = scrape_artist_songs(artists[art_ind])\n",
    "print(artists[art_ind],art)"
   ]
  },
  {
   "cell_type": "code",
   "execution_count": null,
   "metadata": {},
   "outputs": [],
   "source": [
    "import os\n",
    "for artist in os.listdir(CONFIG[\"GENIUS_URLS_PATH\"])"
   ]
  },
  {
   "cell_type": "code",
   "execution_count": null,
   "metadata": {
    "ExecuteTime": {
     "end_time": "2023-08-01T21:06:17.851728Z",
     "start_time": "2023-08-01T21:06:17.839785Z"
    },
    "collapsed": false
   },
   "outputs": [],
   "source": [
    "import re\n",
    "import nltk\n",
    "def clean_song_text(lyrics):\n",
    "    def clean_brackets(text):\n",
    "        pattern = r'\\[.*?\\]'\n",
    "        return re.sub(pattern,'', text)\n",
    "    # find the first occurance of the word \"Lyrics\", and discard what's before that\n",
    "    lyrics_start = lyrics.find('Lyrics') + len('Lyrics')\n",
    "    lyrics = lyrics[lyrics_start:].lower()\n",
    "    # cut out the end of the string (the word Embed and the number)\n",
    "    lyrics_end = re.search(r'\\d+', lyrics[::-1]).span()[1]\n",
    "    lyrics = lyrics[:-lyrics_end]\n",
    "    # should ignore anything in the brackets\n",
    "    lyrics = clean_brackets(lyrics)\n",
    "    # remove interpunction\n",
    "    tokenizer = nltk.WhitespaceTokenizer()\n",
    "    lyrics = tokenizer.tokenize(lyrics)\n",
    "    # lyrics.replace(r'.|,|!|?','')\n",
    "    # # split on newlines and on spaces\n",
    "    # lyrics = re.split(r' |\\n', lyrics)\n",
    "    # # remove empty strings\n",
    "    # lyrics = list(filter(None, lyrics))\n",
    "    return lyrics"
   ]
  },
  {
   "cell_type": "code",
   "execution_count": null,
   "metadata": {
    "ExecuteTime": {
     "end_time": "2023-07-25T14:57:13.840444Z",
     "start_time": "2023-07-25T14:57:13.818464Z"
    },
    "collapsed": false
   },
   "outputs": [],
   "source": [
    "with open('../scraped_data/lyrics', 'wb') as f:\n",
    "    pickle.dump(all_lyrics, f)"
   ]
  },
  {
   "cell_type": "code",
   "execution_count": null,
   "metadata": {
    "ExecuteTime": {
     "end_time": "2023-07-25T14:57:36.037230Z",
     "start_time": "2023-07-25T14:57:35.996023Z"
    },
    "collapsed": false
   },
   "outputs": [],
   "source": [
    "with open('../scraped_data/pickletest_songs', 'wb') as f:\n",
    "    print(songs[1].title)\n",
    "    pickle.dump(songs[1], f)\n",
    "with open('../scraped_data/pickletest_songs', 'rb') as f:\n",
    "    loaded_song = pickle.load(f)\n",
    "loaded_song"
   ]
  },
  {
   "cell_type": "code",
   "execution_count": null,
   "metadata": {
    "ExecuteTime": {
     "end_time": "2023-07-25T14:57:50.161523Z",
     "start_time": "2023-07-25T14:57:50.153545Z"
    },
    "collapsed": false
   },
   "outputs": [],
   "source": [
    "loaded_song.title"
   ]
  },
  {
   "cell_type": "code",
   "execution_count": null,
   "metadata": {
    "ExecuteTime": {
     "end_time": "2023-07-24T21:01:18.968729Z",
     "start_time": "2023-07-24T21:01:18.954100Z"
    },
    "collapsed": false
   },
   "outputs": [],
   "source": []
  },
  {
   "cell_type": "code",
   "execution_count": null,
   "metadata": {
    "ExecuteTime": {
     "end_time": "2023-07-24T21:01:03.212699Z",
     "start_time": "2023-07-24T21:01:03.200695Z"
    },
    "collapsed": false
   },
   "outputs": [],
   "source": [
    "albums_search['sections'][0]['hits'][0]['result']['name']"
   ]
  },
  {
   "cell_type": "code",
   "execution_count": null,
   "metadata": {
    "ExecuteTime": {
     "end_time": "2023-07-24T21:14:53.078306Z",
     "start_time": "2023-07-24T21:14:53.059676Z"
    },
    "collapsed": false
   },
   "outputs": [],
   "source": [
    "artist_songs.songs[1].url"
   ]
  },
  {
   "cell_type": "code",
   "execution_count": null,
   "metadata": {
    "ExecuteTime": {
     "end_time": "2023-07-24T21:15:02.527427Z",
     "start_time": "2023-07-24T21:15:02.520340Z"
    },
    "collapsed": false
   },
   "outputs": [],
   "source": [
    "artist_songs.songs[1].lyrics"
   ]
  },
  {
   "cell_type": "code",
   "execution_count": null,
   "metadata": {
    "ExecuteTime": {
     "end_time": "2023-07-24T21:16:13.113749Z",
     "start_time": "2023-07-24T21:16:13.095132Z"
    },
    "collapsed": false
   },
   "outputs": [],
   "source": [
    "dir(artist_songs.songs[1])\n",
    "artist_songs.songs[1].title"
   ]
  }
 ],
 "metadata": {
  "kernelspec": {
   "display_name": "Python 3",
   "language": "python",
   "name": "python3"
  },
  "language_info": {
   "codemirror_mode": {
    "name": "ipython",
    "version": 3
   },
   "file_extension": ".py",
   "mimetype": "text/x-python",
   "name": "python",
   "nbconvert_exporter": "python",
   "pygments_lexer": "ipython3",
   "version": "3.10.10"
  }
 },
 "nbformat": 4,
 "nbformat_minor": 0
}
