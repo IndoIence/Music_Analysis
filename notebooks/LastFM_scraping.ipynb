{
 "cells": [
  {
   "cell_type": "code",
   "execution_count": 22,
   "metadata": {
    "collapsed": true,
    "ExecuteTime": {
     "start_time": "2023-07-24T19:37:23.221459Z",
     "end_time": "2023-07-24T19:37:23.243398Z"
    }
   },
   "outputs": [],
   "source": [
    "from API_KEYS import LAST_FM_API_KEY, LAST_FM_USER_AGENT\n",
    "import requests\n",
    "import time"
   ]
  },
  {
   "cell_type": "code",
   "execution_count": 23,
   "outputs": [
    {
     "data": {
      "text/plain": "200"
     },
     "execution_count": 23,
     "metadata": {},
     "output_type": "execute_result"
    }
   ],
   "source": [
    "url = 'http://ws.audioscrobbler.com/2.0/'\n",
    "headers = {\n",
    "    'user-agent': LAST_FM_USER_AGENT\n",
    "}\n",
    "payload = {\n",
    "    'api_key': LAST_FM_API_KEY,\n",
    "    'method': 'chart.getTopArtists',\n",
    "    'format': 'json'\n",
    "}\n",
    "\n",
    "payload_tag = {\n",
    "    'tag': 'polish hip hop',\n",
    "    'api_key': LAST_FM_API_KEY,\n",
    "    'method': 'tag.getTopArtists',\n",
    "    'format': 'json',\n",
    "\n",
    "}\n",
    "r = requests.get(url=url, headers=headers, params=payload)\n",
    "r.status_code"
   ],
   "metadata": {
    "collapsed": false,
    "ExecuteTime": {
     "start_time": "2023-07-24T19:37:23.240406Z",
     "end_time": "2023-07-24T19:37:23.480674Z"
    }
   }
  },
  {
   "cell_type": "code",
   "execution_count": 24,
   "outputs": [],
   "source": [
    "r_tag = requests.get(url=url, headers=headers, params=payload_tag)"
   ],
   "metadata": {
    "collapsed": false,
    "ExecuteTime": {
     "start_time": "2023-07-24T19:37:23.483665Z",
     "end_time": "2023-07-24T19:37:23.774743Z"
    }
   }
  },
  {
   "cell_type": "code",
   "execution_count": 30,
   "outputs": [],
   "source": [
    "def get_tag_artists(tag, API_KEY=LAST_FM_API_KEY):\n",
    "    all_artists = []\n",
    "    page = 1\n",
    "    max_pages = 20\n",
    "    params = {\n",
    "        'tag': tag,\n",
    "        'api_key': API_KEY,\n",
    "        'method': 'tag.getTopArtists',\n",
    "        'format': 'json',\n",
    "        'page': page,\n",
    "    }\n",
    "    while True:\n",
    "\n",
    "        response = requests.get(url=url, headers=headers, params=params)\n",
    "        data = response.json()\n",
    "\n",
    "        if 'error' in data:\n",
    "            print(f\"Error: {data['message']}\")\n",
    "            break\n",
    "        else:\n",
    "            artists_batch = [artist['name'] for artist in data['topartists']['artist']]\n",
    "            all_artists.extend(artists_batch)\n",
    "\n",
    "            if data['topartists']['@attr']['page'] == data['topartists']['@attr']['totalPages']:\n",
    "                break\n",
    "            if page == max_pages:\n",
    "                break\n",
    "\n",
    "            page +=1\n",
    "            params['page'] = page\n",
    "        # wait for the next request\n",
    "        time.sleep(0.25)\n",
    "    return all_artists\n",
    "            \n"
   ],
   "metadata": {
    "collapsed": false,
    "ExecuteTime": {
     "start_time": "2023-07-24T19:38:37.922542Z",
     "end_time": "2023-07-24T19:38:37.944030Z"
    }
   }
  },
  {
   "cell_type": "code",
   "execution_count": 31,
   "outputs": [
    {
     "name": "stdout",
     "output_type": "stream",
     "text": [
      "['Kinny Zimmer', 'Oliwka Brazil', 'KPSN', 'Pater', 'LWWL', 'sandra feat peja', 'Bolec', 'V/A - Jestem Stad', 'KROOLIK', 'Ckbtz', 'Robak/Klon', 'Hemp Gru, Dj Fresh', 'DawajHajs', 'Metrowy, Rufijok, Skorup, Bu', 'WYP3', 'Sari Ska Band & Metrowy', 'Kuba Knap i Bonny Larmes', 'TrzyBe', 'DONO/TEWU', 'P.A.K.T.', 'Denetos', 'Dj Kostek', 'BRK i Jahdeck', 'OSWP', 'Kaiteu & Pietz', 'MatiTCU', 'Dsn', 'Al-Fatnujah, Grubson i Junior Stress', 'Arnie', 'RDW, Kaszalot', 'Małolat & Pezet & Ten Typ Mes & Ero', 'PUSHER x OSKA030', 'Mielzky And BennCart', 'Foksi Fejs', 'Plonacy Squot', 'Doniu Feat. 52 Dębiec', 'Rafi/Koni', 'Guli x Homex', 'Stroma', 'Pryzmat Mass!ve', 'Nowe Pokolenie 14/44', 'Sony & PyskatySkurwiel', 'Espoir', 'Łuszy', 'blez', 'Ładzik', 'HIFI Banda feat. Pyskaty, Numer Raz, Kaszalot, Rak, Tede', 'Zielny', 'KALIBER44', 'Wizu', 'QCIEK', 'Supa Skillz Squad', 'dene gutek', 'Pezet\\\\Noon', 'Skow', 'MALIK & PIERO', 'ordy', 'Wojtas feat. Gutek', 'Flouzuo', 'ROGAL DDL x FAZI', 'Robert-D', 'Fistach', 'DJ 600V feat. Kasta', 'Joker Anagram', 'DJ HWR (TruKru)', 'CRACK KARTEL', 'jajonasz bas cewu dene lis zulian anik', 'Magik i Dene', 'Apostolis', 'Vu & Boris', 'Fatum Crew & East West Rockers', 'Zip Sklad & Tpwc', 'Ruziel-Fleczer', 'Chada feat. Ten Typ Mes', 'Ymcyk', 'WZS', 'Kagye East', 'Abirato', 'Kodex 3: Wyrok', 'Chude Braders', 'Kilka Chwill', 'GHO$T77', 'Waco-Przyjdż na chwilę-Dizkret', 'Selwa', 'Laikike1/Mlodzik', 'KRI.', 'toony feat. sokół', 'Ster and DJ Slowo', 'Ponadtym', 'Nakinoko', 'Ciech i Polej feat. Dj Panda', 'Not da Ho', 'Kaspe, Xeyos', 'Kroolik Kartel Reprezentant', 'Stiwen & Jaz', 'Nieproszeni Goscie', 'Carlo Lorens', 'empe2', 'Zer0 & DGP', 'Splifu', 'SJWN', 'Pokój Z Widokiem Na Wojne', 'Wzorowy, Rzemi, Kosi', 'BUBEL & QLOP', 'Ksk feat. Arnie', 'Trd Squad', '7onasz', 'MC Rogal', 'KaeneteFreakCooperation', 'Necior', 'FSOUNDS', 'BzyqAdik', 'Osiedlowy Projekt', 'pilak', 'Rectus (Gibon)', 'Malolat, Ward, Pono, Tadek, Boski, Juras, Roman, Wigor', 'ElGostek & MeWash', 'Praktik ft. Mes i Pezet', 'Mes-Numer raz', 'don Guralesko & DJ Kostek', 'Defakto ŁDZ', 'Rah Projektor', 'Stanior 31 Sakier', 'OSTR & Dj Haem', 'Sly Jake', 'Dębicki Rap - Rejon G', 'Fisz i Envee', 'Kaz feat. O.S.T.R.', 'Fenomen feat. Onar', \"Dj Deck's\", 'DJ 600V feat. Płomień 81', 'Ten Typ Mes feat. Trish', 'Molesta + Wilku', \"Płomień '81\", 'Eldo - Bitnix', 'Kaczy , Popek', 'Trzeci Wymiar + Teka', 'KODEX 2', 'True Fakers', 'Kali x Paluch', 'CMAZ', 'Fisz_Feat_Emade', 'Fukaj', 'Beka KSH', 'Popkiller Młode Wilki', 'Sonnie', 'Zkibwoy', 'O.S.T.R. & Glowa', 'BeST', 'Seta', 'Tede & Verte', 'Wojciech Waglewski, Maciej Malenczuk, Abradab', 'Chemol Kolin', 'Owal Emcedwa', 'Kobra % Bezczel', 'Efter', 'Dedo', 'Juras Wigor', 'Duze Pe & IGS & DJ Spox', 'Firma Ft. Sokól', 'G.T.W.', 'Ras i Wojtak', 'Musiał', 'Peku', 'Vienio, Pele, JWP, Pezet, O.S.T.R., Lil Dap, Dj Cent', 'Detal', 'Monofonia', 'JSK', 'Samuraj', 'Nić Żywota', 'Sznaju', 'Koniu', 'End/Klon', 'Slajs', 'Według', 'Jurand', 'Big Sun', 'Cel32', 'MCO', 'Miuosh, Siwydym, Kamel', 'Meler & Patyk', '336 Godzin', 'Panorama Paru Faktów', 'Unikat Ketrzyn', 'Stef. & Bercio', 'Flatsoul', 'Kamrat', 'Wysokilot', 'Słechej Sound System', '52Dębiec', 'Medium/Galus', 'Tomiko', 'Pokoj Z Widokiem Na Wojne', 'P.O.E.', 'Żurom', 'schafter', 'malik montana', 'Beeres', 'Koras I Juras', 'HK Rufijok', 'Wysoki Lot', 'Owal', 'Pewex', 'Gang Agi', 'Tede/Tuniziano/Sir Michu', 'Rena, Sobota, Wini', 'Yappe', 'Pezet x JIMEK', 'Katarzyna Nosowska & O.S.T.R.', 'Kojot & DJ Noone', 'TruKru', 'Syrop', 'Kropkanadi', 'Podziemna Struktura', 'Blejder & Dj Chrome', 'Nagly Atak Spawacza', 'Sponta', 'piotr wroczyński', 'Ultimate Wisnia', 'Dread Squad', 'Styl Dezinte', 'POE (Projekt Ostry Emade)', 'Duze Pe IGS DJ Spox', 'Emazet Procent', 'Mata', 'Young Leosia', 'Almost Famous', 'Tusz Na Rekach I Voskovy', 'Pierwszy Milion', 'GrubSon & DJ BRK', 'Ten Typ Mes & Pyskaty', 'SOWA', 'DJ Deszczu Strugi', 'Kisiel', 'Junoumi', 'Projekt Hamas', 'Don Guralesko', 'GieBeR', 'Wojtas', 'Pezet Malolat', 'Rogal DDL', 'Erking', 'Stylowa Spółka Społem', 'Joe Kickass Ft. O.S.T.R.', 'Zeto', 'Malolat & Ajron', '834', 'zdechły osa', 'Eripe & Quebonafide', 'Diset', 'BONSOUL (Bonus&soulpete)', 'Sztigar Bonko', 'Triada', '3ODA KRU Entertejment', 'Fiszemade', 'Endefis', 'Szybki Szmal', 'Mały Esz Esz', 'GANDI GANDA', 'Green Team', 'Dobry Towar', 'DJ Haem', 'NP.', 'Roszja', 'Vienio', 'Junior', 'Projektanci', 'Stare Miasto', 'Tau', 'AK-47', 'Tusz Na Rękach', 'xL', 'OlsenFu', 'Joteste', 'Fandango Gang', 'Cisza & Spokój', 'Ania Sool', 'GrupaKOT', 'Projekt Parias', 'HuczuHucz', 'Popek', 'Pokój z Widokiem na Wojnę', 'Diox & The Returners', 'Dj.B', 'W Zmowie', 'PWRD', 'Osete', 'Majestat', 'Shellerini i Slon', 'Eis']\n"
     ]
    }
   ],
   "source": [],
   "metadata": {
    "collapsed": false,
    "ExecuteTime": {
     "start_time": "2023-07-24T19:38:42.106343Z",
     "end_time": "2023-07-24T19:38:44.846400Z"
    }
   }
  },
  {
   "cell_type": "code",
   "execution_count": 32,
   "outputs": [
    {
     "name": "stdout",
     "output_type": "stream",
     "text": [
      "Counter({'Kinny Zimmer': 1, 'Oliwka Brazil': 1, 'KPSN': 1, 'Pater': 1, 'LWWL': 1, 'sandra feat peja': 1, 'Bolec': 1, 'V/A - Jestem Stad': 1, 'KROOLIK': 1, 'Ckbtz': 1, 'Robak/Klon': 1, 'Hemp Gru, Dj Fresh': 1, 'DawajHajs': 1, 'Metrowy, Rufijok, Skorup, Bu': 1, 'WYP3': 1, 'Sari Ska Band & Metrowy': 1, 'Kuba Knap i Bonny Larmes': 1, 'TrzyBe': 1, 'DONO/TEWU': 1, 'P.A.K.T.': 1, 'Denetos': 1, 'Dj Kostek': 1, 'BRK i Jahdeck': 1, 'OSWP': 1, 'Kaiteu & Pietz': 1, 'MatiTCU': 1, 'Dsn': 1, 'Al-Fatnujah, Grubson i Junior Stress': 1, 'Arnie': 1, 'RDW, Kaszalot': 1, 'Małolat & Pezet & Ten Typ Mes & Ero': 1, 'PUSHER x OSKA030': 1, 'Mielzky And BennCart': 1, 'Foksi Fejs': 1, 'Plonacy Squot': 1, 'Doniu Feat. 52 Dębiec': 1, 'Rafi/Koni': 1, 'Guli x Homex': 1, 'Stroma': 1, 'Pryzmat Mass!ve': 1, 'Nowe Pokolenie 14/44': 1, 'Sony & PyskatySkurwiel': 1, 'Espoir': 1, 'Łuszy': 1, 'blez': 1, 'Ładzik': 1, 'HIFI Banda feat. Pyskaty, Numer Raz, Kaszalot, Rak, Tede': 1, 'Zielny': 1, 'KALIBER44': 1, 'Wizu': 1, 'QCIEK': 1, 'Supa Skillz Squad': 1, 'dene gutek': 1, 'Pezet\\\\Noon': 1, 'Skow': 1, 'MALIK & PIERO': 1, 'ordy': 1, 'Wojtas feat. Gutek': 1, 'Flouzuo': 1, 'ROGAL DDL x FAZI': 1, 'Robert-D': 1, 'Fistach': 1, 'DJ 600V feat. Kasta': 1, 'Joker Anagram': 1, 'DJ HWR (TruKru)': 1, 'CRACK KARTEL': 1, 'jajonasz bas cewu dene lis zulian anik': 1, 'Magik i Dene': 1, 'Apostolis': 1, 'Vu & Boris': 1, 'Fatum Crew & East West Rockers': 1, 'Zip Sklad & Tpwc': 1, 'Ruziel-Fleczer': 1, 'Chada feat. Ten Typ Mes': 1, 'Ymcyk': 1, 'WZS': 1, 'Kagye East': 1, 'Abirato': 1, 'Kodex 3: Wyrok': 1, 'Chude Braders': 1, 'Kilka Chwill': 1, 'GHO$T77': 1, 'Waco-Przyjdż na chwilę-Dizkret': 1, 'Selwa': 1, 'Laikike1/Mlodzik': 1, 'KRI.': 1, 'toony feat. sokół': 1, 'Ster and DJ Slowo': 1, 'Ponadtym': 1, 'Nakinoko': 1, 'Ciech i Polej feat. Dj Panda': 1, 'Not da Ho': 1, 'Kaspe, Xeyos': 1, 'Kroolik Kartel Reprezentant': 1, 'Stiwen & Jaz': 1, 'Nieproszeni Goscie': 1, 'Carlo Lorens': 1, 'empe2': 1, 'Zer0 & DGP': 1, 'Splifu': 1, 'SJWN': 1, 'Pokój Z Widokiem Na Wojne': 1, 'Wzorowy, Rzemi, Kosi': 1, 'BUBEL & QLOP': 1, 'Ksk feat. Arnie': 1, 'Trd Squad': 1, '7onasz': 1, 'MC Rogal': 1, 'KaeneteFreakCooperation': 1, 'Necior': 1, 'FSOUNDS': 1, 'BzyqAdik': 1, 'Osiedlowy Projekt': 1, 'pilak': 1, 'Rectus (Gibon)': 1, 'Malolat, Ward, Pono, Tadek, Boski, Juras, Roman, Wigor': 1, 'ElGostek & MeWash': 1, 'Praktik ft. Mes i Pezet': 1, 'Mes-Numer raz': 1, 'don Guralesko & DJ Kostek': 1, 'Defakto ŁDZ': 1, 'Rah Projektor': 1, 'Stanior 31 Sakier': 1, 'OSTR & Dj Haem': 1, 'Sly Jake': 1, 'Dębicki Rap - Rejon G': 1, 'Fisz i Envee': 1, 'Kaz feat. O.S.T.R.': 1, 'Fenomen feat. Onar': 1, \"Dj Deck's\": 1, 'DJ 600V feat. Płomień 81': 1, 'Ten Typ Mes feat. Trish': 1, 'Molesta + Wilku': 1, \"Płomień '81\": 1, 'Eldo - Bitnix': 1, 'Kaczy , Popek': 1, 'Trzeci Wymiar + Teka': 1, 'KODEX 2': 1, 'True Fakers': 1, 'Kali x Paluch': 1, 'CMAZ': 1, 'Fisz_Feat_Emade': 1, 'Fukaj': 1, 'Beka KSH': 1, 'Popkiller Młode Wilki': 1, 'Sonnie': 1, 'Zkibwoy': 1, 'O.S.T.R. & Glowa': 1, 'BeST': 1, 'Seta': 1, 'Tede & Verte': 1, 'Wojciech Waglewski, Maciej Malenczuk, Abradab': 1, 'Chemol Kolin': 1, 'Owal Emcedwa': 1, 'Kobra % Bezczel': 1, 'Efter': 1, 'Dedo': 1, 'Juras Wigor': 1, 'Duze Pe & IGS & DJ Spox': 1, 'Firma Ft. Sokól': 1, 'G.T.W.': 1, 'Ras i Wojtak': 1, 'Musiał': 1, 'Peku': 1, 'Vienio, Pele, JWP, Pezet, O.S.T.R., Lil Dap, Dj Cent': 1, 'Detal': 1, 'Monofonia': 1, 'JSK': 1, 'Samuraj': 1, 'Nić Żywota': 1, 'Sznaju': 1, 'Koniu': 1, 'End/Klon': 1, 'Slajs': 1, 'Według': 1, 'Jurand': 1, 'Big Sun': 1, 'Cel32': 1, 'MCO': 1, 'Miuosh, Siwydym, Kamel': 1, 'Meler & Patyk': 1, '336 Godzin': 1, 'Panorama Paru Faktów': 1, 'Unikat Ketrzyn': 1, 'Stef. & Bercio': 1, 'Flatsoul': 1, 'Kamrat': 1, 'Wysokilot': 1, 'Słechej Sound System': 1, '52Dębiec': 1, 'Medium/Galus': 1, 'Tomiko': 1, 'Pokoj Z Widokiem Na Wojne': 1, 'P.O.E.': 1, 'Żurom': 1, 'schafter': 1, 'malik montana': 1, 'Beeres': 1, 'Koras I Juras': 1, 'HK Rufijok': 1, 'Wysoki Lot': 1, 'Owal': 1, 'Pewex': 1, 'Gang Agi': 1, 'Tede/Tuniziano/Sir Michu': 1, 'Rena, Sobota, Wini': 1, 'Yappe': 1, 'Pezet x JIMEK': 1, 'Katarzyna Nosowska & O.S.T.R.': 1, 'Kojot & DJ Noone': 1, 'TruKru': 1, 'Syrop': 1, 'Kropkanadi': 1, 'Podziemna Struktura': 1, 'Blejder & Dj Chrome': 1, 'Nagly Atak Spawacza': 1, 'Sponta': 1, 'piotr wroczyński': 1, 'Ultimate Wisnia': 1, 'Dread Squad': 1, 'Styl Dezinte': 1, 'POE (Projekt Ostry Emade)': 1, 'Duze Pe IGS DJ Spox': 1, 'Emazet Procent': 1, 'Mata': 1, 'Young Leosia': 1, 'Almost Famous': 1, 'Tusz Na Rekach I Voskovy': 1, 'Pierwszy Milion': 1, 'GrubSon & DJ BRK': 1, 'Ten Typ Mes & Pyskaty': 1, 'SOWA': 1, 'DJ Deszczu Strugi': 1, 'Kisiel': 1, 'Junoumi': 1, 'Projekt Hamas': 1, 'Don Guralesko': 1, 'GieBeR': 1, 'Wojtas': 1, 'Pezet Malolat': 1, 'Rogal DDL': 1, 'Erking': 1, 'Stylowa Spółka Społem': 1, 'Joe Kickass Ft. O.S.T.R.': 1, 'Zeto': 1, 'Malolat & Ajron': 1, '834': 1, 'zdechły osa': 1, 'Eripe & Quebonafide': 1, 'Diset': 1, 'BONSOUL (Bonus&soulpete)': 1, 'Sztigar Bonko': 1, 'Triada': 1, '3ODA KRU Entertejment': 1, 'Fiszemade': 1, 'Endefis': 1, 'Szybki Szmal': 1, 'Mały Esz Esz': 1, 'GANDI GANDA': 1, 'Green Team': 1, 'Dobry Towar': 1, 'DJ Haem': 1, 'NP.': 1, 'Roszja': 1, 'Vienio': 1, 'Junior': 1, 'Projektanci': 1, 'Stare Miasto': 1, 'Tau': 1, 'AK-47': 1, 'Tusz Na Rękach': 1, 'xL': 1, 'OlsenFu': 1, 'Joteste': 1, 'Fandango Gang': 1, 'Cisza & Spokój': 1, 'Ania Sool': 1, 'GrupaKOT': 1, 'Projekt Parias': 1, 'HuczuHucz': 1, 'Popek': 1, 'Pokój z Widokiem na Wojnę': 1, 'Diox & The Returners': 1, 'Dj.B': 1, 'W Zmowie': 1, 'PWRD': 1, 'Osete': 1, 'Majestat': 1, 'Shellerini i Slon': 1, 'Eis': 1})\n"
     ]
    }
   ],
   "source": [
    "from collections import Counter\n",
    "tag = 'polish hip hop'\n",
    "artists = get_tag_artists(tag)\n",
    "if artists:\n",
    "    print(Counter(artists))"
   ],
   "metadata": {
    "collapsed": false,
    "ExecuteTime": {
     "start_time": "2023-07-24T19:39:11.021253Z",
     "end_time": "2023-07-24T19:39:13.747206Z"
    }
   }
  },
  {
   "cell_type": "code",
   "execution_count": 36,
   "outputs": [],
   "source": [
    "import csv\n",
    "# this gives comma to after every letter :<\n",
    "scraped_data_path = 'scraped_data/'\n",
    "with open(scraped_data_path + 'LastFM_artist.csv', 'w', newline='') as csvfile:\n",
    "    writer = csv.writer(csvfile)\n",
    "    for artist in artists:\n",
    "        writer.writerow(artist)\n"
   ],
   "metadata": {
    "collapsed": false,
    "ExecuteTime": {
     "start_time": "2023-07-24T19:56:22.773188Z",
     "end_time": "2023-07-24T19:56:22.786247Z"
    }
   }
  },
  {
   "cell_type": "code",
   "execution_count": 51,
   "outputs": [],
   "source": [
    "import pickle\n",
    "with open(scraped_data_path + 'LastFM_artists.pkl', 'wb') as csvfile:\n",
    "    pickle.dump(artists, csvfile)"
   ],
   "metadata": {
    "collapsed": false,
    "ExecuteTime": {
     "start_time": "2023-07-24T20:15:32.417140Z",
     "end_time": "2023-07-24T20:15:32.440095Z"
    }
   }
  },
  {
   "cell_type": "code",
   "execution_count": 52,
   "outputs": [
    {
     "data": {
      "text/plain": "['Kinny Zimmer',\n 'Oliwka Brazil',\n 'KPSN',\n 'Pater',\n 'LWWL',\n 'sandra feat peja',\n 'Bolec',\n 'V/A - Jestem Stad',\n 'KROOLIK',\n 'Ckbtz',\n 'Robak/Klon',\n 'Hemp Gru, Dj Fresh',\n 'DawajHajs',\n 'Metrowy, Rufijok, Skorup, Bu',\n 'WYP3',\n 'Sari Ska Band & Metrowy',\n 'Kuba Knap i Bonny Larmes',\n 'TrzyBe',\n 'DONO/TEWU',\n 'P.A.K.T.',\n 'Denetos',\n 'Dj Kostek',\n 'BRK i Jahdeck',\n 'OSWP',\n 'Kaiteu & Pietz',\n 'MatiTCU',\n 'Dsn',\n 'Al-Fatnujah, Grubson i Junior Stress',\n 'Arnie',\n 'RDW, Kaszalot',\n 'Małolat & Pezet & Ten Typ Mes & Ero',\n 'PUSHER x OSKA030',\n 'Mielzky And BennCart',\n 'Foksi Fejs',\n 'Plonacy Squot',\n 'Doniu Feat. 52 Dębiec',\n 'Rafi/Koni',\n 'Guli x Homex',\n 'Stroma',\n 'Pryzmat Mass!ve',\n 'Nowe Pokolenie 14/44',\n 'Sony & PyskatySkurwiel',\n 'Espoir',\n 'Łuszy',\n 'blez',\n 'Ładzik',\n 'HIFI Banda feat. Pyskaty, Numer Raz, Kaszalot, Rak, Tede',\n 'Zielny',\n 'KALIBER44',\n 'Wizu',\n 'QCIEK',\n 'Supa Skillz Squad',\n 'dene gutek',\n 'Pezet\\\\Noon',\n 'Skow',\n 'MALIK & PIERO',\n 'ordy',\n 'Wojtas feat. Gutek',\n 'Flouzuo',\n 'ROGAL DDL x FAZI',\n 'Robert-D',\n 'Fistach',\n 'DJ 600V feat. Kasta',\n 'Joker Anagram',\n 'DJ HWR (TruKru)',\n 'CRACK KARTEL',\n 'jajonasz bas cewu dene lis zulian anik',\n 'Magik i Dene',\n 'Apostolis',\n 'Vu & Boris',\n 'Fatum Crew & East West Rockers',\n 'Zip Sklad & Tpwc',\n 'Ruziel-Fleczer',\n 'Chada feat. Ten Typ Mes',\n 'Ymcyk',\n 'WZS',\n 'Kagye East',\n 'Abirato',\n 'Kodex 3: Wyrok',\n 'Chude Braders',\n 'Kilka Chwill',\n 'GHO$T77',\n 'Waco-Przyjdż na chwilę-Dizkret',\n 'Selwa',\n 'Laikike1/Mlodzik',\n 'KRI.',\n 'toony feat. sokół',\n 'Ster and DJ Slowo',\n 'Ponadtym',\n 'Nakinoko',\n 'Ciech i Polej feat. Dj Panda',\n 'Not da Ho',\n 'Kaspe, Xeyos',\n 'Kroolik Kartel Reprezentant',\n 'Stiwen & Jaz',\n 'Nieproszeni Goscie',\n 'Carlo Lorens',\n 'empe2',\n 'Zer0 & DGP',\n 'Splifu',\n 'SJWN',\n 'Pokój Z Widokiem Na Wojne',\n 'Wzorowy, Rzemi, Kosi',\n 'BUBEL & QLOP',\n 'Ksk feat. Arnie',\n 'Trd Squad',\n '7onasz',\n 'MC Rogal',\n 'KaeneteFreakCooperation',\n 'Necior',\n 'FSOUNDS',\n 'BzyqAdik',\n 'Osiedlowy Projekt',\n 'pilak',\n 'Rectus (Gibon)',\n 'Malolat, Ward, Pono, Tadek, Boski, Juras, Roman, Wigor',\n 'ElGostek & MeWash',\n 'Praktik ft. Mes i Pezet',\n 'Mes-Numer raz',\n 'don Guralesko & DJ Kostek',\n 'Defakto ŁDZ',\n 'Rah Projektor',\n 'Stanior 31 Sakier',\n 'OSTR & Dj Haem',\n 'Sly Jake',\n 'Dębicki Rap - Rejon G',\n 'Fisz i Envee',\n 'Kaz feat. O.S.T.R.',\n 'Fenomen feat. Onar',\n \"Dj Deck's\",\n 'DJ 600V feat. Płomień 81',\n 'Ten Typ Mes feat. Trish',\n 'Molesta + Wilku',\n \"Płomień '81\",\n 'Eldo - Bitnix',\n 'Kaczy , Popek',\n 'Trzeci Wymiar + Teka',\n 'KODEX 2',\n 'True Fakers',\n 'Kali x Paluch',\n 'CMAZ',\n 'Fisz_Feat_Emade',\n 'Fukaj',\n 'Beka KSH',\n 'Popkiller Młode Wilki',\n 'Sonnie',\n 'Zkibwoy',\n 'O.S.T.R. & Glowa',\n 'BeST',\n 'Seta',\n 'Tede & Verte',\n 'Wojciech Waglewski, Maciej Malenczuk, Abradab',\n 'Chemol Kolin',\n 'Owal Emcedwa',\n 'Kobra % Bezczel',\n 'Efter',\n 'Dedo',\n 'Juras Wigor',\n 'Duze Pe & IGS & DJ Spox',\n 'Firma Ft. Sokól',\n 'G.T.W.',\n 'Ras i Wojtak',\n 'Musiał',\n 'Peku',\n 'Vienio, Pele, JWP, Pezet, O.S.T.R., Lil Dap, Dj Cent',\n 'Detal',\n 'Monofonia',\n 'JSK',\n 'Samuraj',\n 'Nić Żywota',\n 'Sznaju',\n 'Koniu',\n 'End/Klon',\n 'Slajs',\n 'Według',\n 'Jurand',\n 'Big Sun',\n 'Cel32',\n 'MCO',\n 'Miuosh, Siwydym, Kamel',\n 'Meler & Patyk',\n '336 Godzin',\n 'Panorama Paru Faktów',\n 'Unikat Ketrzyn',\n 'Stef. & Bercio',\n 'Flatsoul',\n 'Kamrat',\n 'Wysokilot',\n 'Słechej Sound System',\n '52Dębiec',\n 'Medium/Galus',\n 'Tomiko',\n 'Pokoj Z Widokiem Na Wojne',\n 'P.O.E.',\n 'Żurom',\n 'schafter',\n 'malik montana',\n 'Beeres',\n 'Koras I Juras',\n 'HK Rufijok',\n 'Wysoki Lot',\n 'Owal',\n 'Pewex',\n 'Gang Agi',\n 'Tede/Tuniziano/Sir Michu',\n 'Rena, Sobota, Wini',\n 'Yappe',\n 'Pezet x JIMEK',\n 'Katarzyna Nosowska & O.S.T.R.',\n 'Kojot & DJ Noone',\n 'TruKru',\n 'Syrop',\n 'Kropkanadi',\n 'Podziemna Struktura',\n 'Blejder & Dj Chrome',\n 'Nagly Atak Spawacza',\n 'Sponta',\n 'piotr wroczyński',\n 'Ultimate Wisnia',\n 'Dread Squad',\n 'Styl Dezinte',\n 'POE (Projekt Ostry Emade)',\n 'Duze Pe IGS DJ Spox',\n 'Emazet Procent',\n 'Mata',\n 'Young Leosia',\n 'Almost Famous',\n 'Tusz Na Rekach I Voskovy',\n 'Pierwszy Milion',\n 'GrubSon & DJ BRK',\n 'Ten Typ Mes & Pyskaty',\n 'SOWA',\n 'DJ Deszczu Strugi',\n 'Kisiel',\n 'Junoumi',\n 'Projekt Hamas',\n 'Don Guralesko',\n 'GieBeR',\n 'Wojtas',\n 'Pezet Malolat',\n 'Rogal DDL',\n 'Erking',\n 'Stylowa Spółka Społem',\n 'Joe Kickass Ft. O.S.T.R.',\n 'Zeto',\n 'Malolat & Ajron',\n '834',\n 'zdechły osa',\n 'Eripe & Quebonafide',\n 'Diset',\n 'BONSOUL (Bonus&soulpete)',\n 'Sztigar Bonko',\n 'Triada',\n '3ODA KRU Entertejment',\n 'Fiszemade',\n 'Endefis',\n 'Szybki Szmal',\n 'Mały Esz Esz',\n 'GANDI GANDA',\n 'Green Team',\n 'Dobry Towar',\n 'DJ Haem',\n 'NP.',\n 'Roszja',\n 'Vienio',\n 'Junior',\n 'Projektanci',\n 'Stare Miasto',\n 'Tau',\n 'AK-47',\n 'Tusz Na Rękach',\n 'xL',\n 'OlsenFu',\n 'Joteste',\n 'Fandango Gang',\n 'Cisza & Spokój',\n 'Ania Sool',\n 'GrupaKOT',\n 'Projekt Parias',\n 'HuczuHucz',\n 'Popek',\n 'Pokój z Widokiem na Wojnę',\n 'Diox & The Returners',\n 'Dj.B',\n 'W Zmowie',\n 'PWRD',\n 'Osete',\n 'Majestat',\n 'Shellerini i Slon',\n 'Eis']"
     },
     "execution_count": 52,
     "metadata": {},
     "output_type": "execute_result"
    }
   ],
   "source": [
    "with open(scraped_data_path + 'LastFM_artists.pkl', 'rb' ) as f:\n",
    "    loaded_artist = pickle.load(f)\n",
    "loaded_artist"
   ],
   "metadata": {
    "collapsed": false,
    "ExecuteTime": {
     "start_time": "2023-07-24T20:15:33.986420Z",
     "end_time": "2023-07-24T20:15:34.013348Z"
    }
   }
  },
  {
   "cell_type": "code",
   "execution_count": 46,
   "outputs": [
    {
     "data": {
      "text/plain": "['Kinny Zimmer',\n 'Oliwka Brazil',\n 'KPSN',\n 'Pater',\n 'LWWL',\n 'sandra feat peja',\n 'Bolec',\n 'V/A - Jestem Stad',\n 'KROOLIK',\n 'Ckbtz',\n 'Robak/Klon',\n 'Hemp Gru, Dj Fresh',\n 'DawajHajs',\n 'Metrowy, Rufijok, Skorup, Bu',\n 'WYP3',\n 'Sari Ska Band & Metrowy',\n 'Kuba Knap i Bonny Larmes',\n 'TrzyBe',\n 'DONO/TEWU',\n 'P.A.K.T.',\n 'Denetos',\n 'Dj Kostek',\n 'BRK i Jahdeck',\n 'OSWP',\n 'Kaiteu & Pietz',\n 'MatiTCU',\n 'Dsn',\n 'Al-Fatnujah, Grubson i Junior Stress',\n 'Arnie',\n 'RDW, Kaszalot',\n 'Małolat & Pezet & Ten Typ Mes & Ero',\n 'PUSHER x OSKA030',\n 'Mielzky And BennCart',\n 'Foksi Fejs',\n 'Plonacy Squot',\n 'Doniu Feat. 52 Dębiec',\n 'Rafi/Koni',\n 'Guli x Homex',\n 'Stroma',\n 'Pryzmat Mass!ve',\n 'Nowe Pokolenie 14/44',\n 'Sony & PyskatySkurwiel',\n 'Espoir',\n 'Łuszy',\n 'blez',\n 'Ładzik',\n 'HIFI Banda feat. Pyskaty, Numer Raz, Kaszalot, Rak, Tede',\n 'Zielny',\n 'KALIBER44',\n 'Wizu',\n 'QCIEK',\n 'Supa Skillz Squad',\n 'dene gutek',\n 'Pezet\\\\Noon',\n 'Skow',\n 'MALIK & PIERO',\n 'ordy',\n 'Wojtas feat. Gutek',\n 'Flouzuo',\n 'ROGAL DDL x FAZI',\n 'Robert-D',\n 'Fistach',\n 'DJ 600V feat. Kasta',\n 'Joker Anagram',\n 'DJ HWR (TruKru)',\n 'CRACK KARTEL',\n 'jajonasz bas cewu dene lis zulian anik',\n 'Magik i Dene',\n 'Apostolis',\n 'Vu & Boris',\n 'Fatum Crew & East West Rockers',\n 'Zip Sklad & Tpwc',\n 'Ruziel-Fleczer',\n 'Chada feat. Ten Typ Mes',\n 'Ymcyk',\n 'WZS',\n 'Kagye East',\n 'Abirato',\n 'Kodex 3: Wyrok',\n 'Chude Braders',\n 'Kilka Chwill',\n 'GHO$T77',\n 'Waco-Przyjdż na chwilę-Dizkret',\n 'Selwa',\n 'Laikike1/Mlodzik',\n 'KRI.',\n 'toony feat. sokół',\n 'Ster and DJ Slowo',\n 'Ponadtym',\n 'Nakinoko',\n 'Ciech i Polej feat. Dj Panda',\n 'Not da Ho',\n 'Kaspe, Xeyos',\n 'Kroolik Kartel Reprezentant',\n 'Stiwen & Jaz',\n 'Nieproszeni Goscie',\n 'Carlo Lorens',\n 'empe2',\n 'Zer0 & DGP',\n 'Splifu',\n 'SJWN',\n 'Pokój Z Widokiem Na Wojne',\n 'Wzorowy, Rzemi, Kosi',\n 'BUBEL & QLOP',\n 'Ksk feat. Arnie',\n 'Trd Squad',\n '7onasz',\n 'MC Rogal',\n 'KaeneteFreakCooperation',\n 'Necior',\n 'FSOUNDS',\n 'BzyqAdik',\n 'Osiedlowy Projekt',\n 'pilak',\n 'Rectus (Gibon)',\n 'Malolat, Ward, Pono, Tadek, Boski, Juras, Roman, Wigor',\n 'ElGostek & MeWash',\n 'Praktik ft. Mes i Pezet',\n 'Mes-Numer raz',\n 'don Guralesko & DJ Kostek',\n 'Defakto ŁDZ',\n 'Rah Projektor',\n 'Stanior 31 Sakier',\n 'OSTR & Dj Haem',\n 'Sly Jake',\n 'Dębicki Rap - Rejon G',\n 'Fisz i Envee',\n 'Kaz feat. O.S.T.R.',\n 'Fenomen feat. Onar',\n \"Dj Deck's\",\n 'DJ 600V feat. Płomień 81',\n 'Ten Typ Mes feat. Trish',\n 'Molesta + Wilku',\n \"Płomień '81\",\n 'Eldo - Bitnix',\n 'Kaczy , Popek',\n 'Trzeci Wymiar + Teka',\n 'KODEX 2',\n 'True Fakers',\n 'Kali x Paluch',\n 'CMAZ',\n 'Fisz_Feat_Emade',\n 'Fukaj',\n 'Beka KSH',\n 'Popkiller Młode Wilki',\n 'Sonnie',\n 'Zkibwoy',\n 'O.S.T.R. & Glowa',\n 'BeST',\n 'Seta',\n 'Tede & Verte',\n 'Wojciech Waglewski, Maciej Malenczuk, Abradab',\n 'Chemol Kolin',\n 'Owal Emcedwa',\n 'Kobra % Bezczel',\n 'Efter',\n 'Dedo',\n 'Juras Wigor',\n 'Duze Pe & IGS & DJ Spox',\n 'Firma Ft. Sokól',\n 'G.T.W.',\n 'Ras i Wojtak',\n 'Musiał',\n 'Peku',\n 'Vienio, Pele, JWP, Pezet, O.S.T.R., Lil Dap, Dj Cent',\n 'Detal',\n 'Monofonia',\n 'JSK',\n 'Samuraj',\n 'Nić Żywota',\n 'Sznaju',\n 'Koniu',\n 'End/Klon',\n 'Slajs',\n 'Według',\n 'Jurand',\n 'Big Sun',\n 'Cel32',\n 'MCO',\n 'Miuosh, Siwydym, Kamel',\n 'Meler & Patyk',\n '336 Godzin',\n 'Panorama Paru Faktów',\n 'Unikat Ketrzyn',\n 'Stef. & Bercio',\n 'Flatsoul',\n 'Kamrat',\n 'Wysokilot',\n 'Słechej Sound System',\n '52Dębiec',\n 'Medium/Galus',\n 'Tomiko',\n 'Pokoj Z Widokiem Na Wojne',\n 'P.O.E.',\n 'Żurom',\n 'schafter',\n 'malik montana',\n 'Beeres',\n 'Koras I Juras',\n 'HK Rufijok',\n 'Wysoki Lot',\n 'Owal',\n 'Pewex',\n 'Gang Agi',\n 'Tede/Tuniziano/Sir Michu',\n 'Rena, Sobota, Wini',\n 'Yappe',\n 'Pezet x JIMEK',\n 'Katarzyna Nosowska & O.S.T.R.',\n 'Kojot & DJ Noone',\n 'TruKru',\n 'Syrop',\n 'Kropkanadi',\n 'Podziemna Struktura',\n 'Blejder & Dj Chrome',\n 'Nagly Atak Spawacza',\n 'Sponta',\n 'piotr wroczyński',\n 'Ultimate Wisnia',\n 'Dread Squad',\n 'Styl Dezinte',\n 'POE (Projekt Ostry Emade)',\n 'Duze Pe IGS DJ Spox',\n 'Emazet Procent',\n 'Mata',\n 'Young Leosia',\n 'Almost Famous',\n 'Tusz Na Rekach I Voskovy',\n 'Pierwszy Milion',\n 'GrubSon & DJ BRK',\n 'Ten Typ Mes & Pyskaty',\n 'SOWA',\n 'DJ Deszczu Strugi',\n 'Kisiel',\n 'Junoumi',\n 'Projekt Hamas',\n 'Don Guralesko',\n 'GieBeR',\n 'Wojtas',\n 'Pezet Malolat',\n 'Rogal DDL',\n 'Erking',\n 'Stylowa Spółka Społem',\n 'Joe Kickass Ft. O.S.T.R.',\n 'Zeto',\n 'Malolat & Ajron',\n '834',\n 'zdechły osa',\n 'Eripe & Quebonafide',\n 'Diset',\n 'BONSOUL (Bonus&soulpete)',\n 'Sztigar Bonko',\n 'Triada',\n '3ODA KRU Entertejment',\n 'Fiszemade',\n 'Endefis',\n 'Szybki Szmal',\n 'Mały Esz Esz',\n 'GANDI GANDA',\n 'Green Team',\n 'Dobry Towar',\n 'DJ Haem',\n 'NP.',\n 'Roszja',\n 'Vienio',\n 'Junior',\n 'Projektanci',\n 'Stare Miasto',\n 'Tau',\n 'AK-47',\n 'Tusz Na Rękach',\n 'xL',\n 'OlsenFu',\n 'Joteste',\n 'Fandango Gang',\n 'Cisza & Spokój',\n 'Ania Sool',\n 'GrupaKOT',\n 'Projekt Parias',\n 'HuczuHucz',\n 'Popek',\n 'Pokój z Widokiem na Wojnę',\n 'Diox & The Returners',\n 'Dj.B',\n 'W Zmowie',\n 'PWRD',\n 'Osete',\n 'Majestat',\n 'Shellerini i Slon',\n 'Eis']"
     },
     "execution_count": 46,
     "metadata": {},
     "output_type": "execute_result"
    }
   ],
   "source": [
    "artists"
   ],
   "metadata": {
    "collapsed": false,
    "ExecuteTime": {
     "start_time": "2023-07-24T20:08:01.148630Z",
     "end_time": "2023-07-24T20:08:01.195804Z"
    }
   }
  },
  {
   "cell_type": "markdown",
   "source": [],
   "metadata": {
    "collapsed": false
   }
  }
 ],
 "metadata": {
  "kernelspec": {
   "display_name": "Python 3",
   "language": "python",
   "name": "python3"
  },
  "language_info": {
   "codemirror_mode": {
    "name": "ipython",
    "version": 2
   },
   "file_extension": ".py",
   "mimetype": "text/x-python",
   "name": "python",
   "nbconvert_exporter": "python",
   "pygments_lexer": "ipython2",
   "version": "2.7.6"
  }
 },
 "nbformat": 4,
 "nbformat_minor": 0
}
