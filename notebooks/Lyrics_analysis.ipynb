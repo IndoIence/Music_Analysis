{
 "cells": [
  {
   "cell_type": "raw",
   "source": [
    "Analysis for plomien 81"
   ],
   "metadata": {
    "collapsed": false,
    "pycharm": {
     "name": ""
    }
   }
  },
  {
   "cell_type": "code",
   "execution_count": 1,
   "outputs": [],
   "source": [
    "import pickle\n",
    "import spacy\n",
    "import nbimporter\n",
    "from Analysis_imports import clean_song_text\n",
    "from functools import reduce\n",
    "from itertools import chain"
   ],
   "metadata": {
    "collapsed": false,
    "ExecuteTime": {
     "start_time": "2023-07-31T19:22:39.918015Z",
     "end_time": "2023-07-31T19:22:42.343925Z"
    }
   }
  },
  {
   "cell_type": "code",
   "execution_count": 2,
   "outputs": [],
   "source": [
    "scraped_data_prefix = '../scraped_data/Genius/'\n",
    "prefix_small_art = '../scraped_data/Genius/small_artists/'\n",
    "with open(prefix_small_art + 'Płomień \\'81', 'rb') as f:\n",
    "    artist = pickle.load(f)\n",
    "songs_lyrics = [clean_song_text(song.lyrics) for song in artist.songs]\n"
   ],
   "metadata": {
    "collapsed": false,
    "ExecuteTime": {
     "start_time": "2023-07-31T19:22:43.048990Z",
     "end_time": "2023-07-31T19:22:43.134473Z"
    }
   }
  },
  {
   "cell_type": "code",
   "execution_count": null,
   "outputs": [],
   "source": [
    "def count_words_many_songs(songs_list):\n",
    "    return set(chain(*songs_list))\n",
    "len(count_words_many_songs(artist.songs))"
   ],
   "metadata": {
    "collapsed": false
   }
  },
  {
   "cell_type": "code",
   "execution_count": 5,
   "outputs": [
    {
     "data": {
      "text/plain": "['uroki',\n 'miasta',\n 'których',\n 'jest',\n 'mnóstwo',\n 'wiem',\n 'jaki',\n 'jestem,',\n 'bo',\n 'patrze',\n 'w',\n 'lustro',\n 'i',\n 'wiem',\n 'jakie',\n 'jest',\n 'miasto,',\n 'bo',\n 'w',\n 'nim',\n 'żyję',\n 'ursynów',\n 'lokalizacja',\n 'z',\n 'tym',\n 'się',\n 'nie',\n 'kryję',\n 'rąk',\n 'nie',\n 'umyje,',\n 'kiedy',\n 'nie',\n 'trzeba',\n 'wiem',\n 'kto',\n 'jest',\n 'wróg,',\n 'a',\n 'kto',\n 'kolega',\n 'komu',\n 'ufać',\n 'warto,',\n 'a',\n 'komu',\n 'nie',\n 'koniecznie',\n 'miasto',\n 'z',\n 'jednej',\n 'strony',\n 'spoko',\n 'z',\n 'drugiej',\n 'niebezpiecznie',\n 'nie',\n 'nosze',\n 'maski',\n 'nie',\n 'czekam',\n 'na',\n 'oklaski',\n 'lubię',\n 'fajne',\n 'dupy',\n 'i',\n 'czarnej',\n 'płyty',\n 'trzaski',\n 'domowe',\n 'imprezy',\n 'i',\n 'imprezy',\n 'w',\n 'klubie',\n 'to',\n 'właśnie',\n 'lubię',\n 'to',\n 'właśnie',\n 'lubię',\n 'w',\n 'mieście',\n 'się',\n 'nie',\n 'zgubie,',\n 'to',\n 'jasne,',\n 'jak',\n 'płomień',\n 'który',\n 'zawsze',\n 'będzie',\n 'ogrzewał',\n 'twoje',\n 'skronie',\n 'tak,',\n 'jak',\n 'jest',\n 'miasto',\n 'są',\n 'jego',\n 'uroki',\n 'nigdy',\n 'wille,',\n 'od',\n 'początku',\n 'betonowe',\n 'bloki',\n 'problemów',\n 'potoki',\n 'płynące',\n 'właśnie',\n 'tutaj',\n 'temat',\n 'jest',\n 'poważny,',\n 'więc',\n 'weź',\n 'się',\n 'nie',\n 'wygłupiaj',\n 'weź',\n 'się',\n 'skoncentruj',\n 'właśnie',\n 'nad',\n 'tym',\n 'to',\n 'nie',\n 'fikcja,',\n 'to',\n 'są',\n 'fakty',\n 'tu',\n 'mam',\n 'swoje',\n 'miejsca',\n 'swoje',\n 'sprawy',\n 'i',\n 'przejścia',\n 'osobowość',\n 'która',\n 'kształci',\n 'rzeczywistość',\n 'miejska',\n 'tu',\n 'mieszkam',\n 'w',\n 'bloku',\n 'zamieszkując',\n 'mały',\n 'pokój',\n 'tu',\n 'jestem',\n 'od',\n 'początku',\n 'od',\n 'pierwszych',\n 'moich',\n 'kroków',\n 'na',\n 'progu',\n 'tego',\n 'miasta',\n 'no',\n 'i',\n 'jego',\n 'uroków',\n 'nieznanych',\n 'kolei',\n 'losu,',\n 'które',\n 'budzą',\n 'niepokój',\n 'wrogów',\n 'których',\n 'mnóstwo',\n 'wśród',\n 'szarych',\n 'ulic',\n 'dużo',\n 'hip-hopu,',\n 'który',\n 'nerwy',\n 'moje',\n 'tłumi',\n 'spokój',\n 'stawiam',\n 'opór,',\n 'nie',\n 'chce',\n 'się',\n 'podporządkować',\n 'wielka',\n 'metropolia,',\n 'która',\n 'tajemnice',\n 'chowa',\n 'zobacz',\n 'to',\n 'miasto',\n 'na',\n 'które',\n 'płomień',\n 'świeci',\n 'nie',\n 'dla',\n 'bananowych',\n 'dzieci',\n 'to',\n 'podwórkowi',\n 'poeci',\n 'dwóch',\n 'kolesi',\n 'spoko',\n 'bez',\n 'stwarzania',\n 'pozorów',\n 'uliczników,',\n 'z',\n 'których',\n 'niektórzy',\n 'są',\n 'nimi',\n 'z',\n 'wyboru',\n 'wydając',\n 'pieniądze',\n 'zajebane',\n 'rodzicom',\n 'wszędzie',\n 'się',\n 'tym',\n 'szczycą,',\n 'że',\n 'niby',\n 'żyją',\n 'ulicą',\n 'to',\n 'codziennie',\n 'oglądam,',\n 'tak',\n 'właśnie',\n 'to',\n 'wygląda',\n 'różne',\n 'grupy',\n 'społeczne',\n 'o',\n 'różnych',\n 'poglądach',\n 'spoglądam',\n 'na',\n 'ludzi',\n 'podobnych',\n 'do',\n 'siebie,',\n 'jak',\n 'klony',\n 'i',\n 'patrzę',\n 'na',\n 'to',\n 'miasto,',\n 'które',\n 'zbiera',\n 'plony',\n 'you',\n 'might',\n 'also',\n 'like',\n 'mieszkam',\n 'w',\n 'mieście',\n 'to',\n 'właśnie',\n 'lubię,',\n 'to,',\n 'to',\n 'właśnie',\n 'lubię',\n 'mieszkam',\n 'w',\n 'mieście',\n 'to',\n 'właśnie',\n 'lubię,',\n 'to,',\n 'to',\n 'właśnie',\n 'lubię',\n 'mieszkam',\n 'w',\n 'mieście',\n 'i',\n 'znam',\n 'jego',\n 'uroki',\n 'one',\n 'nie',\n 'przemijają',\n 'łatwo,',\n 'jak',\n 'obłoki',\n 'jest',\n 'ich',\n 'mnóstwo',\n 'nawet',\n 'nie',\n 'da',\n 'się',\n 'wyliczyć',\n 'działasz',\n 'sam,',\n 'albo',\n 'na',\n 'znajomość',\n 'liczysz',\n 'siedzisz',\n 'w',\n 'ciszy,',\n 'albo',\n 'spokój',\n 'niszczysz',\n 'nigdy',\n 'nie',\n 'wiesz',\n 'człowieku,',\n 'co',\n 'w',\n 'trawie',\n 'piszczy',\n 'ile',\n 'marzeń',\n 'się',\n 'ziści,',\n 'ile',\n 'w',\n 'gruzach',\n 'legnie',\n 'wiele',\n 'ludzi',\n 'nawet',\n 'nie',\n 'wie',\n 'dokąd',\n 'biegnie',\n 'czy',\n 'potrzebnie,',\n 'czy',\n 'to',\n 'w',\n 'ogóle',\n 'ma',\n 'sens',\n 'przecież',\n 'lepsza',\n 'willa,',\n 'posiadłość',\n 'no',\n 'i',\n 'basen',\n 'a',\n 'nie',\n 'prawdziwe',\n 'uczucia',\n 'i',\n 'czyste',\n 'chęci',\n 'ale',\n 'tak',\n 'już',\n 'było,',\n 'jest,',\n 'będzie',\n '-',\n 'świat',\n 'się',\n 'kręci',\n 'pędzi',\n 'do',\n 'przodu',\n 'i',\n 'nigdy',\n 'nie',\n 'przestanie',\n 'naszych',\n 'twarzy',\n 'nie',\n 'zobaczysz',\n 'na',\n 'ekranie',\n 'najważniejsze',\n 'jest',\n 'granie',\n 'i',\n 'to',\n 'na',\n 'zawsze',\n 'moje',\n 'miasto,',\n 'na',\n 'które',\n 'co',\n 'dzień',\n 'patrzę',\n 'z',\n 'chłopakami',\n 'już',\n 'od',\n 'dawna',\n 'piątkę',\n 'przybito',\n 'płomień',\n '81',\n 'bistro',\n 'się',\n 'na',\n 'incognito',\n 'to',\n 'nie',\n 'wszystko,',\n 'jeszcze',\n 'wiele',\n 'moich',\n 'ludzi',\n 'ja',\n 'się',\n 'budzę,',\n 'bo',\n 'miasto',\n 'tez',\n 'się',\n 'budzi',\n '[zwrotka']"
     },
     "execution_count": 5,
     "metadata": {},
     "output_type": "execute_result"
    }
   ],
   "source": [
    "clean_song_text(artist.songs[21].lyrics)"
   ],
   "metadata": {
    "collapsed": false,
    "ExecuteTime": {
     "start_time": "2023-07-31T19:19:35.597508Z",
     "end_time": "2023-07-31T19:19:35.610769Z"
    }
   }
  },
  {
   "cell_type": "code",
   "execution_count": 7,
   "outputs": [
    {
     "data": {
      "text/plain": "'Zdechły Osa'"
     },
     "execution_count": 7,
     "metadata": {},
     "output_type": "execute_result"
    }
   ],
   "source": [
    "with open(prefix_small_art + 'Zdechły Osa', 'rb') as f:\n",
    "    artist = pickle.load(f)\n",
    "artist.name"
   ],
   "metadata": {
    "collapsed": false,
    "ExecuteTime": {
     "start_time": "2023-07-31T19:21:09.358895Z",
     "end_time": "2023-07-31T19:21:09.388289Z"
    }
   }
  },
  {
   "cell_type": "code",
   "execution_count": 5,
   "outputs": [
    {
     "data": {
      "text/plain": "152405"
     },
     "execution_count": 5,
     "metadata": {},
     "output_type": "execute_result"
    }
   ],
   "source": [
    "from Analysis_imports import count_words_in_lyrics\n",
    "lyrics = [song.lyrics for song in artist.songs]\n",
    "count_words_in_lyrics(lyrics)"
   ],
   "metadata": {
    "collapsed": false,
    "ExecuteTime": {
     "start_time": "2023-07-31T19:24:29.027804Z",
     "end_time": "2023-07-31T19:24:29.074582Z"
    }
   }
  },
  {
   "cell_type": "markdown",
   "source": [],
   "metadata": {
    "collapsed": false
   }
  }
 ],
 "metadata": {
  "kernelspec": {
   "display_name": "Python 3",
   "language": "python",
   "name": "python3"
  },
  "language_info": {
   "codemirror_mode": {
    "name": "ipython",
    "version": 2
   },
   "file_extension": ".py",
   "mimetype": "text/x-python",
   "name": "python",
   "nbconvert_exporter": "python",
   "pygments_lexer": "ipython2",
   "version": "2.7.6"
  }
 },
 "nbformat": 4,
 "nbformat_minor": 0
}
